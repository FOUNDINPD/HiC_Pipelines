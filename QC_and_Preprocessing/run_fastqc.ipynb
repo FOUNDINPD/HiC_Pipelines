{
 "cells": [
  {
   "cell_type": "markdown",
   "metadata": {},
   "source": [
    "# Run Fastqc for HiC Samples\n",
    "- **Author** - Frank Grenn\n",
    "- **Date Started** - November 2019\n",
    "- **Quick Description:** code to generate a swarm file to run all samples through fastqc"
   ]
  },
  {
   "cell_type": "code",
   "execution_count": null,
   "metadata": {},
   "outputs": [],
   "source": [
    "import os\n",
    "from os import listdir\n",
    "from pathlib import Path\n",
    "import pandas as pd\n"
   ]
  },
  {
   "cell_type": "markdown",
   "metadata": {},
   "source": [
    "# Setup for Input File Directory with this format:\n",
    "\n",
    "```\n",
    "|-ParentDirectory\n",
    "|   |-sample1\n",
    "|   |   |-sample1_R1_001.fastq.gz\n",
    "|   |   |-sample1_R2_001.fastq.gz\n",
    "|   |-sample2\n",
    "|   |   |-sample2_R1_001.fastq.gz\n",
    "|   |   |-sample2_R2_001.fastq.gz\n",
    "|   |-sample3\n",
    "|   |   |-sample3_R1_001.fastq.gz\n",
    "|   |   |-sample3_R2_001.fastq.gz\n",
    "        \n",
    "```\n",
    "\n",
    "\n",
    "## Output format:\n",
    "\n",
    "```\n",
    "|-fastqc\n",
    "|   |-sample1\n",
    "|   |   |-sample1_R1_001.fastqc.html\n",
    "|   |   |-sample1_R1_001.fastqc.zip\n",
    "|   |   |-sample1_R2_001.fastqc.html\n",
    "|   |   |-sample1_R2_001.fastqc.zip\n",
    "|   |-sample2\n",
    "|   |   |-sample2_R1_001.fastqc.html\n",
    "|   |   |-sample2_R1_001.fastqc.zip\n",
    "|   |   |-sample2_R2_001.fastqc.html\n",
    "|   |   |-sample2_R2_001.fastqc.zip\n",
    "|   |-sample3\n",
    "|   |   |-sample3_R1_001.fastqc.html\n",
    "|   |   |-sample3_R1_001.fastqc.zip\n",
    "|   |   |-sample3_R2_001.fastqc.html\n",
    "|   |   |-sample3_R2_001.fastqc.zip\n",
    "        \n",
    "```"
   ]
  },
  {
   "cell_type": "code",
   "execution_count": null,
   "metadata": {},
   "outputs": [],
   "source": [
    "SAMPLE_DIR=\"/path/to/ParentDirectory\"#where ParentDirectory looks like what is shown above\n",
    "FASTQC_DIR=\"/path/to/fastqc\"#for the output\n",
    "SCRIPT_DIR=\"/path/to/directory/for/scripts\"\n"
   ]
  },
  {
   "cell_type": "code",
   "execution_count": null,
   "metadata": {},
   "outputs": [],
   "source": [
    "filelist = listdir(SAMPLE_DIR)"
   ]
  },
  {
   "cell_type": "code",
   "execution_count": null,
   "metadata": {},
   "outputs": [],
   "source": [
    "print(filelist)"
   ]
  },
  {
   "cell_type": "code",
   "execution_count": null,
   "metadata": {},
   "outputs": [],
   "source": [
    "#only include directories (not files)\n",
    "sample_directories = [ name for name in os.listdir(SAMPLE_DIR) if os.path.isdir(os.path.join(SAMPLE_DIR, name)) ]\n",
    "print(len(sample_directories))\n",
    "print(sample_directories)"
   ]
  },
  {
   "cell_type": "code",
   "execution_count": null,
   "metadata": {},
   "outputs": [],
   "source": [
    "#make sample directories\n",
    "for sample in sample_directories:\n",
    "    Path(\"{}/{}\".format(FASTQC_DIR,sample)).mkdir(parents=True, exist_ok=True)"
   ]
  },
  {
   "cell_type": "code",
   "execution_count": null,
   "metadata": {},
   "outputs": [],
   "source": []
  },
  {
   "cell_type": "code",
   "execution_count": null,
   "metadata": {},
   "outputs": [],
   "source": [
    "#generate the swarm file \n",
    "out_file = open(\"{}/run_fastqc.swarm\".format(SCRIPT_DIR),'w')\n",
    "for sample in sample_directories:\n",
    "    print(\"fastqc -o {}/{} -f fastq {}/{}/{}_R1_001.fastq.gz {}/{}/{}_R2_001.fastq.gz \\n\".format(FASTQC_DIR,sample,SAMPLE_DIR,sample,sample,SAMPLE_DIR,sample,sample),file=out_file)\n",
    "    \n",
    "out_file.close()"
   ]
  },
  {
   "cell_type": "code",
   "execution_count": null,
   "metadata": {},
   "outputs": [],
   "source": [
    "#run the swarm file on biowulf\n",
    "print(f\"swarm -f {SCRIPT_DIR}/run_fastqc.swarm --module fastqc --time 2-00:00:00\")"
   ]
  }
 ],
 "metadata": {
  "kernelspec": {
   "display_name": "Python 3",
   "language": "python",
   "name": "python3"
  },
  "language_info": {
   "codemirror_mode": {
    "name": "ipython",
    "version": 3
   },
   "file_extension": ".py",
   "mimetype": "text/x-python",
   "name": "python",
   "nbconvert_exporter": "python",
   "pygments_lexer": "ipython3",
   "version": "3.6.7"
  }
 },
 "nbformat": 4,
 "nbformat_minor": 4
}
