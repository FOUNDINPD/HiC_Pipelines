{
 "cells": [
  {
   "cell_type": "markdown",
   "metadata": {},
   "source": [
    "# Combine HiC Sample Lane Fastqs\n",
    "- **Author** - Frank Grenn\n",
    "- **Date Started** - November 2019\n",
    "- **Quick Description:** code to pull down sample files from google cloud and combine the lanes for each sample. So each sample will have two read fastqs in the end. runs on biowulf"
   ]
  },
  {
   "cell_type": "code",
   "execution_count": null,
   "metadata": {},
   "outputs": [],
   "source": [
    "TEMPDIR_OUT=\"/path/to/temp_fastqs\" #directory that will contain the combined lane fastqs\n",
    "LANE_FASTQ_DIR=TEMPDIR_OUT+\"/HICS\" #directory we will copy all separate lane files to "
   ]
  },
  {
   "cell_type": "code",
   "execution_count": null,
   "metadata": {},
   "outputs": [],
   "source": [
    "import os\n",
    "from os import listdir\n",
    "from pathlib import Path\n",
    "import pandas as pd\n"
   ]
  },
  {
   "cell_type": "markdown",
   "metadata": {},
   "source": [
    "### pull down the files"
   ]
  },
  {
   "cell_type": "code",
   "execution_count": null,
   "metadata": {},
   "outputs": [],
   "source": [
    "print(f\"gsutil -m cp -r gs://foundin-raw-assay/ASSAYS/HICS {TEMPDIR_OUT}\")"
   ]
  },
  {
   "cell_type": "markdown",
   "metadata": {},
   "source": [
    "### list out the files and check how many we have"
   ]
  },
  {
   "cell_type": "code",
   "execution_count": null,
   "metadata": {},
   "outputs": [],
   "source": [
    "filelist = listdir(LANE_FASTQ_DIR)"
   ]
  },
  {
   "cell_type": "code",
   "execution_count": null,
   "metadata": {},
   "outputs": [],
   "source": [
    "print(len(filelist))\n",
    "print(filelist[0:10])"
   ]
  },
  {
   "cell_type": "markdown",
   "metadata": {},
   "source": [
    "### use some identifier in the sample file names to get unique names"
   ]
  },
  {
   "cell_type": "code",
   "execution_count": null,
   "metadata": {},
   "outputs": [],
   "source": [
    "unique = [s for s in filelist if \"L001_R1\" in s]"
   ]
  },
  {
   "cell_type": "code",
   "execution_count": null,
   "metadata": {},
   "outputs": [],
   "source": [
    "print(len(unique))\n",
    "print(unique[0:10])"
   ]
  },
  {
   "cell_type": "code",
   "execution_count": null,
   "metadata": {},
   "outputs": [],
   "source": [
    "sample_names = [x.replace(\"_L001_R1_001.fastq.gz\",\"\") for x in unique]"
   ]
  },
  {
   "cell_type": "code",
   "execution_count": null,
   "metadata": {},
   "outputs": [],
   "source": [
    "print(len(sample_names))\n",
    "print(sample_names[0:10])"
   ]
  },
  {
   "cell_type": "code",
   "execution_count": null,
   "metadata": {},
   "outputs": [],
   "source": [
    "def format_combine_command(sample,read):\n",
    "    return f\"cat {LANE_FASTQ_DIR}/{sample}*_{read}_001.fastq.gz > {TEMPDIR_OUT}/{sample}/{sample}_{read}_001.fastq.gz\".format(LANE_FASTQ_DIR,TEMPDIR_OUT)"
   ]
  },
  {
   "cell_type": "markdown",
   "metadata": {},
   "source": [
    "### (optional) subset for testing"
   ]
  },
  {
   "cell_type": "code",
   "execution_count": null,
   "metadata": {},
   "outputs": [],
   "source": [
    "sample_names = sample_names[0:2]\n",
    "print(sample_names)"
   ]
  },
  {
   "cell_type": "markdown",
   "metadata": {},
   "source": [
    "### make directories for all samples and then generate the swarm file to combine lanes"
   ]
  },
  {
   "cell_type": "code",
   "execution_count": null,
   "metadata": {},
   "outputs": [],
   "source": [
    "for sample in sample_names:\n",
    "    Path(\"{}/{}\".format(TEMPDIR_OUT,sample)).mkdir(parents=True, exist_ok=True)"
   ]
  },
  {
   "cell_type": "code",
   "execution_count": null,
   "metadata": {},
   "outputs": [],
   "source": [
    "\n",
    "out_file = open(\"{}/combine_samples.swarm\".format(TEMPDIR_OUT),'w')\n",
    "for sample in sample_names:\n",
    "    print(sample)\n",
    "    print(format_combine_command(sample,\"R1\") + '\\n', file=out_file)\n",
    "    print(format_combine_command(sample,\"R2\") + '\\n' , file=out_file)\n",
    "    \n"
   ]
  },
  {
   "cell_type": "code",
   "execution_count": null,
   "metadata": {},
   "outputs": [],
   "source": [
    "!swarm -f {TEMPDIR_OUT}/combine_samples.swarm"
   ]
  },
  {
   "cell_type": "code",
   "execution_count": null,
   "metadata": {},
   "outputs": [],
   "source": []
  }
 ],
 "metadata": {
  "kernelspec": {
   "display_name": "Python 3",
   "language": "python",
   "name": "python3"
  },
  "language_info": {
   "codemirror_mode": {
    "name": "ipython",
    "version": 3
   },
   "file_extension": ".py",
   "mimetype": "text/x-python",
   "name": "python",
   "nbconvert_exporter": "python",
   "pygments_lexer": "ipython3",
   "version": "3.6.7"
  }
 },
 "nbformat": 4,
 "nbformat_minor": 4
}
