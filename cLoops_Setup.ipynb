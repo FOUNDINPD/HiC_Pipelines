{
 "cells": [
  {
   "cell_type": "markdown",
   "metadata": {},
   "source": [
    "# Setup cLoops for annotating loops in HiC data processed with Juicer or HiCPro"
   ]
  },
  {
   "cell_type": "markdown",
   "metadata": {},
   "source": [
    "notebook by Frank Grenn  \n",
    "\n",
    "juicer pipeline by Aiden lab:   \n",
    "[juicer github](https://github.com/aidenlab/juicer)  \n",
    "HiCPro by Nicolas Servant  \n",
    "    [HiCPro github](https://github.com/nservant/HiC-Pro)  \n",
    "cLoops pipeline by YaqiangCao:  \n",
    "[cLoops github](https://github.com/YaqiangCao/cLoops)\n",
    "\n"
   ]
  },
  {
   "cell_type": "code",
   "execution_count": 1,
   "metadata": {},
   "outputs": [],
   "source": [
    "USERDIR=\"/somepath/$USER\" #directory containing conda directory which will hold the custom python environment"
   ]
  },
  {
   "cell_type": "markdown",
   "metadata": {},
   "source": [
    "## (1) Create environment for cLoops"
   ]
  },
  {
   "cell_type": "code",
   "execution_count": 9,
   "metadata": {},
   "outputs": [
    {
     "name": "stdout",
     "output_type": "stream",
     "text": [
      "cd /data/$USER\n"
     ]
    }
   ],
   "source": [
    "print(\"cd {}\".format(USERDIR))"
   ]
  },
  {
   "cell_type": "code",
   "execution_count": 2,
   "metadata": {},
   "outputs": [
    {
     "name": "stdout",
     "output_type": "stream",
     "text": [
      "source /somepath/$USER/conda/etc/profile.d/conda.sh\n",
      "conda activate base\n",
      "which python\n",
      "conda update conda\n",
      "conda clean --all --yes\n"
     ]
    }
   ],
   "source": [
    "print(\"source {}/conda/etc/profile.d/conda.sh\".format(USERDIR))\n",
    "print(\"conda activate base\")\n",
    "print(\"which python\")\n",
    "print(\"conda update conda\")\n",
    "print(\"conda clean --all --yes\")"
   ]
  },
  {
   "cell_type": "code",
   "execution_count": 8,
   "metadata": {},
   "outputs": [
    {
     "name": "stdout",
     "output_type": "stream",
     "text": [
      "cd temp\n",
      "git clone https://github.com/YaqiangCao/cLoops\n",
      "cd cLoops\n",
      "conda create -n cLoops --file cLoops_env.yaml\n"
     ]
    }
   ],
   "source": [
    "print(\"cd temp\")\n",
    "print(\"git clone https://github.com/YaqiangCao/cLoops\")\n",
    "print(\"cd cLoops\")\n",
    "print(\"conda env create -n cLoops --file cLoops_env.yaml\")"
   ]
  },
  {
   "cell_type": "markdown",
   "metadata": {},
   "source": [
    "---\n",
    "### troubleshooting:\n",
    "if this fails for the ```joblib``` package then go into cLoops_env.yaml, delete the joblib line and rerun the ```conda env create -n cLoops --file cLoops_env.yaml``` command above\n",
    "\n",
    "then run:"
   ]
  },
  {
   "cell_type": "code",
   "execution_count": 9,
   "metadata": {},
   "outputs": [
    {
     "name": "stdout",
     "output_type": "stream",
     "text": [
      "conda activate cLoops\n",
      "which pip\n",
      "pip install joblib\n"
     ]
    }
   ],
   "source": [
    "print(\"conda activate cLoops\")\n",
    "print(\"which pip\")\n",
    "print(\"pip install joblib\")"
   ]
  },
  {
   "cell_type": "markdown",
   "metadata": {},
   "source": [
    "that should fix it (although joblib is already on biowulf...)\n",
    "\n",
    "---"
   ]
  },
  {
   "cell_type": "code",
   "execution_count": 1,
   "metadata": {},
   "outputs": [
    {
     "name": "stdout",
     "output_type": "stream",
     "text": [
      "conda activate cLoops\n",
      "python setup.py install\n"
     ]
    }
   ],
   "source": [
    "print(\"conda activate cLoops\")\n",
    "print(\"python setup.py install\")\n"
   ]
  },
  {
   "cell_type": "markdown",
   "metadata": {},
   "source": [
    "---\n",
    "### troubleshooting:\n",
    "if this fails you may need to set the PYTHONPATH environmental variable and add --prefix to the install command\n",
    "    "
   ]
  },
  {
   "cell_type": "code",
   "execution_count": 3,
   "metadata": {},
   "outputs": [
    {
     "name": "stdout",
     "output_type": "stream",
     "text": [
      "export PYTHONPATH=/somepath/$USER/conda/envs/cLoops/lib/python2.7/site-packages/\n",
      "python setup.py install --prefix=/somepath/$USER/conda/envs/cLoops\n"
     ]
    }
   ],
   "source": [
    "print(\"export PYTHONPATH={}/conda/envs/cLoops/lib/python2.7/site-packages/\".format(USERDIR))\n",
    "print(\"python setup.py install --prefix={}/conda/envs/cLoops\".format(USERDIR))"
   ]
  },
  {
   "cell_type": "markdown",
   "metadata": {},
   "source": [
    "---"
   ]
  },
  {
   "cell_type": "markdown",
   "metadata": {},
   "source": [
    "## (2) Write bash job script to convert the output from Juicer (a) or HiC-Pro (b) to a bedpe file for cLoops\n",
    "\n"
   ]
  },
  {
   "cell_type": "markdown",
   "metadata": {},
   "source": [
    "### (a) Juicer  \n",
    "uses processed HiC data from the juicer pipeline in [long format](https://github.com/aidenlab/juicer/wiki/Pre#file-format). Usually named \"merged_nodups.txt\" "
   ]
  },
  {
   "cell_type": "code",
   "execution_count": 4,
   "metadata": {},
   "outputs": [],
   "source": [
    "SAMPLES_DIR=\"/path/to/juicer/sample/output\"\n",
    "SAMPLE=\"35236\"\n",
    "INPUT_FILE=\"{}/{}/aligned/merged_nodups.txt\".format(SAMPLES_DIR,SAMPLE)\n",
    "BEDPE_FILE=\"{}/cLoops/{}/{}_PET.bedpe\".format(SAMPLES_DIR,SAMPLE,SAMPLE) #bedpe file to create"
   ]
  },
  {
   "cell_type": "code",
   "execution_count": null,
   "metadata": {},
   "outputs": [],
   "source": [
    "%%bash -s \"$SAMPLES_DIR\" \"$SAMPLE\"\n",
    "SAMPLES_DIR=${1}\n",
    "SAMPLE=${2}\n",
    "mkdir ${SAMPLES_DIR}/cLoops\n",
    "mkdir ${SAMPLES_DIR}/cLoops/${SAMPLE}"
   ]
  },
  {
   "cell_type": "code",
   "execution_count": 83,
   "metadata": {},
   "outputs": [],
   "source": [
    "with open (\"{}/cLoops/{}/juicerLong2bedpe_{}.sh\".format(SAMPLES_DIR,SAMPLE,SAMPLE), \"w\") as text_file:\n",
    "    print(\"#!/bin/bash \\n\\\n",
    "source {}/conda/etc/profile.d/conda.sh \\n\\\n",
    "module load python \\n\\\n",
    "conda activate cLoops \\n\\\n",
    "export PYTHONPATH={}/conda/envs/cLoops/lib/python2.7/site-packages/ \\n\\\n",
    "{}/temp/cLoops/scripts/juicerLong2bedpe.py -i {} -o {} \\n\\\n",
    "echo 'done'\".format(USERDIR, USERDIR, USERDIR, INPUT_FILE, BEDPE_FILE), file = text_file)\n",
    "    text_file.close()"
   ]
  },
  {
   "cell_type": "code",
   "execution_count": 5,
   "metadata": {},
   "outputs": [
    {
     "name": "stdout",
     "output_type": "stream",
     "text": [
      "sbatch --mem=200g --cpus-per-task=10 --mail-type=ALL --time=24:00:00 /path/to/juicer/sample/output/cLoops/35236/juicerLong2bedpe_35236.sh\n"
     ]
    }
   ],
   "source": [
    "print(\"sbatch --mem=200g --cpus-per-task=10 --mail-type=ALL --time=24:00:00 {}/cLoops/{}/juicerLong2bedpe_{}.sh\".format(SAMPLES_DIR,SAMPLE,SAMPLE))"
   ]
  },
  {
   "cell_type": "markdown",
   "metadata": {},
   "source": [
    "### (b) HiC-Pro  \n",
    "uses processed HiC data from the HiCPro pipeline saved as a .allValidPairs file"
   ]
  },
  {
   "cell_type": "code",
   "execution_count": 6,
   "metadata": {},
   "outputs": [],
   "source": [
    "SAMPLES_DIR=\"/path/to/HiCPro/sample/output\"\n",
    "SAMPLE=\"35236\"\n",
    "INPUT_FILE=\"{}/{}/hic_results/data/{}/{}.allValidPairs\".format(SAMPLES_DIR,SAMPLE,SAMPLE,SAMPLE)\n",
    "BEDPE_FILE=\"{}/cLoops/{}/{}.allValidPairs.bedpe.gz\".format(SAMPLES_DIR,SAMPLE,SAMPLE) #bedpe file to create\n"
   ]
  },
  {
   "cell_type": "code",
   "execution_count": null,
   "metadata": {},
   "outputs": [],
   "source": [
    "%%bash -s \"$SAMPLES_DIR\" \"$SAMPLE\"\n",
    "SAMPLES_DIR=${1}\n",
    "SAMPLE=${2}\n",
    "mkdir ${SAMPLES_DIR}/cLoops\n",
    "mkdir ${SAMPLES_DIR}/cLoops/${SAMPLE}"
   ]
  },
  {
   "cell_type": "code",
   "execution_count": null,
   "metadata": {},
   "outputs": [],
   "source": [
    "with open (\"{}/cLoops/{}/HiCProOutput2bedpe_{}.sh\".format(SAMPLES_DIR,SAMPLE,SAMPLE), \"w\") as text_file:\n",
    "    print(\"#!/bin/bash \\n\\\n",
    "source {}/conda/etc/profile.d/conda.sh \\n\\\n",
    "module load python \\n\\\n",
    "conda activate cLoops \\n\\\n",
    "export PYTHONPATH={}/conda/envs/cLoops/lib/python2.7/site-packages/ \\n\\\n",
    "hicpropairs2bedpe -o {}/cLoops/{} {} \\n\\\n",
    "echo 'done'\".format(USERDIR,USERDIR,SAMPLES_DIR,SAMPLE, INPUT_FILE), file = text_file)\n",
    "    text_file.close()"
   ]
  },
  {
   "cell_type": "code",
   "execution_count": 7,
   "metadata": {},
   "outputs": [
    {
     "name": "stdout",
     "output_type": "stream",
     "text": [
      "sbatch --mem=200g --cpus-per-task=10 --mail-type=ALL --time=24:00:00 /path/to/HiCPro/sample/output/cLoops/35236/HiCProOutput2bedpe_35236.sh\n"
     ]
    }
   ],
   "source": [
    "print(\"sbatch --mem=200g --cpus-per-task=10 --mail-type=ALL --time=24:00:00 {}/cLoops/{}/HiCProOutput2bedpe_{}.sh\".format(SAMPLES_DIR,SAMPLE,SAMPLE))"
   ]
  },
  {
   "cell_type": "markdown",
   "metadata": {},
   "source": [
    "## (3) Write bash job script to run cLoops"
   ]
  },
  {
   "cell_type": "code",
   "execution_count": 85,
   "metadata": {},
   "outputs": [],
   "source": [
    "with open (\"{}/cLoops/{}/run_cLoops_{}.sh\".format(SAMPLES_DIR,SAMPLE,SAMPLE), \"w\") as text_file:\n",
    "    print(\"#!/bin/bash \\n\\\n",
    "source {}/conda/etc/profile.d/conda.sh \\n\\\n",
    "module load python \\n\\\n",
    "conda activate cLoops \\n\\\n",
    "export PYTHONPATH={}/conda/envs/cLoops/lib/python2.7/site-packages/ \\n\\\n",
    "cd {}/cLoops/{} \\n\\\n",
    "cLoops -f {} -o {} -w -j -s -m 3 -plot -p -1 \\n\\\n",
    "echo 'done'\".format(USERDIR, USERDIR, SAMPLES_DIR,SAMPLE,BEDPE_FILE, SAMPLE), file = text_file)\n",
    "    text_file.close()"
   ]
  },
  {
   "cell_type": "code",
   "execution_count": 8,
   "metadata": {},
   "outputs": [
    {
     "name": "stdout",
     "output_type": "stream",
     "text": [
      "sbatch --mem=800g --partition=largemem --cpus-per-task=10 --mail-type=ALL --time=10-0 /path/to/HiCPro/sample/output/cLoops/35236/run_cLoops_35236.sh\n"
     ]
    }
   ],
   "source": [
    "print(\"sbatch --mem=800g --partition=largemem --cpus-per-task=10 --mail-type=ALL --time=10-0 {}/cLoops/{}/run_cLoops_{}.sh\".format(SAMPLES_DIR,SAMPLE,SAMPLE))"
   ]
  },
  {
   "cell_type": "code",
   "execution_count": null,
   "metadata": {},
   "outputs": [],
   "source": []
  }
 ],
 "metadata": {
  "kernelspec": {
   "display_name": "Python 3",
   "language": "python",
   "name": "python3"
  },
  "language_info": {
   "codemirror_mode": {
    "name": "ipython",
    "version": 3
   },
   "file_extension": ".py",
   "mimetype": "text/x-python",
   "name": "python",
   "nbconvert_exporter": "python",
   "pygments_lexer": "ipython3",
   "version": "3.7.3"
  }
 },
 "nbformat": 4,
 "nbformat_minor": 4
}
