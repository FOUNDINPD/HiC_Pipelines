{
 "cells": [
  {
   "cell_type": "markdown",
   "metadata": {},
   "source": [
    "# Compare cLoop Generated Loop Data Overlap Between Samples"
   ]
  },
  {
   "cell_type": "code",
   "execution_count": 8,
   "metadata": {},
   "outputs": [],
   "source": [
    "#directory containing all the sample folders. each sample folder should be named after the sample\n",
    "SAMPLES_DIR=\"/path/with/sample/folders\"\n",
    "#samples we want to compare overlap between in the samples directory\n",
    "SAMPLES=['35233','35234','35235','35236','35237','35238','35239','35240']\n",
    "#path to the conversion script\n",
    "LOOP2BEDPE_SCRIPT=\"/path/to/loop2bedpe.py\"\n",
    "\n",
    "\n",
    "#the single sample to convert if only using one\n",
    "SAMPLE=\"35236\"\n",
    "#1 to only include significant loops in the conversion, 0 for everything\n",
    "SIG=1 "
   ]
  },
  {
   "cell_type": "markdown",
   "metadata": {},
   "source": [
    "## (1) Convert cLoops .loop file to .bedpe format"
   ]
  },
  {
   "cell_type": "code",
   "execution_count": 52,
   "metadata": {},
   "outputs": [],
   "source": []
  },
  {
   "cell_type": "markdown",
   "metadata": {},
   "source": [
    "### (a) for all"
   ]
  },
  {
   "cell_type": "code",
   "execution_count": 9,
   "metadata": {},
   "outputs": [],
   "source": [
    "def formatcmds(this_sample):\n",
    "    this_cmd = 'python {SCRIPT} {PATH}/{SAMPLE}/{SAMPLE}.loop {PATH}/{SAMPLE} {SIG} \\\n",
    "    '\n",
    "    return(this_cmd.format(SCRIPT=LOOP2BEDPE_SCRIPT, PATH=SAMPLES_DIR, SAMPLE=this_sample, SIG=SIG))"
   ]
  },
  {
   "cell_type": "code",
   "execution_count": 56,
   "metadata": {},
   "outputs": [],
   "source": [
    "cmds = [formatcmds(sample_id) for sample_id in SAMPLES]\n",
    "\n",
    "script_file = \"{}/all_loop2bedpe.sh\".format(SAMPLES_DIR)\n",
    "\n",
    "with open(script_file, 'w') as file_handler:\n",
    "    file_handler.write(\"#!/bin/bash\\n\")\n",
    "    for this_cmd in cmds:\n",
    "        file_handler.write(\"{}\\n\".format(this_cmd))"
   ]
  },
  {
   "cell_type": "code",
   "execution_count": 57,
   "metadata": {},
   "outputs": [
    {
     "name": "stdout",
     "output_type": "stream",
     "text": [
      "sbatch --mem=20g --cpus-per-task=2 /data/CARD/HICtemp/no_chrM/cLoops/all_loop2bedpe.sh\n"
     ]
    }
   ],
   "source": [
    "print(\"sbatch --mem=20g --cpus-per-task=2 {}/all_loop2bedpe.sh\".format(SAMPLES_DIR))"
   ]
  },
  {
   "cell_type": "markdown",
   "metadata": {},
   "source": [
    "### (b) for one"
   ]
  },
  {
   "cell_type": "code",
   "execution_count": 3,
   "metadata": {},
   "outputs": [
    {
     "name": "stdout",
     "output_type": "stream",
     "text": [
      "module load python\n",
      "cd /data/CARD/HICtemp/no_chrM/cLoops/35236\n",
      "python /data/LNG/Frank/HiC_project/loop2bedpe.py /data/CARD/HICtemp/no_chrM/cLoops/35236/35236.loop /data/CARD/HICtemp/no_chrM/cLoops 1\n"
     ]
    }
   ],
   "source": [
    "print(\"module load python\")\n",
    "print(\"cd {}/{}\".format(SAMPLES_DIR,SAMPLE))\n",
    "print(\"python {} {}/{}/{}.loop {} 1\".format(LOOP2BEDPE_SCRIPT, SAMPLES_DIR,SAMPLE, SAMPLE, SAMPLES_DIR))"
   ]
  },
  {
   "cell_type": "markdown",
   "metadata": {},
   "source": [
    "## (2) Use bedtools to intersect the bedpe loop files"
   ]
  },
  {
   "cell_type": "markdown",
   "metadata": {},
   "source": [
    "### (a) for all"
   ]
  },
  {
   "cell_type": "code",
   "execution_count": 58,
   "metadata": {},
   "outputs": [],
   "source": [
    "import os\n",
    "for sample in SAMPLES:\n",
    "    os.mkdir(SAMPLES_DIR+'/'+sample+'/overlap')"
   ]
  },
  {
   "cell_type": "code",
   "execution_count": 66,
   "metadata": {},
   "outputs": [],
   "source": [
    "for sample in SAMPLES:\n",
    "    with open(\"{}/{}/overlap/run_overlap.sh\".format(SAMPLES_DIR,sample), 'w') as file_handler:\n",
    "        file_handler.write(\"#!/bin/bash\\n\\\n",
    "        module load bedtools\\n\")\n",
    "        for comp_sample in SAMPLES:\n",
    "            if(sample!=comp_sample):\n",
    "                file_handler.write(\"bedtools pairtopair -a {}/{}/loops.bedpe -b {}/{}/loops.bedpe -type both > \\\n",
    "{}/{}/overlap/{}_overlap_{}.txt\\n\".format(SAMPLES_DIR,sample, SAMPLES_DIR, comp_sample, SAMPLES_DIR, sample, sample, comp_sample) )\n",
    "    os.chmod(\"{}/{}/overlap/run_overlap.sh\".format(SAMPLES_DIR,sample),0o777)\n",
    "        "
   ]
  },
  {
   "cell_type": "code",
   "execution_count": 63,
   "metadata": {},
   "outputs": [],
   "source": [
    "with open(\"{}/all_overlap.swarm\".format(SAMPLES_DIR),'w') as file_handler:\n",
    "    for sample in SAMPLES:\n",
    "        file_handler.write(\"{}/{}/overlap/run_overlap.sh\\n\".format(SAMPLES_DIR, sample))"
   ]
  },
  {
   "cell_type": "code",
   "execution_count": 64,
   "metadata": {},
   "outputs": [
    {
     "name": "stdout",
     "output_type": "stream",
     "text": [
      "swarm -f /data/CARD/HICtemp/no_chrM/cLoops/all_overlap.swarm\n"
     ]
    }
   ],
   "source": [
    "print(\"swarm -f {}/all_overlap.swarm\".format(SAMPLES_DIR))"
   ]
  },
  {
   "cell_type": "markdown",
   "metadata": {},
   "source": [
    "#### organize the data"
   ]
  },
  {
   "cell_type": "markdown",
   "metadata": {},
   "source": [
    "##### get line counts"
   ]
  },
  {
   "cell_type": "code",
   "execution_count": 15,
   "metadata": {},
   "outputs": [
    {
     "name": "stdout",
     "output_type": "stream",
     "text": [
      "        35233   35234   35235   35236   35237   35238   35239   35240\n",
      "35233     NaN  1634.0  1961.0  2062.0  2097.0  2005.0  2129.0  2175.0\n",
      "35234  1634.0     NaN  1288.0  1299.0  1616.0  1558.0  1525.0  1432.0\n",
      "35235  1961.0  1288.0     NaN  2463.0  1829.0  1824.0  1884.0  2214.0\n",
      "35236  2062.0  1299.0  2463.0     NaN  1890.0  1973.0  2014.0  2641.0\n",
      "35237  2097.0  1616.0  1829.0  1890.0     NaN  1987.0  2173.0  2165.0\n",
      "35238  2005.0  1558.0  1824.0  1973.0  1987.0     NaN  2073.0  2009.0\n",
      "35239  2129.0  1525.0  1884.0  2014.0  2173.0  2073.0     NaN  2275.0\n",
      "35240  2175.0  1432.0  2214.0  2641.0  2165.0  2009.0  2275.0     NaN\n"
     ]
    }
   ],
   "source": [
    "import pandas as pd\n",
    "all_data={}\n",
    "for sample in SAMPLES:\n",
    "    comp_data={}\n",
    "    for comp_sample in SAMPLES:\n",
    "        if sample!=comp_sample:\n",
    "            data=pd.read_csv(\"{}/{}/overlap/{}_overlap_{}.txt\".format(SAMPLES_DIR,sample,sample,comp_sample),sep=\"\\t\")\n",
    "            comp_data[comp_sample]=len(data.index)\n",
    "        if sample==comp_sample:\n",
    "            comp_data[comp_sample]=None\n",
    "    all_data[sample]=comp_data\n",
    "    \n",
    "lines_df = pd.DataFrame(data=all_data)\n",
    "print(lines_df)\n",
    "\n",
    "lines_df.to_csv(\"{}/cLoop_overlap_count.csv\".format(SAMPLES_DIR),sep=',')\n"
   ]
  },
  {
   "cell_type": "markdown",
   "metadata": {},
   "source": [
    "##### get percentages  \n",
    "\n",
    "(overlaps between `row sample` and `col sample`) / (number of `col sample` loops)"
   ]
  },
  {
   "cell_type": "code",
   "execution_count": 14,
   "metadata": {},
   "outputs": [
    {
     "name": "stdout",
     "output_type": "stream",
     "text": [
      "1634 loops overlap between 35233 and 35234/3422 35233loops =47.749853887%\n",
      "1961 loops overlap between 35233 and 35235/3422 35233loops =57.305669199%\n",
      "2062 loops overlap between 35233 and 35236/3422 35233loops =60.257159556%\n",
      "2097 loops overlap between 35233 and 35237/3422 35233loops =61.279953244%\n",
      "2005 loops overlap between 35233 and 35238/3422 35233loops =58.591466978%\n",
      "2129 loops overlap between 35233 and 35239/3422 35233loops =62.215078901%\n",
      "2175 loops overlap between 35233 and 35240/3422 35233loops =63.559322034%\n",
      "1634 loops overlap between 35234 and 35233/2518 35234loops =64.892772041%\n",
      "1288 loops overlap between 35234 and 35235/2518 35234loops =51.151707705%\n",
      "1299 loops overlap between 35234 and 35236/2518 35234loops =51.588562351%\n",
      "1616 loops overlap between 35234 and 35237/2518 35234loops =64.177918983%\n",
      "1558 loops overlap between 35234 and 35238/2518 35234loops =61.874503574%\n",
      "1525 loops overlap between 35234 and 35239/2518 35234loops =60.563939635%\n",
      "1432 loops overlap between 35234 and 35240/2518 35234loops =56.870532168%\n",
      "1961 loops overlap between 35235 and 35233/6313 35235loops =31.062886108%\n",
      "1288 loops overlap between 35235 and 35234/6313 35235loops =20.402344369%\n",
      "2463 loops overlap between 35235 and 35236/6313 35235loops =39.014731506%\n",
      "1829 loops overlap between 35235 and 35237/6313 35235loops =28.971962617%\n",
      "1824 loops overlap between 35235 and 35238/6313 35235loops =28.892760969%\n",
      "1884 loops overlap between 35235 and 35239/6313 35235loops =29.843180738%\n",
      "2214 loops overlap between 35235 and 35240/6313 35235loops =35.070489466%\n",
      "2062 loops overlap between 35236 and 35233/4761 35236loops =43.310228943%\n",
      "1299 loops overlap between 35236 and 35234/4761 35236loops =27.284183995%\n",
      "2463 loops overlap between 35236 and 35235/4761 35236loops =51.732829238%\n",
      "1890 loops overlap between 35236 and 35237/4761 35236loops =39.697542533%\n",
      "1973 loops overlap between 35236 and 35238/4761 35236loops =41.440873766%\n",
      "2014 loops overlap between 35236 and 35239/4761 35236loops =42.302037387%\n",
      "2641 loops overlap between 35236 and 35240/4761 35236loops =55.471539593%\n",
      "2097 loops overlap between 35237 and 35233/3367 35237loops =62.280962281%\n",
      "1616 loops overlap between 35237 and 35234/3367 35237loops =47.995247995%\n",
      "1829 loops overlap between 35237 and 35235/3367 35237loops =54.321354321%\n",
      "1890 loops overlap between 35237 and 35236/3367 35237loops =56.133056133%\n",
      "1987 loops overlap between 35237 and 35238/3367 35237loops =59.013959014%\n",
      "2173 loops overlap between 35237 and 35239/3367 35237loops =64.538164538%\n",
      "2165 loops overlap between 35237 and 35240/3367 35237loops =64.300564301%\n",
      "2005 loops overlap between 35238 and 35233/3562 35238loops =56.288601909%\n",
      "1558 loops overlap between 35238 and 35234/3562 35238loops =43.739472207%\n",
      "1824 loops overlap between 35238 and 35235/3562 35238loops =51.207186974%\n",
      "1973 loops overlap between 35238 and 35236/3562 35238loops =55.390230208%\n",
      "1987 loops overlap between 35238 and 35237/3562 35238loops =55.783267827%\n",
      "2073 loops overlap between 35238 and 35239/3562 35238loops =58.197641774%\n",
      "2009 loops overlap between 35238 and 35240/3562 35238loops =56.400898372%\n",
      "2129 loops overlap between 35239 and 35233/3464 35239loops =61.460739030%\n",
      "1525 loops overlap between 35239 and 35234/3464 35239loops =44.024249423%\n",
      "1884 loops overlap between 35239 and 35235/3464 35239loops =54.387990762%\n",
      "2014 loops overlap between 35239 and 35236/3464 35239loops =58.140877598%\n",
      "2173 loops overlap between 35239 and 35237/3464 35239loops =62.730946882%\n",
      "2073 loops overlap between 35239 and 35238/3464 35239loops =59.844110855%\n",
      "2275 loops overlap between 35239 and 35240/3464 35239loops =65.675519630%\n",
      "2175 loops overlap between 35240 and 35233/4313 35240loops =50.428935776%\n",
      "1432 loops overlap between 35240 and 35234/4313 35240loops =33.201947600%\n",
      "2214 loops overlap between 35240 and 35235/4313 35240loops =51.333178762%\n",
      "2641 loops overlap between 35240 and 35236/4313 35240loops =61.233480176%\n",
      "2165 loops overlap between 35240 and 35237/4313 35240loops =50.197078600%\n",
      "2009 loops overlap between 35240 and 35238/4313 35240loops =46.580106654%\n",
      "2275 loops overlap between 35240 and 35239/4313 35240loops =52.747507535%\n",
      "           35233      35234      35235      35236      35237      35238  \\\n",
      "35233        NaN  64.892772  31.062886  43.310229  62.280962  56.288602   \n",
      "35234  47.749854        NaN  20.402344  27.284184  47.995248  43.739472   \n",
      "35235  57.305669  51.151708        NaN  51.732829  54.321354  51.207187   \n",
      "35236  60.257160  51.588562  39.014732        NaN  56.133056  55.390230   \n",
      "35237  61.279953  64.177919  28.971963  39.697543        NaN  55.783268   \n",
      "35238  58.591467  61.874504  28.892761  41.440874  59.013959        NaN   \n",
      "35239  62.215079  60.563940  29.843181  42.302037  64.538165  58.197642   \n",
      "35240  63.559322  56.870532  35.070489  55.471540  64.300564  56.400898   \n",
      "\n",
      "           35239      35240  \n",
      "35233  61.460739  50.428936  \n",
      "35234  44.024249  33.201948  \n",
      "35235  54.387991  51.333179  \n",
      "35236  58.140878  61.233480  \n",
      "35237  62.730947  50.197079  \n",
      "35238  59.844111  46.580107  \n",
      "35239        NaN  52.747508  \n",
      "35240  65.675520        NaN  \n"
     ]
    }
   ],
   "source": [
    "import pandas as pd\n",
    "all_data={}\n",
    "for sample in SAMPLES:\n",
    "    sample_lines = len(pd.read_csv(\"{}/{}/loops.bedpe\".format(SAMPLES_DIR, sample),sep=\"\\t\").index)\n",
    "    \n",
    "    comp_data={}\n",
    "    \n",
    "    for comp_sample in SAMPLES:\n",
    "        if sample!=comp_sample:\n",
    "            data=pd.read_csv(\"{}/{}/overlap/{}_overlap_{}.txt\".format(SAMPLES_DIR,sample,sample,comp_sample),sep=\"\\t\")\n",
    "            overlap_lines=len(data.index)\n",
    "            \n",
    "            comp_data[comp_sample]=overlap_lines/sample_lines*100\n",
    "            string = \"%.9f\" % comp_data[comp_sample]\n",
    "            print(str(overlap_lines)+\" loops overlap between \"+ sample +\" and \" + comp_sample+ \"/\"+ str(sample_lines) +\" \"+ sample +\"loops =\"+ string + \"%\")\n",
    "        if sample==comp_sample:\n",
    "            comp_data[comp_sample]=None\n",
    "    all_data[sample]=comp_data\n",
    "    \n",
    "percent_df = pd.DataFrame(data=all_data)\n",
    "print(percent_df)\n",
    "\n",
    "percent_df.to_csv(\"{}/cLoop_overlap_percent.csv\".format(SAMPLES_DIR),sep=',')"
   ]
  },
  {
   "cell_type": "markdown",
   "metadata": {},
   "source": [
    "### (b) for one"
   ]
  },
  {
   "cell_type": "code",
   "execution_count": 5,
   "metadata": {},
   "outputs": [],
   "source": [
    "SAMPLE1=\"35235\"\n",
    "SAMPLE2=\"35236\""
   ]
  },
  {
   "cell_type": "code",
   "execution_count": 6,
   "metadata": {},
   "outputs": [
    {
     "name": "stdout",
     "output_type": "stream",
     "text": [
      "module load bedtools\n",
      "bedtools pairtopair -a /data/CARD/HICtemp/no_chrM/cLoops/35235/loops.bedpe -b /data/CARD/HICtemp/no_chrM/cLoops/35236/loops.bedpe -type both > /data/CARD/HICtemp/no_chrM/cLoops/35235/overlap/35235_overlap_35236.txt\n"
     ]
    }
   ],
   "source": [
    "print(\"module load bedtools\")\n",
    "print(\"bedtools pairtopair -a {}/{}/loops.bedpe -b {}/{}/loops.bedpe -type both > {}/{}/overlap/{}_overlap_{}.txt\".format(SAMPLES_DIR,SAMPLE1, SAMPLES_DIR, SAMPLE2, SAMPLES_DIR,SAMPLE1,SAMPLE1,SAMPLE2))\n"
   ]
  },
  {
   "cell_type": "code",
   "execution_count": null,
   "metadata": {},
   "outputs": [],
   "source": []
  }
 ],
 "metadata": {
  "kernelspec": {
   "display_name": "Python 3",
   "language": "python",
   "name": "python3"
  },
  "language_info": {
   "codemirror_mode": {
    "name": "ipython",
    "version": 3
   },
   "file_extension": ".py",
   "mimetype": "text/x-python",
   "name": "python",
   "nbconvert_exporter": "python",
   "pygments_lexer": "ipython3",
   "version": "3.7.3"
  }
 },
 "nbformat": 4,
 "nbformat_minor": 4
}
