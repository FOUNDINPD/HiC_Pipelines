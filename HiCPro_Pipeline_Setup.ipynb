{
 "cells": [
  {
   "cell_type": "markdown",
   "metadata": {},
   "source": [
    "# HiCPro Pipeline Setup  \n",
    "notebook by Frank Grenn\n",
    "\n",
    "HiCPro by Nicolas Servant  \n",
    "    [HiCPro paper](https://genomebiology.biomedcentral.com/articles/10.1186/s13059-015-0831-x)  \n",
    "    [HiCPro github](https://github.com/nservant/HiC-Pro)"
   ]
  },
  {
   "cell_type": "code",
   "execution_count": null,
   "metadata": {},
   "outputs": [],
   "source": [
    "#these paths and files need to already exist\n",
    "HICPRO_PATH=\"/path/to/hicpro/2.11.1\" #hicpro installation\n",
    "WRKDIR=\"/path/to/all/output/folders\" #folder that will contain a folder for each sample's HiC-Pro output\n",
    "ANNOTATION_PATH=\"{}/annotation\".format(WRKDIR) #path to folder that will contain files created in step 1\n",
    "CONFIG_FILE=\"{}/config.txt\".format(ANNOTATION_PATH)\n",
    "CONFIG_FILE2=\"{}/config2.txt\".format(ANNOTATION_PATH)\n",
    "REF_GENOME_FASTA=\"path/to/a/Homo_sapiens_assembly38.fasta\" #pulled down from gs://broad-references/hg38/v0/Homo_sapiens_assembly38.fasta\n",
    "\n",
    "#other variables\n",
    "SAMPLE=\"35233\" #identifier for the sample. A folder with this name will be made in WRKDIR\n",
    "RESTRICTION_ENZYME=\"dpnii\" #dpnii=dpni=mboi=sau3ai\n",
    "REF_GENOME=\"hg38\"\n",
    "\n",
    "#these folders will be created by code in this notebook\n",
    "SAMPLE_PATH=\"{}/{}\".format(WRKDIR,SAMPLE)\n",
    "SPLIT_DATA_PATH=\"{}/splits\".format(SAMPLE_PATH)\n",
    "SCRIPT_PATH=\"{}/scripts\".format(SAMPLE_PATH)\n",
    "LOG_PATH=\"{}/logs\".format(SAMPLE_PATH)"
   ]
  },
  {
   "cell_type": "markdown",
   "metadata": {},
   "source": [
    "#### after everything is run directories should look something like this:  \n",
    "starting with `WRKDIR`\n",
    "```\n",
    "|-HiCPro\n",
    "|   |-annotation\n",
    "|   |   |-config.txt\n",
    "|   |   |-config2.txt\n",
    "|   |-SAMPLE1\n",
    "|   |   |-splits\n",
    "|   |   |-scripts\n",
    "|   |   |-logs\n",
    "|   |   |-bowtie_results\n",
    "|   |   |   |-bwt2\n",
    "|   |   |   |-bwt2_global\n",
    "|   |   |   |-bwt2_local\n",
    "|   |   |-hic_results\n",
    "|   |   |   |-data\n",
    "|   |   |   |-matrix\n",
    "|   |   |   |-pic\n",
    "|   |   |   |-stats\n",
    "|   |   |-rawdata\n",
    "|   |-SAMPLE2\n",
    "|   |   |-splits\n",
    "|   |   |-scripts\n",
    "|   |   |-logs\n",
    "|   |   |-bowtie_results\n",
    "|   |   |   |-bwt2\n",
    "|   |   |   |-bwt2_global\n",
    "|   |   |   |-bwt2_local\n",
    "|   |   |-hic_results\n",
    "|   |   |   |-data\n",
    "|   |   |   |-matrix\n",
    "|   |   |   |-pic\n",
    "|   |   |   |-stats\n",
    "|   |   |-rawdata\n",
    "        \n",
    "```"
   ]
  },
  {
   "cell_type": "markdown",
   "metadata": {},
   "source": [
    "# (1) Setup HiCPro Files"
   ]
  },
  {
   "cell_type": "markdown",
   "metadata": {},
   "source": [
    "## (a) generate BED file of restriction fragments after digestion\n",
    "\n",
    "placed in the annotation folder"
   ]
  },
  {
   "cell_type": "code",
   "execution_count": null,
   "metadata": {},
   "outputs": [],
   "source": [
    "print(\"{}/bin/utils/digest_genome.py -r {} -o {}/{}_{}.bed {}\".format(HICPRO_PATH, RESTRICTION_ENZYME,ANNOTATION_PATH, REF_GENOME, RESTRICTION_ENZYME, REF_GENOME_FASTA))"
   ]
  },
  {
   "cell_type": "markdown",
   "metadata": {},
   "source": [
    "optional removal of anything but chr1-22, X and Y"
   ]
  },
  {
   "cell_type": "code",
   "execution_count": null,
   "metadata": {},
   "outputs": [],
   "source": [
    "print(\"mv {}/{}_{}.bed {}/{}_{}_full.bed\".format(ANNOTATION_PATH, REF_GENOME, RESTRICTION_ENZYME,ANNOTATION_PATH, REF_GENOME, RESTRICTION_ENZYME))\n",
    "print(\"grep \\\n",
    "-e chr1$'\\\\t' -e chr2$'\\\\t' -e chr3$'\\\\t' -e chr4$'\\\\t' -e chr5$'\\\\t' \\\n",
    "-e chr6$'\\\\t' -e chr7$'\\\\t' -e chr8$'\\\\t' -e chr9$'\\\\t' -e chr10$'\\\\t' \\\n",
    "-e chr11$'\\\\t' -e chr12$'\\\\t' -e chr13$'\\\\t' -e chr14$'\\\\t' -e chr15$'\\\\t' \\\n",
    "-e chr16$'\\\\t' -e chr17$'\\\\t' -e chr18$'\\\\t' -e chr19$'\\\\t' -e chr20$'\\\\t' \\\n",
    "-e chr21$'\\\\t' -e chr22$'\\\\t' -e chrX$'\\\\t' -e chrY$'\\\\t' \\\n",
    "{}/{}_{}_full.bed > {}/{}_{}.bed \".format(ANNOTATION_PATH, REF_GENOME, RESTRICTION_ENZYME,ANNOTATION_PATH, REF_GENOME, RESTRICTION_ENZYME))\n",
    "\n",
    "\n"
   ]
  },
  {
   "cell_type": "markdown",
   "metadata": {},
   "source": [
    "compare line count"
   ]
  },
  {
   "cell_type": "code",
   "execution_count": null,
   "metadata": {},
   "outputs": [],
   "source": [
    "print(\"wc -l {}/{}_{}.bed\".format(ANNOTATION_PATH, REF_GENOME, RESTRICTION_ENZYME))\n",
    "print(\"grep -v \\\n",
    "-e chr1$'\\\\t' -e chr2$'\\\\t' -e chr3$'\\\\t' -e chr4$'\\\\t' -e chr5$'\\\\t' \\\n",
    "-e chr6$'\\\\t' -e chr7$'\\\\t' -e chr8$'\\\\t' -e chr9$'\\\\t' -e chr10$'\\\\t' \\\n",
    "-e chr11$'\\\\t' -e chr12$'\\\\t' -e chr13$'\\\\t' -e chr14$'\\\\t' -e chr15$'\\\\t' \\\n",
    "-e chr16$'\\\\t' -e chr17$'\\\\t' -e chr18$'\\\\t' -e chr19$'\\\\t' -e chr20$'\\\\t' \\\n",
    "-e chr21$'\\\\t' -e chr22$'\\\\t' -e chrX$'\\\\t' -e chrY$'\\\\t' \\\n",
    "{}/{}_{}_full.bed | wc -l\".format(ANNOTATION_PATH, REF_GENOME, RESTRICTION_ENZYME))"
   ]
  },
  {
   "cell_type": "markdown",
   "metadata": {},
   "source": [
    "## (b) generate chromosome size file\n",
    "\n",
    "use python pyfaidx library"
   ]
  },
  {
   "cell_type": "code",
   "execution_count": null,
   "metadata": {},
   "outputs": [],
   "source": [
    "print(\"module load python/3.7\")\n",
    "print(\"cd {}\".format(ANNOTATION_PATH))\n",
    "print(\"faidx {} -i chromsizes -o sizes.genome\".format(REF_GENOME_FASTA))"
   ]
  },
  {
   "cell_type": "markdown",
   "metadata": {},
   "source": [
    "optional removal of anything but chr1-22, X and Y"
   ]
  },
  {
   "cell_type": "code",
   "execution_count": null,
   "metadata": {},
   "outputs": [],
   "source": [
    "print(\"mv {}/sizes.genome {}/sizes.genome.full\".format(ANNOTATION_PATH, ANNOTATION_PATH))\n",
    "print(\"grep \\\n",
    "-e chr1$'\\\\t' -e chr2$'\\\\t' -e chr3$'\\\\t' -e chr4$'\\\\t' -e chr5$'\\\\t' \\\n",
    "-e chr6$'\\\\t' -e chr7$'\\\\t' -e chr8$'\\\\t' -e chr9$'\\\\t' -e chr10$'\\\\t' \\\n",
    "-e chr11$'\\\\t' -e chr12$'\\\\t' -e chr13$'\\\\t' -e chr14$'\\\\t' -e chr15$'\\\\t' \\\n",
    "-e chr16$'\\\\t' -e chr17$'\\\\t' -e chr18$'\\\\t' -e chr19$'\\\\t' -e chr20$'\\\\t' \\\n",
    "-e chr21$'\\\\t' -e chr22$'\\\\t' -e chrX$'\\\\t' -e chrY$'\\\\t' \\\n",
    "{}/sizes.genome.full > {}/sizes.genome \".format(ANNOTATION_PATH, ANNOTATION_PATH))\n",
    "\n",
    "\n"
   ]
  },
  {
   "cell_type": "markdown",
   "metadata": {},
   "source": [
    "compare line count"
   ]
  },
  {
   "cell_type": "code",
   "execution_count": null,
   "metadata": {},
   "outputs": [],
   "source": [
    "print(\"wc -l {}/sizes.genome\".format(ANNOTATION_PATH))\n",
    "print(\"grep -v \\\n",
    "-e chr1$'\\\\t' -e chr2$'\\\\t' -e chr3$'\\\\t' -e chr4$'\\\\t' -e chr5$'\\\\t' \\\n",
    "-e chr6$'\\\\t' -e chr7$'\\\\t' -e chr8$'\\\\t' -e chr9$'\\\\t' -e chr10$'\\\\t' \\\n",
    "-e chr11$'\\\\t' -e chr12$'\\\\t' -e chr13$'\\\\t' -e chr14$'\\\\t' -e chr15$'\\\\t' \\\n",
    "-e chr16$'\\\\t' -e chr17$'\\\\t' -e chr18$'\\\\t' -e chr19$'\\\\t' -e chr20$'\\\\t' \\\n",
    "-e chr21$'\\\\t' -e chr22$'\\\\t' -e chrX$'\\\\t' -e chrY$'\\\\t' \\\n",
    "{}/sizes.genome.full | wc -l\".format(ANNOTATION_PATH))"
   ]
  },
  {
   "cell_type": "markdown",
   "metadata": {},
   "source": [
    "## (c) index reference genome\n",
    "\n",
    "create script to index reference genome files using bowtie2"
   ]
  },
  {
   "cell_type": "code",
   "execution_count": null,
   "metadata": {},
   "outputs": [],
   "source": [
    "with open (\"{}/bowtie2_index_genome.sh\".format(SCRIPT_PATH), \"w\") as text_file:\n",
    "    print(\"#!/bin/bash \\n\\\n",
    "module load bowtie \\n\\\n",
    "cd {} \\n\\\n",
    "bowtie2-build {} genome \\n\\\n",
    "echo 'done'\".format(ANNOTATION_PATH, REF_GENOME_FASTA), file = text_file)\n",
    "    text_file.close()"
   ]
  },
  {
   "cell_type": "code",
   "execution_count": null,
   "metadata": {},
   "outputs": [],
   "source": [
    "print(\"cd {}\".format(SCRIPT_PATH))\n",
    "print(\"sbatch --mem=100g --cpus-per-task=10 --mail-type=ALL --time=24:00:00 bowtie2_index_genome.sh\")"
   ]
  },
  {
   "cell_type": "markdown",
   "metadata": {},
   "source": [
    "## (d) Setup config file  \n",
    "save it in the path stored in the `CONFIG_FILE` (and `CONFIG_FILE2`) variables\n",
    "`CONFIG_FILE` will be used for jobs utilizing the split fastqs\n",
    "`CONFIG_FILE2` will be used for jobs utilizing the results from merging the mapped split fastqs\n",
    "only differences between these two is the `JOB_MEM` field  \n",
    "(ex: set to `5G` in `CONFIG_FILE` and `100G` in `CONFIG_FILE2`).\n",
    " - `CONFIG_FILE` job memory ends up being `JOB_MEM` * `N_CPU`\n",
    " - `CONFIG_FILE2` job memory end up being `JOB_MEM`, so it need to be higher than memory in `CONFIG_FILE`\n",
    "\n",
    "https://nservant.github.io/HiC-Pro/MANUAL.html#setting-the-configuration-file\n",
    "\n",
    "example config file here: /usr/local/apps/hicpro/config_example.txt"
   ]
  },
  {
   "cell_type": "markdown",
   "metadata": {},
   "source": [
    "---\n",
    "# (2) Per Sample Run"
   ]
  },
  {
   "cell_type": "markdown",
   "metadata": {},
   "source": [
    "## (a) Make sample directories  \n",
    "```\n",
    "|-WRKDIR  \n",
    "|   |-annotation  \n",
    "|   |-SAMPLE  \n",
    "|   |   |-scripts  \n",
    "|   |   |-splits  \n",
    "|   |   |-logs  \n",
    "```"
   ]
  },
  {
   "cell_type": "code",
   "execution_count": null,
   "metadata": {},
   "outputs": [],
   "source": [
    "%%bash -s \"$SAMPLE_PATH\" \"$SPLIT_DATA_PATH\" \"$SCRIPT_PATH\"  \"$LOG_PATH\"\n",
    "SAMPLE_PATH=${1}\n",
    "SPLIT_DATA_PATH=${2}\n",
    "SCRIPT_PATH=${3}\n",
    "LOG_PATH=${4}\n",
    "\n",
    "mkdir ${SAMPLE_PATH}\n",
    "mkdir ${SPLIT_DATA_PATH}\n",
    "mkdir ${SCRIPT_PATH}\n",
    "mkdir ${LOG_PATH}"
   ]
  },
  {
   "cell_type": "markdown",
   "metadata": {},
   "source": [
    "##### path to R1 and R2 fastq file for sample  \n",
    "these are the files that will be split into smaller fastqs in the next step\n"
   ]
  },
  {
   "cell_type": "code",
   "execution_count": null,
   "metadata": {},
   "outputs": [],
   "source": [
    "R1_PATH = \"/path/to/sample/R1.fastq.gz\".format(SAMPLE)\n",
    "R2_PATH = \"/path/to/sample/R2.fastq.gz\".format(SAMPLE)\n"
   ]
  },
  {
   "cell_type": "markdown",
   "metadata": {},
   "source": [
    "## (b) Split fastq read files  \n",
    "this splits the R1 and R2 fastq files in to many smaller files.  \n",
    "this allows the mapping to be run on each smaller file in parallel, speeding up the mapping process"
   ]
  },
  {
   "cell_type": "code",
   "execution_count": null,
   "metadata": {},
   "outputs": [],
   "source": [
    "\n",
    "with open (\"{}/split_{}_R1.sh\".format(SCRIPT_PATH,SAMPLE), \"w\") as text_file:\n",
    "    print(\"#!/bin/bash \\n\\\n",
    "module load hicpro \\n\\\n",
    "cd {} \\n\\\n",
    "mkdir {}/{} \\n\\\n",
    "{}/bin/utils/split_reads.py -r {}/{} {} \\n\\\n",
    "echo 'done'\".format(LOG_PATH,SPLIT_DATA_PATH,SAMPLE, HICPRO_PATH, SPLIT_DATA_PATH,SAMPLE, R1_PATH), file = text_file)\n",
    "    text_file.close()\n",
    "    \n",
    "with open (\"{}/split_{}_R2.sh\".format(SCRIPT_PATH,SAMPLE), \"w\") as text_file:\n",
    "    print(\"#!/bin/bash \\n\\\n",
    "module load hicpro \\n\\\n",
    "cd {} \\n\\\n",
    "mkdir {}/{} \\n\\\n",
    "{}/bin/utils/split_reads.py -r {}/{} {} \\n\\\n",
    "echo 'done'\".format(LOG_PATH,SPLIT_DATA_PATH,SAMPLE, HICPRO_PATH, SPLIT_DATA_PATH,SAMPLE, R2_PATH), file = text_file)\n",
    "    text_file.close()\n",
    "    \n",
    "print(\"sbatch --mem=100g --cpus-per-task=10 --mail-type=ALL --time=10:00:00 --error={}/split_{}_R1.err --output={}/split_{}_R1.out {}/split_{}_R1.sh\".format(LOG_PATH, SAMPLE, LOG_PATH, SAMPLE, SCRIPT_PATH,SAMPLE))\n",
    "print(\"sbatch --mem=100g --cpus-per-task=10 --mail-type=ALL --time=10:00:00 --error={}/split_{}_R2.err --output={}/split_{}_R2.out {}/split_{}_R2.sh\".format(LOG_PATH, SAMPLE, LOG_PATH, SAMPLE, SCRIPT_PATH,SAMPLE))"
   ]
  },
  {
   "cell_type": "markdown",
   "metadata": {},
   "source": [
    "## (c) Run Hic-Pro in Stepwise Mode"
   ]
  },
  {
   "cell_type": "markdown",
   "metadata": {},
   "source": [
    "### (i) Stepwise Mapping  \n",
    "this will create a `HiCPro_step1_hicpro.sh` to run"
   ]
  },
  {
   "cell_type": "code",
   "execution_count": null,
   "metadata": {},
   "outputs": [],
   "source": [
    "%%bash -s \"$LOG_PATH\" \"$SPLIT_DATA_PATH\" \"$SAMPLE_PATH\" \"$CONFIG_FILE\"\n",
    "LOG_PATH=${1}\n",
    "SPLIT_DATA_PATH=${2}\n",
    "SAMPLE_PATH=${3}\n",
    "CONFIG_FILE=${4}\n",
    "module load hicpro\n",
    "cd ${LOG_PATH}\n",
    "HiC-Pro -i ${SPLIT_DATA_PATH} -o ${SAMPLE_PATH} -c ${CONFIG_FILE} -p -s mapping"
   ]
  },
  {
   "cell_type": "code",
   "execution_count": null,
   "metadata": {},
   "outputs": [],
   "source": [
    "print(\"cd {}\".format(SAMPLE_PATH))\n",
    "print(\"sbatch {}/HiCPro_step1_hicpro.sh\".format(SAMPLE_PATH))"
   ]
  },
  {
   "cell_type": "markdown",
   "metadata": {},
   "source": [
    "### (ii) Stepwise Hi-C filtering (proc_hic)  \n",
    "takes in the files created in `bowtie_results/bwt2` from the previous mapping step  \n",
    "this will overwrite the previous `HiCPro_step1_hicpro.sh` with new code to run"
   ]
  },
  {
   "cell_type": "code",
   "execution_count": null,
   "metadata": {},
   "outputs": [],
   "source": [
    "%%bash -s \"$LOG_PATH\" \"$SAMPLE_PATH\" \"$CONFIG_FILE\"\n",
    "LOG_PATH=${1}\n",
    "SAMPLE_PATH=${2}\n",
    "CONFIG_FILE=${3}\n",
    "module load hicpro\n",
    "cd ${LOG_PATH}\n",
    "HiC-Pro -i ${SAMPLE_PATH}/bowtie_results/bwt2 -o ${SAMPLE_PATH} -c ${CONFIG_FILE} -p -s proc_hic"
   ]
  },
  {
   "cell_type": "code",
   "execution_count": null,
   "metadata": {},
   "outputs": [],
   "source": [
    "print(\"cd {}\".format(SAMPLE_PATH))\n",
    "print(\"sbatch {}/HiCPro_step1_hicpro.sh\".format(SAMPLE_PATH))"
   ]
  },
  {
   "cell_type": "markdown",
   "metadata": {},
   "source": [
    "### (iii) Quality Control \n",
    "takes in the files created in `hic_results/data` from the previous filtering step  \n",
    "this will create a `HiCPro_step2_hicpro.sh` with new code to run  \n",
    "(may fail on the plot creation step)"
   ]
  },
  {
   "cell_type": "code",
   "execution_count": null,
   "metadata": {},
   "outputs": [],
   "source": [
    "%%bash -s \"$LOG_PATH\" \"$SAMPLE_PATH\" \"$CONFIG_FILE2\"\n",
    "LOG_PATH=${1}\n",
    "SAMPLE_PATH=${2}\n",
    "CONFIG_FILE2=${3}\n",
    "module load hicpro\n",
    "cd ${LOG_PATH}\n",
    "HiC-Pro -i ${SAMPLE_PATH}/hic_results/data -o ${SAMPLE_PATH} -c ${CONFIG_FILE2} -p -s quality_checks"
   ]
  },
  {
   "cell_type": "code",
   "execution_count": null,
   "metadata": {},
   "outputs": [],
   "source": [
    "print(\"cd {}\".format(SAMPLE_PATH))\n",
    "print(\"sbatch {}/HiCPro_step2_hicpro.sh\".format(SAMPLE_PATH))"
   ]
  },
  {
   "cell_type": "markdown",
   "metadata": {},
   "source": [
    "### (iv) Merge Per Sample  \n",
    "takes in `.validPairs` files in `hic_results/data`  \n",
    "do not run this step with the parallel `-p` option  \n",
    "this will create a `.allValidPairs` file in `/hic_results/data`\n"
   ]
  },
  {
   "cell_type": "code",
   "execution_count": null,
   "metadata": {},
   "outputs": [],
   "source": [
    "with open (\"{}/hicpro_merge_persample.sh\".format(SCRIPT_PATH), \"w\") as text_file:\n",
    "    print(\"#!/bin/bash \\n\\\n",
    "module load hicpro \\n\\\n",
    "cd {}/hic_results/data \\n\\\n",
    "HiC-Pro -i {}/hic_results/data -o {} -c {} -s merge_persample \\n\\\n",
    "echo 'done'\".format(SAMPLE_PATH,SAMPLE_PATH,SAMPLE_PATH,CONFIG_FILE2), file = text_file)\n",
    "    text_file.close()"
   ]
  },
  {
   "cell_type": "code",
   "execution_count": null,
   "metadata": {},
   "outputs": [],
   "source": [
    "print(\"cd {}\".format(SAMPLE_PATH))\n",
    "print(\"sbatch --cpus-per-task=10 --mem=100g --mail-type=ALL --error={}/hicpro_merge_persample.err --output={}/hicpro_merge_persample.out {}/hicpro_merge_persample.sh\".format(LOG_PATH,LOG_PATH, SCRIPT_PATH))"
   ]
  },
  {
   "cell_type": "markdown",
   "metadata": {},
   "source": [
    "### (v) Build Contact Maps\n",
    "takes in `.validPairs` files in `hic_results/data`  \n",
    "this will create a `matrix` folder in the `hic_results` folder with the contact matrices at different resolutions"
   ]
  },
  {
   "cell_type": "code",
   "execution_count": null,
   "metadata": {},
   "outputs": [],
   "source": []
  },
  {
   "cell_type": "code",
   "execution_count": null,
   "metadata": {},
   "outputs": [],
   "source": [
    "with open (\"{}/hicpro_build_contact_maps.sh\".format(SCRIPT_PATH), \"w\") as text_file:\n",
    "    print(\"#!/bin/bash \\n\\\n",
    "module load hicpro \\n\\\n",
    "cd {}/hic_results/data \\n\\\n",
    "HiC-Pro -i {}/hic_results/data -o {} -c {} -s build_contact_maps \\n\\\n",
    "echo 'done'\".format(SAMPLE_PATH,SAMPLE_PATH,SAMPLE_PATH,CONFIG_FILE2), file = text_file)\n",
    "    text_file.close()"
   ]
  },
  {
   "cell_type": "code",
   "execution_count": null,
   "metadata": {},
   "outputs": [],
   "source": [
    "print(\"cd {}\".format(SAMPLE_PATH))\n",
    "print(\"sbatch --cpus-per-task=2 --mem=20g --mail-type=ALL --error={}/hicpro_build_contact_maps.err --output={}/hicpro_build_contact_maps.out {}/hicpro_build_contact_maps.sh\".format(LOG_PATH,LOG_PATH, SCRIPT_PATH))"
   ]
  },
  {
   "cell_type": "markdown",
   "metadata": {},
   "source": [
    "### (vi) ICE Normalization  \n",
    "takes in matrix files in `hic_results/matrix`  \n",
    "this will create an `iced` folder in the `hic_results/matrix` folder with normalized contact maps"
   ]
  },
  {
   "cell_type": "code",
   "execution_count": null,
   "metadata": {},
   "outputs": [],
   "source": [
    "with open (\"{}/hicpro_ice_norm.sh\".format(SCRIPT_PATH), \"w\") as text_file:\n",
    "    print(\"#!/bin/bash \\n\\\n",
    "module load hicpro \\n\\\n",
    "cd {}/hic_results/matrix \\n\\\n",
    "HiC-Pro -i {}/hic_results/matrix -o {} -c {} -s ice_norm \\n\\\n",
    "echo 'done'\".format(SAMPLE_PATH,SAMPLE_PATH,SAMPLE_PATH,CONFIG_FILE2), file = text_file)\n",
    "    text_file.close()"
   ]
  },
  {
   "cell_type": "code",
   "execution_count": null,
   "metadata": {},
   "outputs": [],
   "source": [
    "print(\"cd {}\".format(SAMPLE_PATH))\n",
    "print(\"sbatch --cpus-per-task=2 --mem=20g --mail-type=ALL --error={}/hicpro_ice_norm.err --output={}/hicpro_ice_norm.out {}/hicpro_ice_norm.sh\".format(LOG_PATH,LOG_PATH, SCRIPT_PATH))"
   ]
  }
 ],
 "metadata": {
  "kernelspec": {
   "display_name": "Python 3",
   "language": "python",
   "name": "python3"
  },
  "language_info": {
   "codemirror_mode": {
    "name": "ipython",
    "version": 3
   },
   "file_extension": ".py",
   "mimetype": "text/x-python",
   "name": "python",
   "nbconvert_exporter": "python",
   "pygments_lexer": "ipython3",
   "version": "3.7.3"
  }
 },
 "nbformat": 4,
 "nbformat_minor": 4
}
