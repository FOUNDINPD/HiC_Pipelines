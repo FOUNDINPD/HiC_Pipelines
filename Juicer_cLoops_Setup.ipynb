{
 "cells": [
  {
   "cell_type": "markdown",
   "metadata": {},
   "source": [
    "# Setup cLoops for annotating loops in HiC data processed with Juicer"
   ]
  },
  {
   "cell_type": "markdown",
   "metadata": {},
   "source": [
    "notebook by Frank Grenn  \n",
    "\n",
    "juicer pipeline by Aiden lab:   \n",
    "[juicer github](https://github.com/aidenlab/juicer)  \n",
    "cLoops pipeline by YaqiangCao:  \n",
    "[cLoops github](https://github.com/YaqiangCao/cLoops)\n",
    "\n",
    "this notebook depends on processed HiC data from the juicer pipeline in [long format](https://github.com/aidenlab/juicer/wiki/Pre#file-format). Usually named \"merged_nodups.txt\" "
   ]
  },
  {
   "cell_type": "code",
   "execution_count": 14,
   "metadata": {},
   "outputs": [],
   "source": [
    "USERDIR=\"/folder/username\" #directory containing conda directory which will hold the custom python environment"
   ]
  },
  {
   "cell_type": "markdown",
   "metadata": {},
   "source": [
    "### (1) Create environment for cLoops"
   ]
  },
  {
   "cell_type": "code",
   "execution_count": 9,
   "metadata": {},
   "outputs": [
    {
     "name": "stdout",
     "output_type": "stream",
     "text": [
      "cd /data/$USER\n"
     ]
    }
   ],
   "source": [
    "print(\"cd {}\".format(USERDIR))"
   ]
  },
  {
   "cell_type": "code",
   "execution_count": 10,
   "metadata": {},
   "outputs": [
    {
     "name": "stdout",
     "output_type": "stream",
     "text": [
      "source /data/$USER/conda/etc/profile.d/conda.sh\n",
      "conda activate base\n",
      "which python\n",
      "conda update conda\n",
      "conda clean --all --yes\n"
     ]
    }
   ],
   "source": [
    "print(\"source {}/conda/etc/profile.d/conda.sh\".format(USERDIR))\n",
    "print(\"conda activate base\")\n",
    "print(\"which python\")\n",
    "print(\"conda update conda\")\n",
    "print(\"conda clean --all --yes\")"
   ]
  },
  {
   "cell_type": "code",
   "execution_count": 8,
   "metadata": {},
   "outputs": [
    {
     "name": "stdout",
     "output_type": "stream",
     "text": [
      "cd temp\n",
      "git clone https://github.com/YaqiangCao/cLoops\n",
      "cd cLoops\n",
      "conda create -n cLoops --file cLoops_env.yaml\n"
     ]
    }
   ],
   "source": [
    "print(\"cd temp\")\n",
    "print(\"git clone https://github.com/YaqiangCao/cLoops\")\n",
    "print(\"cd cLoops\")\n",
    "print(\"conda env create -n cLoops --file cLoops_env.yaml\")"
   ]
  },
  {
   "cell_type": "markdown",
   "metadata": {},
   "source": [
    "---\n",
    "#### troubleshooting:\n",
    "if this fails for the ```joblib``` package then go into cLoops_env.yaml, delete the joblib line and rerun the ```conda env create -n cLoops --file cLoops_env.yaml``` command above\n",
    "\n",
    "then run:"
   ]
  },
  {
   "cell_type": "code",
   "execution_count": 9,
   "metadata": {},
   "outputs": [
    {
     "name": "stdout",
     "output_type": "stream",
     "text": [
      "conda activate cLoops\n",
      "which pip\n",
      "pip install joblib\n"
     ]
    }
   ],
   "source": [
    "print(\"conda activate cLoops\")\n",
    "print(\"which pip\")\n",
    "print(\"pip install joblib\")"
   ]
  },
  {
   "cell_type": "markdown",
   "metadata": {},
   "source": [
    "that should fix it (although joblib may already be available...)\n",
    "\n",
    "---"
   ]
  },
  {
   "cell_type": "code",
   "execution_count": 1,
   "metadata": {},
   "outputs": [
    {
     "name": "stdout",
     "output_type": "stream",
     "text": [
      "conda activate cLoops\n",
      "python setup.py install\n"
     ]
    }
   ],
   "source": [
    "print(\"conda activate cLoops\")\n",
    "print(\"python setup.py install\")\n"
   ]
  },
  {
   "cell_type": "markdown",
   "metadata": {},
   "source": [
    "---\n",
    "#### troubleshooting:\n",
    "if this fails you may need to set the PYTHONPATH environmental variable and add --prefix to the install command\n",
    "    "
   ]
  },
  {
   "cell_type": "code",
   "execution_count": 12,
   "metadata": {},
   "outputs": [
    {
     "name": "stdout",
     "output_type": "stream",
     "text": [
      "export PYTHONPATH=/data/$USER/conda/envs/cLoops/lib/python2.7/site-packages/\n",
      "python setup.py install --prefix=/data/$USER/conda/envs/cLoops\n"
     ]
    }
   ],
   "source": [
    "print(\"export PYTHONPATH={}/conda/envs/cLoops/lib/python2.7/site-packages/\".format(USERDIR))\n",
    "print(\"python setup.py install --prefix={}/conda/envs/cLoops\".format(USERDIR))"
   ]
  },
  {
   "cell_type": "markdown",
   "metadata": {},
   "source": [
    "---"
   ]
  },
  {
   "cell_type": "code",
   "execution_count": 13,
   "metadata": {},
   "outputs": [],
   "source": [
    "WRKDIR=\"/folder/for/cLoops/run/files\"\n",
    "OUT_PREFIX=\"35236\"\n",
    "CLOOPS_OUTDIR=\"/folder/for/output/{}\".format(OUT_PREFIX)\n",
    "BEDPE_FILE=\"{}/{}_PET.bedpe\".format(CLOOPS_OUTDIR,OUT_PREFIX)\n",
    "JUICERLONG_FILE=\"/path/to/sample/aligned/merged_nodups.txt\""
   ]
  },
  {
   "cell_type": "markdown",
   "metadata": {},
   "source": [
    "#### (2) Write bash job script to run the python conversion script\n"
   ]
  },
  {
   "cell_type": "code",
   "execution_count": 83,
   "metadata": {},
   "outputs": [],
   "source": [
    "with open (\"{}/scripts/juicerLong2bedpe_{}.sh\".format(WRKDIR,OUT_PREFIX), \"w\") as text_file:\n",
    "    print(\"#!/bin/bash \\n\\\n",
    "source {}/conda/etc/profile.d/conda.sh \\n\\\n",
    "module load python \\n\\\n",
    "conda activate cLoops \\n\\\n",
    "export PYTHONPATH={}/conda/envs/cLoops/lib/python2.7/site-packages/ \\n\\\n",
    "{}/temp/cLoops/scripts/juicerLong2bedpe.py -i {} -o {} \\n\\\n",
    "echo 'done'\".format(USERDIR, USERDIR, USERDIR, JUICERLONG_FILE, BEDPE_FILE), file = text_file)\n",
    "    text_file.close()"
   ]
  },
  {
   "cell_type": "code",
   "execution_count": 4,
   "metadata": {},
   "outputs": [
    {
     "name": "stdout",
     "output_type": "stream",
     "text": [
      "sbatch --mem=200g --cpus-per-task=10 --mail-type=ALL --time=24:00:00 /data/LNG/Frank/HiC_project/cLoops/scripts/juicerLong2bedpe_35236.sh\n"
     ]
    }
   ],
   "source": [
    "print(\"sbatch --mem=200g --cpus-per-task=10 --mail-type=ALL --time=24:00:00 {}/scripts/juicerLong2bedpe_{}.sh\".format(WRKDIR,OUT_PREFIX))"
   ]
  },
  {
   "cell_type": "markdown",
   "metadata": {},
   "source": [
    "example cLoops runs:\n",
    "\n",
    "cLoops -f GSM1551552_GM12878_HiC_chr21_hg38.bedpe.gz -o hic -w -j -eps 5000,7500,10000 -minPts 20,30 -s -hic\n",
    "cLoops -f GSM1551552_GM12878_HiC_chr21_hg38.bedpe.gz -o hic -w -j -s -m 3"
   ]
  },
  {
   "cell_type": "markdown",
   "metadata": {},
   "source": [
    "#### (3) Write bash job script to run cLoops"
   ]
  },
  {
   "cell_type": "code",
   "execution_count": 85,
   "metadata": {},
   "outputs": [],
   "source": [
    "with open (\"{}/scripts/run_cLoops_{}.sh\".format(WRKDIR,OUT_PREFIX), \"w\") as text_file:\n",
    "    print(\"#!/bin/bash \\n\\\n",
    "source {}/conda/etc/profile.d/conda.sh \\n\\\n",
    "module load python \\n\\\n",
    "conda activate cLoops \\n\\\n",
    "export PYTHONPATH={}/conda/envs/cLoops/lib/python2.7/site-packages/ \\n\\\n",
    "cd {} \\n\\\n",
    "cLoops -f {} -o {} -w -j -s -m 3 -plot -p -1 \\n\\\n",
    "echo 'done'\".format(USERDIR, USERDIR, CLOOPS_OUTDIR,BEDPE_FILE, OUT_PREFIX), file = text_file)\n",
    "    text_file.close()"
   ]
  },
  {
   "cell_type": "code",
   "execution_count": 4,
   "metadata": {},
   "outputs": [
    {
     "name": "stdout",
     "output_type": "stream",
     "text": [
      "sbatch --mem=800g --partition=largemem --cpus-per-task=10 --mail-type=ALL --time=10-0 /data/LNG/Frank/HiC_project/cLoops/scripts/run_cLoops_35236.sh\n"
     ]
    }
   ],
   "source": [
    "print(\"sbatch --mem=800g --partition=largemem --cpus-per-task=10 --mail-type=ALL --time=10-0 {}/scripts/run_cLoops_{}.sh\".format(WRKDIR,OUT_PREFIX))"
   ]
  },
  {
   "cell_type": "code",
   "execution_count": null,
   "metadata": {},
   "outputs": [],
   "source": []
  }
 ],
 "metadata": {
  "kernelspec": {
   "display_name": "Python 3",
   "language": "python",
   "name": "python3"
  },
  "language_info": {
   "codemirror_mode": {
    "name": "ipython",
    "version": 3
   },
   "file_extension": ".py",
   "mimetype": "text/x-python",
   "name": "python",
   "nbconvert_exporter": "python",
   "pygments_lexer": "ipython3",
   "version": "3.7.3"
  }
 },
 "nbformat": 4,
 "nbformat_minor": 4
}
