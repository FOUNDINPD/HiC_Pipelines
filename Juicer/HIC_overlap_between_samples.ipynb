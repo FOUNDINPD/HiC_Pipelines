{
 "cells": [
  {
   "cell_type": "markdown",
   "metadata": {},
   "source": [
    "# HiC Loop Overlap Between Samples\n",
    "- **Author** - Frank Grenn\n",
    "- **Date Started** - March 2020\n",
    "- **Quick Description:** use bedtools to overlap sample bedpes with each other\n"
   ]
  },
  {
   "cell_type": "code",
   "execution_count": null,
   "metadata": {},
   "outputs": [],
   "source": [
    "import pandas as pd\n",
    "import os"
   ]
  },
  {
   "cell_type": "markdown",
   "metadata": {},
   "source": [
    "constants for directories"
   ]
  },
  {
   "cell_type": "code",
   "execution_count": null,
   "metadata": {},
   "outputs": [],
   "source": [
    "#directory containing all the sample folders. each sample folder should be named after the sample\n",
    "JUICER_DIR=\"/path/to/juicer\"\n",
    "#the rest of these are created in the next cell\n",
    "ANALYSIS_DIR = JUICER_DIR+\"/overlap_analysis\"\n",
    "SAMPLES_DIR = JUICER_DIR+\"/overlap_analysis/samples\"\n",
    "SAMPLES_NH_DIR = JUICER_DIR+\"/overlap_analysis/samples_no_header\"\n",
    "SCRIPT_DIR = JUICER_DIR+\"/overlap_analysis/scripts\"\n",
    "OVERLAP_DIR= JUICER_DIR+\"/overlap_analysis/overlap\"\n",
    "SHUFFLE_DIR = JUICER_DIR+\"/overlap_analysis/shuffle\"\n",
    "MISC_DIR = JUICER_DIR+\"/overlap_analysis/misc\"\n",
    "RESULTS_DIR = JUICER_DIR+\"/overlap_analysis/results\""
   ]
  },
  {
   "cell_type": "code",
   "execution_count": null,
   "metadata": {},
   "outputs": [],
   "source": []
  },
  {
   "cell_type": "markdown",
   "metadata": {},
   "source": []
  },
  {
   "cell_type": "markdown",
   "metadata": {},
   "source": [
    "load the functions: ` %load path/to/overlapBedpeAndBed.py`"
   ]
  },
  {
   "cell_type": "code",
   "execution_count": null,
   "metadata": {},
   "outputs": [],
   "source": [
    "# %load new/overlapBedpeAndBed.py\n",
    "import os\n",
    "import pandas as pd\n",
    "\n",
    "\n",
    "#swarm sample Bedpe and Single Bedpe Overlap\n",
    "def generate_bedpe_bedpe_overlap_swarm(sample_list, sample_nh_dir, bedpe, otype, overlap_dir, script_dir):\n",
    "\n",
    "    bedpe_name = os.path.splitext(os.path.basename(bedpe))[0]\n",
    "\n",
    "    with open(f\"{script_dir}/all_{bedpe_name}_overlap.swarm\",'w') as file_handler:\n",
    "        for sample in sample_list:\n",
    "            file_handler.write(f\"bedtools pairtopair -a {sample_nh_dir}/{sample}.bedpe -b {bedpe} -type {otype} > \\\n",
    "{overlap_dir}/{sample}_{bedpe_name}_overlap.txt\\n\")\n",
    "\n",
    "    file_handler.close()\n",
    "    os.system(f\"swarm -f {script_dir}/all_{bedpe_name}_overlap.swarm --module bedtools --g 50\")\n",
    "    \n",
    "#single Bedpe and Bed Overlap\n",
    "def run_bedpe_bed_overlap(sample, sample_nh_dir, bed, otype, overlap_dir):\n",
    "    bed_name = os.path.splitext(os.path.basename(bed))[0]\n",
    "    os.system(f\"module load bedtools; \\\n",
    "              bedtools pairtobed -a {sample_nh_dir}/{sample}.bedpe -b {bed} -type {otype} > {overlap_dir}/{sample}_{bed_name}_overlap.txt\")\n",
    "    \n",
    "#copy the loop files and rename\n",
    "def get_sample_loop_files(juicer_dir, sample_dir, sample_list):\n",
    "    for sample in sample_list:\n",
    "        os.system(f\"cp {juicer_dir}/{sample}/aligned/inter_30_loops/merged_loops.bedpe {sample_dir}\")\n",
    "        os.system(f\"mv {sample_dir}/merged_loops.bedpe {sample_dir}/{sample}.bedpe\")\n",
    "\n",
    "#reformat the loop files and relocate them\n",
    "def get_no_header_loop_files(sample_dir, sample_nh_dir, sample_list):\n",
    "    for sample in sample_list:\n",
    "        #read the bedpe and prepend 'chr' to the two chromosome cols\n",
    "        sample_bedpe = pd.read_csv(f\"{sample_dir}/{sample}.bedpe\",sep='\\t')\n",
    "        sample_bedpe['chr1'] = 'chr' + sample_bedpe['chr1'].astype(str)\n",
    "        sample_bedpe['chr2'] = 'chr' + sample_bedpe['chr2'].astype(str)\n",
    "        sample_bedpe=sample_bedpe[['chr1','x1','x2','chr2','y1','y2']]\n",
    "\n",
    "        sample_bedpe.to_csv(f\"{sample_nh_dir}/{sample}.bedpe\", sep='\\t', header=False, index=None, mode='w+')\n",
    "\n",
    "#get a df of overlap data between a bedpe and bed \n",
    "def get_bedpe_bed_overlap_data(overlap_file, sample_file):\n",
    "    \n",
    "    sample_name = os.path.splitext(os.path.basename(sample_file))[0]\n",
    "    sample_lines = len(pd.read_csv(sample_file,sep=\"\\t\",header=None).index)\n",
    "    #read the overlap output\n",
    "    #overlap_data = pd.read_csv(f\"{overlap_dir}/{sample}_{bed_name}_overlap.txt\",sep=\"\\t\",header=None)\n",
    "    if(os.path.getsize(overlap_file) == 0):\n",
    "    \treturn pd.DataFrame(data={'sample':[sample_name], 'counts':0, 'total':[sample_lines], 'percent':[0]})\n",
    "    overlap_data = pd.read_csv(overlap_file, sep = \"\\t\", header = None)\n",
    "    \n",
    "    #we only want the first 6 cols corresponding to the bedpe loops for now\n",
    "    overlap_subset = overlap_data.iloc[:,:6]\n",
    "    #remove duplicate rows\n",
    "    unique_overlaps = overlap_subset.drop_duplicates()\n",
    "    #count the number of overlaps\n",
    "    overlap_counts = len(unique_overlaps.index)\n",
    "    \n",
    "    \n",
    "    \n",
    "    ret_df = pd.DataFrame(data={'sample':[sample_name], 'counts':[overlap_counts], 'total':[sample_lines], 'percent':[(overlap_counts/sample_lines * 100)]})\n",
    "    \n",
    "    return ret_df\n",
    "\n",
    "#All sample bedpe overlap with one bed file\n",
    "def generate_bedpe_bed_overlap_swarm(sample_list, sample_nh_dir , bed, otype, overlap_dir, script_dir):\n",
    "\n",
    "    bed_name = os.path.splitext(os.path.basename(bed))[0]\n",
    "\n",
    "    with open(f\"{script_dir}/all_{bed_name}_overlap.swarm\",'w') as file_handler:\n",
    "        for sample in sample_list:\n",
    "            file_handler.write(f\"bedtools pairtobed -a {sample_nh_dir}/{sample}.bedpe -b {bed} -type {otype} > \\\n",
    "{overlap_dir}/{sample}_{bed_name}_overlap.txt\\n\")\n",
    "\n",
    "    file_handler.close()\n",
    "    !swarm -f {script_dir}/all_{bed_name}_overlap.swarm --module bedtools --g 50\n",
    "    \n",
    "    \n",
    "    \n",
    "#get a df of overlap data between a bedpe and bedpe\n",
    "def get_bedpe_bedpe_overlap_data(overlap_file, sample_file):\n",
    "    \n",
    "    sample_name = os.path.splitext(os.path.basename(sample_file))[0]\n",
    "    sample_lines = len(pd.read_csv(sample_file,sep=\"\\t\",header=None).index)\n",
    "    #read the overlap output\n",
    "    #overlap_data = pd.read_csv(f\"{overlap_dir}/{sample}_{bed_name}_overlap.txt\",sep=\"\\t\",header=None)\n",
    "    if(os.path.getsize(overlap_file) == 0):\n",
    "    \treturn pd.DataFrame(data={'sample':[sample_name], 'counts':0, 'total':[sample_lines], 'percent':[0]})\n",
    "    overlap_data = pd.read_csv(overlap_file, sep = \"\\t\", header = None)\n",
    "    \n",
    "    #we only want the first 6 cols corresponding to the bedpe loops for now\n",
    "    overlap_subset = overlap_data.iloc[:,:6]\n",
    "    #remove duplicate rows\n",
    "    unique_overlaps = overlap_subset.drop_duplicates()\n",
    "    #count the number of overlaps\n",
    "    overlap_counts = len(unique_overlaps.index)\n",
    "    \n",
    "    \n",
    "    \n",
    "    ret_df = pd.DataFrame(data={'sample':[sample_name], 'counts':[overlap_counts], 'total':[sample_lines], 'percent':[(overlap_counts/sample_lines * 100)]})\n",
    "    \n",
    "    return ret_df\n",
    "\n",
    "#get a df for all sample bedpe overlap with another bedpe\n",
    "def get_bedpe_list_bedpe_overlap_data(sample_list, sample_nh_dir , bedpe, overlap_dir, delete = False):\n",
    "\n",
    "    overlap_df = pd.DataFrame()\n",
    "    bedpe_name = os.path.splitext(os.path.basename(bedpe))[0]\n",
    "    for sample in sample_list:\n",
    "        overlap_file = overlap_dir + '/'+sample+'_'+bedpe_name+'_overlap.txt'\n",
    "        sample_file = sample_nh_dir + '/' + sample + '.bedpe'\n",
    "        sample_overlap = get_bedpe_bedpe_overlap_data(overlap_file = overlap_file, sample_file = sample_file)\n",
    "        overlap_df = overlap_df.append(sample_overlap, ignore_index = True)\n",
    "        print(sample)\n",
    "        if(delete):\n",
    "            os.remove(overlap_file)\n",
    "    return overlap_df\n",
    "\n",
    "#get a df for all sample bedpe overlap with a bed file\n",
    "def get_bedpe_list_bed_overlap_data(sample_list, sample_nh_dir , bed, overlap_dir, delete = False):\n",
    "\n",
    "    overlap_df = pd.DataFrame()\n",
    "    bed_name = os.path.splitext(os.path.basename(bed))[0]\n",
    "    for sample in sample_list:\n",
    "        overlap_file = overlap_dir + '/'+sample+'_'+bed_name+'_overlap.txt'\n",
    "        sample_file = sample_nh_dir + '/' + sample + '.bedpe'\n",
    "        sample_overlap = get_bedpe_bed_overlap_data(overlap_file = overlap_file, sample_file = sample_file)\n",
    "        overlap_df = overlap_df.append(sample_overlap, ignore_index = True)\n",
    "        print(sample)\n",
    "        if(delete):\n",
    "            os.remove(overlap_file)\n",
    "    return overlap_df\n",
    "\n",
    "\n",
    "#overlap samples with each other\n",
    "def generate_bedpe_between_overlap_swarm(sample_list, sample_nh_dir, otype, overlap_dir, script_dir):\n",
    "\n",
    "    with open(f\"{script_dir}/all_samples_between_overlap.swarm\",'w') as file_handler:\n",
    "        for sample1 in sample_list:\n",
    "        \n",
    "            for sample2 in sample_list:\n",
    "                if(sample1 != sample2):\n",
    "                    file_handler.write(f\"bedtools pairtopair -a {sample_nh_dir}/{sample1}.bedpe -b {sample_nh_dir}/{sample2}.bedpe -type {otype} > \\\n",
    "{overlap_dir}/{sample1}_{sample2}_overlap.txt\\n\")\n",
    "            \n",
    "\n",
    "\n",
    "    file_handler.close()\n",
    "    os.system(f\"swarm -f {script_dir}/all_samples_between_overlap.swarm --module bedtools --g 50\")\n",
    "\n",
    "#get df/matrix of between sample overlap data\n",
    "def get_bedpe_between_overlap_data(sample_list, sample_nh_dir, overlap_dir, delete = False):\n",
    "\n",
    "    sample_list = sorted(sample_list)\n",
    "    all_percent_data={}\n",
    "    all_count_data={}\n",
    "    for sample in sample_list:\n",
    "        if(os.stat(f\"{sample_nh_dir}/{sample}.bedpe\").st_size != 0):\n",
    "            sample_lines = len(pd.read_csv(f\"{sample_nh_dir}/{sample}.bedpe\",sep=\"\\t\").index)\n",
    "        else:\n",
    "            sample_lines=0\n",
    "\n",
    "        comp_percent_data={}\n",
    "        comp_count_data={}\n",
    "\n",
    "        for comp_sample in sample_list:\n",
    "            if sample!=comp_sample:\n",
    "                if(os.stat(f\"{overlap_dir}/{sample}_{comp_sample}_overlap.txt\").st_size !=0 ):\n",
    "                    \n",
    "                    sample_file = f\"{sample_nh_dir}/{sample}.bedpe\"\n",
    "                    overlap_file = f\"{overlap_dir}/{sample}_{comp_sample}_overlap.txt\"\n",
    "                    df = get_bedpe_bedpe_overlap_data(overlap_file,sample_file)\n",
    "                    comp_count_data[comp_sample] = df.iloc[0]['counts']\n",
    "                    comp_percent_data[comp_sample] = df.iloc[0]['percent']\n",
    "                    \n",
    "\n",
    "\n",
    "            if sample==comp_sample:\n",
    "                comp_percent_data[comp_sample]=None\n",
    "                comp_count_data[comp_sample]=None\n",
    "        all_percent_data[sample]=comp_percent_data\n",
    "        all_count_data[sample]=comp_count_data\n",
    "\n",
    "    percent_df = pd.DataFrame(data=all_percent_data)\n",
    "    count_df = pd.DataFrame(data=all_count_data)\n",
    "    return count_df, percent_df\n",
    "\n",
    "#shuffle a bedpe file n times\n",
    "def shuffle_bedpe(sample, n, sample_nh_dir, shuffle_dir, sizes):\n",
    "\n",
    "    #just shuffle once\n",
    "    if(n==1):\n",
    "        !(module load bedtools; \\\n",
    "     bedtools shuffle -i {sample_nh_dir}/{sample}.bedpe -g {sizes} -bedpe > {shuffle_dir}/{sample}_shuffle.bedpe)\n",
    "    else:\n",
    "        for i in range(n):\n",
    "            !(module load bedtools; \\\n",
    "     bedtools shuffle -i {sample_nh_dir}/{sample}.bedpe -g {sizes} -bedpe > {shuffle_dir}/{sample}_shuffle_{i}.bedpe)\n",
    "\n",
    "#shuffle all the sample bedpes n times\n",
    "def shuffle_bedpe_list(sample_list, n, sample_nh_dir, shuffle_dir, sizes):\n",
    "\n",
    "    for sample in sample_list:\n",
    "        shuffle_bedpe(sample = sample, n = n, sample_nh_dir = sample_nh_dir, shuffle_dir = shuffle_dir, sizes = sizes)\n",
    "\n",
    "#check for overlap with a bed file in all shuffled sample bedpes\n",
    "def shuffle_swarm_overlap(sample_list, n, sample_nh_dir , bed, otype, shuffle_dir, overlap_dir, script_dir):\n",
    "\n",
    "    bed_name = os.path.splitext(os.path.basename(bed))[0]\n",
    "    \n",
    "\n",
    "    with open(f\"{script_dir}/all_{bed_name}_shuffle_overlap.swarm\",'w') as file_handler:\n",
    "        if(n==1):\n",
    "            for sample in sample_list:\n",
    "                file_handler.write(f\"bedtools pairtobed -a {shuffle_dir}/{sample}_shuffle.bedpe -b {bed} -type {otype} > \\\n",
    "{overlap_dir}/{sample}_shuffle_{bed_name}_overlap.txt\\n\")\n",
    "        if(n>1):\n",
    "            for sample in sample_list:\n",
    "                for i in range(n):\n",
    "                    file_handler.write(f\"bedtools pairtobed -a {shuffle_dir}/{sample}_shuffle_{i}.bedpe -b {bed} -type {otype} > \\\n",
    "{overlap_dir}/{sample}_shuffle_{i}_{bed_name}_overlap.txt\\n\")\n",
    "    file_handler.close()\n",
    "    !swarm -f {script_dir}/all_{bed_name}_shuffle_overlap.swarm --module bedtools --g 50\n",
    "    \n",
    "#get overlap data for all shuffled bedpe files\n",
    "def get_bedpe_list_bed_shuffle_overlap_data(sample_list, shuffle_dir, n, bed, overlap_dir, delete = False):\n",
    "    overlap_df = pd.DataFrame()\n",
    "    bed_name = os.path.splitext(os.path.basename(bed))[0]\n",
    " \n",
    "    if(n==1):\n",
    "        for sample in sample_list:\n",
    "            overlap_file = overlap_dir + '/'+sample+'_shuffle_'+bed_name+'_overlap.txt'\n",
    "            sample_file = shuffle_dir + '/' + sample + '_shuffle.bedpe'\n",
    "            sample_overlap = get_bedpe_bed_overlap_data(overlap_file = overlap_file, sample_file = sample_file)\n",
    "            overlap_df = overlap_df.append(sample_overlap, ignore_index = True)\n",
    "            print(sample)\n",
    "            if(delete):\n",
    "                os.remove(overlap_file)\n",
    "                os.remove(sample_file)\n",
    "    elif (n>1):\n",
    "        for sample in sample_list:\n",
    "            for i in range(n):\n",
    "                overlap_file = overlap_dir + '/'+sample+'_shuffle_' + str(i) +'_'+bed_name+'_overlap.txt'\n",
    "                sample_file = shuffle_dir + '/' + sample + '_shuffle_' + str(i) + '.bedpe'\n",
    "                sample_overlap = get_bedpe_bed_overlap_data(overlap_file = overlap_file, sample_file = sample_file)\n",
    "                overlap_df = overlap_df.append(sample_overlap, ignore_index = True)\n",
    "                print(sample + ' ' + str(i))\n",
    "                if(delete):\n",
    "                    os.remove(overlap_file)\n",
    "                    os.remove(sample_file)\n",
    "    return overlap_df\n"
   ]
  },
  {
   "cell_type": "markdown",
   "metadata": {},
   "source": [
    "make directories and run the setup functions"
   ]
  },
  {
   "cell_type": "code",
   "execution_count": null,
   "metadata": {},
   "outputs": [],
   "source": [
    "!mkdir {ANALYSIS_DIR}\n",
    "!mkdir {SAMPLES_DIR}\n",
    "!mkdir {SAMPLES_NH_DIR}\n",
    "!mkdir {SCRIPT_DIR}\n",
    "!mkdir {OVERLAP_DIR}\n",
    "!mkdir {SHUFFLE_DIR}\n",
    "!mkdir {MISC_DIR}\n",
    "!mkdir {RESULTS_DIR}"
   ]
  },
  {
   "cell_type": "code",
   "execution_count": null,
   "metadata": {},
   "outputs": [],
   "source": [
    "#list of the sample names taken from the juicer directory\n",
    "SAMPLES = [ name for name in os.listdir(JUICER_DIR) if os.path.isdir(os.path.join(JUICER_DIR, name)) and 'HICS' in name ]\n",
    "print(len(SAMPLES))\n",
    "print(SAMPLES)\n",
    "get_sample_loop_files(JUICER_DIR, SAMPLES_DIR, SAMPLES)\n",
    "get_no_header_loop_files(SAMPLES_DIR, SAMPLES_NH_DIR, SAMPLES)"
   ]
  },
  {
   "cell_type": "markdown",
   "metadata": {},
   "source": [
    "run the overlap function"
   ]
  },
  {
   "cell_type": "code",
   "execution_count": null,
   "metadata": {},
   "outputs": [],
   "source": [
    "TYPE='both'\n"
   ]
  },
  {
   "cell_type": "code",
   "execution_count": null,
   "metadata": {},
   "outputs": [],
   "source": [
    "generate_bedpe_between_overlap_swarm(sample_list= SAMPLES, sample_nh_dir=SAMPLES_NH_DIR, otype=TYPE, overlap_dir= OVERLAP_DIR, script_dir=SCRIPT_DIR)"
   ]
  },
  {
   "cell_type": "markdown",
   "metadata": {},
   "source": [
    "collect the overlap data"
   ]
  },
  {
   "cell_type": "code",
   "execution_count": null,
   "metadata": {},
   "outputs": [],
   "source": [
    "countdata, percentdata = get_bedpe_between_overlap_data(sample_list= SAMPLES, sample_nh_dir=SAMPLES_NH_DIR , overlap_dir= OVERLAP_DIR, delete = False)\n"
   ]
  },
  {
   "cell_type": "code",
   "execution_count": null,
   "metadata": {},
   "outputs": [],
   "source": [
    "#count data values are number of unique loops in column sample that overlap with at least one loop in row sample\n",
    "countdata.to_csv(f\"{RESULTS_DIR}/sample_overlap_count.csv\")\n",
    "#number of unique loops in col sample that overlap with at least one loop in row sample divided by total number of loops in col sample\n",
    "percentdata.to_csv(f\"{RESULTS_DIR}/sample_overlap_percent.csv\")"
   ]
  },
  {
   "cell_type": "markdown",
   "metadata": {},
   "source": [
    "## Validate"
   ]
  },
  {
   "cell_type": "code",
   "execution_count": null,
   "metadata": {},
   "outputs": [],
   "source": [
    "countdata"
   ]
  },
  {
   "cell_type": "code",
   "execution_count": null,
   "metadata": {},
   "outputs": [],
   "source": [
    "percentdata"
   ]
  },
  {
   "cell_type": "code",
   "execution_count": null,
   "metadata": {},
   "outputs": [],
   "source": [
    "#get all sample 1 loops\n",
    "sample1_loops = pd.read_csv(f\"{SAMPLES_DIR}/HICS_CS25i_FBn_d25_S6.bedpe\",sep='\\t')\n",
    "print(sample1_loops.shape)\n",
    "#print(sample1_loops.head())"
   ]
  },
  {
   "cell_type": "code",
   "execution_count": null,
   "metadata": {},
   "outputs": [],
   "source": [
    "#get all sample2 loops\n",
    "sample2_loops = pd.read_csv(f\"{SAMPLES_DIR}/HICS_CS25i_d0_S9.bedpe\",sep='\\t')\n",
    "print(sample2_loops.shape)\n",
    "#print(sample2_loops.head())"
   ]
  },
  {
   "cell_type": "code",
   "execution_count": null,
   "metadata": {},
   "outputs": [],
   "source": [
    "#get the sample1 overlap with sample2 and dedup to get unique loops that overlap\n",
    "sample1_sample2_overlap = pd.read_csv(f\"{OVERLAP_DIR}/HICS_CS25i_FBn_d25_S6_HICS_CS25i_d0_S9_overlap.txt\",sep='\\t',header=None)\n",
    "print(sample1_sample2_overlap.shape)\n",
    "print(sample1_sample2_overlap.head())\n",
    "\n",
    "print(\"deduplicated\")\n",
    "s1_s2_overlap_s1_loops = sample1_sample2_overlap.iloc[:,0:6]\n",
    "s1_s2_overlap_s1_loops_dedup = s1_s2_overlap_s1_loops.drop_duplicates()\n",
    "print(s1_s2_overlap_s1_loops_dedup.shape)"
   ]
  },
  {
   "cell_type": "code",
   "execution_count": null,
   "metadata": {},
   "outputs": [],
   "source": [
    "#calculate the percent overlap for sample1\n",
    "print(len(s1_s2_overlap_s1_loops_dedup.index))\n",
    "print(len(sample1_loops.index))\n",
    "print(str(len(s1_s2_overlap_s1_loops_dedup.index)/len(sample1_loops.index)*100))"
   ]
  },
  {
   "cell_type": "code",
   "execution_count": null,
   "metadata": {},
   "outputs": [],
   "source": [
    "#get the sample2 overlap with sample1 and dedup to get unique loops that overlap\n",
    "sample2_sample1_overlap = pd.read_csv(f\"{OVERLAP_DIR}/HICS_CS25i_d0_S9_HICS_CS25i_FBn_d25_S6_overlap.txt\",sep='\\t',header=None)\n",
    "print(sample2_sample1_overlap.shape)\n",
    "print(sample2_sample1_overlap.head())\n",
    "\n",
    "print(\"deduplicated\")\n",
    "s2_s1_overlap_s2_loops = sample2_sample1_overlap.iloc[:,0:6]\n",
    "s2_s1_overlap_s2_loops_dedup = s2_s1_overlap_s2_loops.drop_duplicates()\n",
    "print(s2_s1_overlap_s2_loops_dedup.shape)"
   ]
  },
  {
   "cell_type": "code",
   "execution_count": null,
   "metadata": {},
   "outputs": [],
   "source": [
    "#calculate the percent overlap for sample1\n",
    "print(len(s2_s1_overlap_s2_loops_dedup.index))\n",
    "print(len(sample2_loops.index))\n",
    "print(str(len(s2_s1_overlap_s2_loops_dedup.index)/len(sample2_loops.index)*100))"
   ]
  },
  {
   "cell_type": "code",
   "execution_count": null,
   "metadata": {},
   "outputs": [],
   "source": []
  }
 ],
 "metadata": {
  "kernelspec": {
   "display_name": "Python 3",
   "language": "python",
   "name": "python3"
  },
  "language_info": {
   "codemirror_mode": {
    "name": "ipython",
    "version": 3
   },
   "file_extension": ".py",
   "mimetype": "text/x-python",
   "name": "python",
   "nbconvert_exporter": "python",
   "pygments_lexer": "ipython3",
   "version": "3.6.7"
  }
 },
 "nbformat": 4,
 "nbformat_minor": 4
}
