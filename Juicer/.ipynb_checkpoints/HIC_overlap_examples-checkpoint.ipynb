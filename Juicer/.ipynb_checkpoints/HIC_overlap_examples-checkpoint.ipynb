{
 "cells": [
  {
   "cell_type": "markdown",
   "metadata": {},
   "source": [
    "# HIC Overlap Examples\n",
    "- **Author** - Frank Grenn\n",
    "- **Date Started** - March 2020\n",
    "- **Quick Description:** \n",
    "    * examples using test bedpe and bed files to check for overlap between different files in different ways. \n",
    "    * Setup to work with juicer bedpe output. Relies on functions in the `overlapBedpeAndBed.py` file. \n",
    "    * includes code to:\n",
    "        * overlap between all samples\n",
    "        * overlap all samples with one bedpe or bed file\n",
    "        * randomly shuffle the sample bedpe files to check for overlap with another bed file.\n",
    "\n",
    "## Contents:\n",
    "#### 1) Layout  \n",
    "#### 2) Setup  \n",
    "#### 3) Parameter Reference  \n",
    "#### 4) Generate Overlap Data"
   ]
  },
  {
   "cell_type": "code",
   "execution_count": null,
   "metadata": {},
   "outputs": [],
   "source": [
    "import pandas as pd\n",
    "import os\n"
   ]
  },
  {
   "cell_type": "markdown",
   "metadata": {},
   "source": [
    "## 1) Layout\n",
    "```\n",
    "|-- overlap_analysis\n",
    "|   |-- samples\n",
    "|   |   |-- HICS_CS25i_d0_S9.bedpe\n",
    "|   |   |-- ...\n",
    "|   |-- samples_no_header\n",
    "|   |   |-- HICS_CS25i_d0_S9.bedpe\n",
    "|   |   |-- ...\n",
    "|   |-- scripts\n",
    "|   |-- overlap\n",
    "|   |-- shuffle\n",
    "|   |-- misc\n",
    "```"
   ]
  },
  {
   "cell_type": "markdown",
   "metadata": {},
   "source": [
    "## 2) Setup\n",
    "* a) create directories\n",
    "* b) load other paths into variables\n",
    "* c) load the overlap functions\n",
    "* d) move data\n",
    "* e) format data\n"
   ]
  },
  {
   "cell_type": "markdown",
   "metadata": {},
   "source": [
    "#### a) create directories\n",
    "create directories as shown in (1) layout and store the paths in variables"
   ]
  },
  {
   "cell_type": "code",
   "execution_count": null,
   "metadata": {},
   "outputs": [],
   "source": [
    "#directory containing all the sample folders. each sample folder should be named after the sample\n",
    "JUICER_DIR=\"/path/to/juicer/sample/directories\"#can be the path to the \"example_test_files\" if you want to test on some fake data\n",
    "#the rest of these are created in the next cell\n",
    "ANALYSIS_DIR = JUICER_DIR+\"/overlap_analysis\"\n",
    "SAMPLES_DIR = JUICER_DIR+\"/overlap_analysis/samples\"\n",
    "SAMPLES_NH_DIR = JUICER_DIR+\"/overlap_analysis/samples_no_header\"\n",
    "SCRIPT_DIR = JUICER_DIR+\"/overlap_analysis/scripts\"\n",
    "OVERLAP_DIR= JUICER_DIR+\"/overlap_analysis/overlap\"\n",
    "SHUFFLE_DIR = JUICER_DIR+\"/overlap_analysis/shuffle\"\n",
    "MISC_DIR = JUICER_DIR+\"/overlap_analysis/misc\""
   ]
  },
  {
   "cell_type": "code",
   "execution_count": null,
   "metadata": {},
   "outputs": [],
   "source": [
    "!mkdir {ANALYSIS_DIR}\n",
    "!mkdir {SAMPLES_DIR}\n",
    "!mkdir {SAMPLES_NH_DIR}\n",
    "!mkdir {SCRIPT_DIR}\n",
    "!mkdir {OVERLAP_DIR}\n",
    "!mkdir {SHUFFLE_DIR}\n",
    "!mkdir {MISC_DIR}"
   ]
  },
  {
   "cell_type": "markdown",
   "metadata": {},
   "source": [
    "#### b) load other paths into variables\n",
    "get paths to compare files and names of samples"
   ]
  },
  {
   "cell_type": "code",
   "execution_count": null,
   "metadata": {},
   "outputs": [],
   "source": [
    "#path to a bed that may be used later for overlap\n",
    "BED_FILE = \"/path/to/file.bed\"\n",
    "#path to a bedpe that may be used later for overlap\n",
    "BEDPE_FILE = \"/path/to/file.bedpe\"\n",
    "#path to a genome sizes file that will be used for random sampling\n",
    "GENOME_SIZES=\"/path/to/genome.sizes\"\n",
    "\n",
    "# the value to give the 'type' parameter in bedtools pairtobed or pairtopair used for checking overlap\n",
    "TYPE = 'both'\n",
    "\n",
    "\n"
   ]
  },
  {
   "cell_type": "code",
   "execution_count": null,
   "metadata": {},
   "outputs": [],
   "source": []
  },
  {
   "cell_type": "code",
   "execution_count": null,
   "metadata": {},
   "outputs": [],
   "source": [
    "#list of the sample names taken from the juicer directory. May need to look for a specific string in the name to identify sample directories\n",
    "SAMPLES = [ name for name in os.listdir(JUICER_DIR) if os.path.isdir(os.path.join(JUICER_DIR, name)) and 'sample' in name] # change/remove the \"and 'sample' in name\" as needed\n",
    "print(len(SAMPLES))\n",
    "print(SAMPLES)"
   ]
  },
  {
   "cell_type": "markdown",
   "metadata": {},
   "source": [
    "#### c) load the overlap functions\n",
    "load the overlapBedpeAndBed.py which contains the other functions we will use  \n",
    "to do so run `%load overlapBedpeAndBed.py` in a cell"
   ]
  },
  {
   "cell_type": "code",
   "execution_count": null,
   "metadata": {},
   "outputs": [],
   "source": [
    "# %load new/overlapBedpeAndBed.py\n",
    "import os\n",
    "import pandas as pd\n",
    "\n",
    "\n",
    "#swarm sample Bedpe and Single Bedpe Overlap\n",
    "def generate_bedpe_bedpe_overlap_swarm(sample_list, sample_nh_dir, bedpe, otype, overlap_dir, script_dir):\n",
    "\n",
    "    bedpe_name = os.path.splitext(os.path.basename(bedpe))[0]\n",
    "\n",
    "    with open(f\"{script_dir}/all_{bedpe_name}_overlap.swarm\",'w') as file_handler:\n",
    "        for sample in sample_list:\n",
    "            file_handler.write(f\"bedtools pairtopair -a {sample_nh_dir}/{sample}.bedpe -b {bedpe} -type {otype} > \\\n",
    "{overlap_dir}/{sample}_{bedpe_name}_overlap.txt\\n\")\n",
    "\n",
    "    file_handler.close()\n",
    "    os.system(f\"swarm -f {script_dir}/all_{bedpe_name}_overlap.swarm --module bedtools --g 50\")\n",
    "    \n",
    "#single Bedpe and Bed Overlap\n",
    "def run_bedpe_bed_overlap(sample, sample_nh_dir, bed, otype, overlap_dir):\n",
    "    bed_name = os.path.splitext(os.path.basename(bed))[0]\n",
    "    os.system(f\"module load bedtools; \\\n",
    "              bedtools pairtobed -a {sample_nh_dir}/{sample}.bedpe -b {bed} -type {otype} > {overlap_dir}/{sample}_{bed_name}_overlap.txt\")\n",
    "    \n",
    "#copy the loop files and rename\n",
    "def get_sample_loop_files(juicer_dir, sample_dir, sample_list):\n",
    "    for sample in sample_list:\n",
    "        os.system(f\"cp {juicer_dir}/{sample}/aligned/inter_30_loops/merged_loops.bedpe {sample_dir}\")\n",
    "        os.system(f\"mv {sample_dir}/merged_loops.bedpe {sample_dir}/{sample}.bedpe\")\n",
    "\n",
    "#reformat the loop files and relocate them\n",
    "def get_no_header_loop_files(sample_dir, sample_nh_dir, sample_list):\n",
    "    for sample in sample_list:\n",
    "        #read the bedpe and prepend 'chr' to the two chromosome cols\n",
    "        sample_bedpe = pd.read_csv(f\"{sample_dir}/{sample}.bedpe\",sep='\\t')\n",
    "        sample_bedpe['chr1'] = 'chr' + sample_bedpe['chr1'].astype(str)\n",
    "        sample_bedpe['chr2'] = 'chr' + sample_bedpe['chr2'].astype(str)\n",
    "        sample_bedpe=sample_bedpe[['chr1','x1','x2','chr2','y1','y2']]\n",
    "\n",
    "        sample_bedpe.to_csv(f\"{sample_nh_dir}/{sample}.bedpe\", sep='\\t', header=False, index=None, mode='w+')\n",
    "\n",
    "#get a df of overlap data between a bedpe and bed \n",
    "def get_bedpe_bed_overlap_data(overlap_file, sample_file):\n",
    "    \n",
    "    sample_name = os.path.splitext(os.path.basename(sample_file))[0]\n",
    "    sample_lines = len(pd.read_csv(sample_file,sep=\"\\t\",header=None).index)\n",
    "    #read the overlap output\n",
    "    #overlap_data = pd.read_csv(f\"{overlap_dir}/{sample}_{bed_name}_overlap.txt\",sep=\"\\t\",header=None)\n",
    "    if(os.path.getsize(overlap_file) == 0):\n",
    "    \treturn pd.DataFrame(data={'sample':[sample_name], 'counts':0, 'total':[sample_lines], 'percent':[0]})\n",
    "    overlap_data = pd.read_csv(overlap_file, sep = \"\\t\", header = None)\n",
    "    \n",
    "    #we only want the first 6 cols corresponding to the bedpe loops for now\n",
    "    overlap_subset = overlap_data.iloc[:,:6]\n",
    "    #remove duplicate rows\n",
    "    unique_overlaps = overlap_subset.drop_duplicates()\n",
    "    #count the number of overlaps\n",
    "    overlap_counts = len(unique_overlaps.index)\n",
    "    \n",
    "    \n",
    "    \n",
    "    ret_df = pd.DataFrame(data={'sample':[sample_name], 'counts':[overlap_counts], 'total':[sample_lines], 'percent':[(overlap_counts/sample_lines * 100)]})\n",
    "    \n",
    "    return ret_df\n",
    "\n",
    "#All sample bedpe overlap with one bed file\n",
    "def generate_bedpe_bed_overlap_swarm(sample_list, sample_nh_dir , bed, otype, overlap_dir, script_dir):\n",
    "\n",
    "    bed_name = os.path.splitext(os.path.basename(bed))[0]\n",
    "\n",
    "    with open(f\"{script_dir}/all_{bed_name}_overlap.swarm\",'w') as file_handler:\n",
    "        for sample in sample_list:\n",
    "            file_handler.write(f\"bedtools pairtobed -a {sample_nh_dir}/{sample}.bedpe -b {bed} -type {otype} > \\\n",
    "{overlap_dir}/{sample}_{bed_name}_overlap.txt\\n\")\n",
    "\n",
    "    file_handler.close()\n",
    "    !swarm -f {script_dir}/all_{bed_name}_overlap.swarm --module bedtools --g 50\n",
    "    \n",
    "    \n",
    "    \n",
    "#get a df of overlap data between a bedpe and bedpe\n",
    "def get_bedpe_bedpe_overlap_data(overlap_file, sample_file):\n",
    "    \n",
    "    sample_name = os.path.splitext(os.path.basename(sample_file))[0]\n",
    "    sample_lines = len(pd.read_csv(sample_file,sep=\"\\t\",header=None).index)\n",
    "    #read the overlap output\n",
    "    #overlap_data = pd.read_csv(f\"{overlap_dir}/{sample}_{bed_name}_overlap.txt\",sep=\"\\t\",header=None)\n",
    "    if(os.path.getsize(overlap_file) == 0):\n",
    "    \treturn pd.DataFrame(data={'sample':[sample_name], 'counts':0, 'total':[sample_lines], 'percent':[0]})\n",
    "    overlap_data = pd.read_csv(overlap_file, sep = \"\\t\", header = None)\n",
    "    \n",
    "    #we only want the first 6 cols corresponding to the bedpe loops for now\n",
    "    overlap_subset = overlap_data.iloc[:,:6]\n",
    "    #remove duplicate rows\n",
    "    unique_overlaps = overlap_subset.drop_duplicates()\n",
    "    #count the number of overlaps\n",
    "    overlap_counts = len(unique_overlaps.index)\n",
    "    \n",
    "    \n",
    "    \n",
    "    ret_df = pd.DataFrame(data={'sample':[sample_name], 'counts':[overlap_counts], 'total':[sample_lines], 'percent':[(overlap_counts/sample_lines * 100)]})\n",
    "    \n",
    "    return ret_df\n",
    "\n",
    "#get a df for all sample bedpe overlap with another bedpe\n",
    "def get_bedpe_list_bedpe_overlap_data(sample_list, sample_nh_dir , bedpe, overlap_dir, delete = False):\n",
    "\n",
    "    overlap_df = pd.DataFrame()\n",
    "    bedpe_name = os.path.splitext(os.path.basename(bedpe))[0]\n",
    "    for sample in sample_list:\n",
    "        overlap_file = overlap_dir + '/'+sample+'_'+bedpe_name+'_overlap.txt'\n",
    "        sample_file = sample_nh_dir + '/' + sample + '.bedpe'\n",
    "        sample_overlap = get_bedpe_bedpe_overlap_data(overlap_file = overlap_file, sample_file = sample_file)\n",
    "        overlap_df = overlap_df.append(sample_overlap, ignore_index = True)\n",
    "        print(sample)\n",
    "        if(delete):\n",
    "            os.remove(overlap_file)\n",
    "    return overlap_df\n",
    "\n",
    "#get a df for all sample bedpe overlap with a bed file\n",
    "def get_bedpe_list_bed_overlap_data(sample_list, sample_nh_dir , bed, overlap_dir, delete = False):\n",
    "\n",
    "    overlap_df = pd.DataFrame()\n",
    "    bed_name = os.path.splitext(os.path.basename(bed))[0]\n",
    "    for sample in sample_list:\n",
    "        overlap_file = overlap_dir + '/'+sample+'_'+bed_name+'_overlap.txt'\n",
    "        sample_file = sample_nh_dir + '/' + sample + '.bedpe'\n",
    "        sample_overlap = get_bedpe_bed_overlap_data(overlap_file = overlap_file, sample_file = sample_file)\n",
    "        overlap_df = overlap_df.append(sample_overlap, ignore_index = True)\n",
    "        print(sample)\n",
    "        if(delete):\n",
    "            os.remove(overlap_file)\n",
    "    return overlap_df\n",
    "\n",
    "\n",
    "#overlap samples with each other\n",
    "def generate_bedpe_between_overlap_swarm(sample_list, sample_nh_dir, otype, overlap_dir, script_dir):\n",
    "\n",
    "    with open(f\"{script_dir}/all_samples_between_overlap.swarm\",'w') as file_handler:\n",
    "        for sample1 in sample_list:\n",
    "        \n",
    "            for sample2 in sample_list:\n",
    "                if(sample1 != sample2):\n",
    "                    file_handler.write(f\"bedtools pairtopair -a {sample_nh_dir}/{sample1}.bedpe -b {sample_nh_dir}/{sample2}.bedpe -type {otype} > \\\n",
    "{overlap_dir}/{sample1}_{sample2}_overlap.txt\\n\")\n",
    "            \n",
    "\n",
    "\n",
    "    file_handler.close()\n",
    "    os.system(f\"swarm -f {script_dir}/all_samples_between_overlap.swarm --module bedtools --g 50\")\n",
    "\n",
    "#get df/matrix of between sample overlap data\n",
    "def get_bedpe_between_overlap_data(sample_list, sample_nh_dir, overlap_dir, delete = False):\n",
    "\n",
    "    sample_list = sorted(sample_list)\n",
    "    all_percent_data={}\n",
    "    all_count_data={}\n",
    "    for sample in sample_list:\n",
    "        if(os.stat(f\"{sample_nh_dir}/{sample}.bedpe\").st_size != 0):\n",
    "            sample_lines = len(pd.read_csv(f\"{sample_nh_dir}/{sample}.bedpe\",sep=\"\\t\").index)\n",
    "        else:\n",
    "            sample_lines=0\n",
    "\n",
    "        comp_percent_data={}\n",
    "        comp_count_data={}\n",
    "\n",
    "        for comp_sample in sample_list:\n",
    "            if sample!=comp_sample:\n",
    "                if(os.stat(f\"{overlap_dir}/{sample}_{comp_sample}_overlap.txt\").st_size !=0 ):\n",
    "                    \n",
    "                    sample_file = f\"{sample_nh_dir}/{sample}.bedpe\"\n",
    "                    overlap_file = f\"{overlap_dir}/{sample}_{comp_sample}_overlap.txt\"\n",
    "                    df = get_bedpe_bedpe_overlap_data(overlap_file,sample_file)\n",
    "                    comp_count_data[comp_sample] = df.iloc[0]['counts']\n",
    "                    comp_percent_data[comp_sample] = df.iloc[0]['percent']\n",
    "                    \n",
    "\n",
    "\n",
    "            if sample==comp_sample:\n",
    "                comp_percent_data[comp_sample]=None\n",
    "                comp_count_data[comp_sample]=None\n",
    "        all_percent_data[sample]=comp_percent_data\n",
    "        all_count_data[sample]=comp_count_data\n",
    "\n",
    "    percent_df = pd.DataFrame(data=all_percent_data)\n",
    "    count_df = pd.DataFrame(data=all_count_data)\n",
    "    return count_df, percent_df\n",
    "\n",
    "#shuffle a bedpe file n times\n",
    "def shuffle_bedpe(sample, n, sample_nh_dir, shuffle_dir, sizes):\n",
    "\n",
    "    #just shuffle once\n",
    "    if(n==1):\n",
    "        !(module load bedtools; \\\n",
    "     bedtools shuffle -i {sample_nh_dir}/{sample}.bedpe -g {sizes} -bedpe > {shuffle_dir}/{sample}_shuffle.bedpe)\n",
    "    else:\n",
    "        for i in range(n):\n",
    "            !(module load bedtools; \\\n",
    "     bedtools shuffle -i {sample_nh_dir}/{sample}.bedpe -g {sizes} -bedpe > {shuffle_dir}/{sample}_shuffle_{i}.bedpe)\n",
    "\n",
    "#shuffle all the sample bedpes n times\n",
    "def shuffle_bedpe_list(sample_list, n, sample_nh_dir, shuffle_dir, sizes):\n",
    "\n",
    "    for sample in sample_list:\n",
    "        shuffle_bedpe(sample = sample, n = n, sample_nh_dir = sample_nh_dir, shuffle_dir = shuffle_dir, sizes = sizes)\n",
    "\n",
    "#check for overlap with a bed file in all shuffled sample bedpes\n",
    "def shuffle_swarm_overlap(sample_list, n, sample_nh_dir , bed, otype, shuffle_dir, overlap_dir, script_dir):\n",
    "\n",
    "    bed_name = os.path.splitext(os.path.basename(bed))[0]\n",
    "    \n",
    "\n",
    "    with open(f\"{script_dir}/all_{bed_name}_shuffle_overlap.swarm\",'w') as file_handler:\n",
    "        if(n==1):\n",
    "            for sample in sample_list:\n",
    "                file_handler.write(f\"bedtools pairtobed -a {shuffle_dir}/{sample}_shuffle.bedpe -b {bed} -type {otype} > \\\n",
    "{overlap_dir}/{sample}_shuffle_{bed_name}_overlap.txt\\n\")\n",
    "        if(n>1):\n",
    "            for sample in sample_list:\n",
    "                for i in range(n):\n",
    "                    file_handler.write(f\"bedtools pairtobed -a {shuffle_dir}/{sample}_shuffle_{i}.bedpe -b {bed} -type {otype} > \\\n",
    "{overlap_dir}/{sample}_shuffle_{i}_{bed_name}_overlap.txt\\n\")\n",
    "    file_handler.close()\n",
    "    !swarm -f {script_dir}/all_{bed_name}_shuffle_overlap.swarm --module bedtools --g 50\n",
    "    \n",
    "#get overlap data for all shuffled bedpe files\n",
    "def get_bedpe_list_bed_shuffle_overlap_data(sample_list, shuffle_dir, n, bed, overlap_dir, delete = False):\n",
    "    overlap_df = pd.DataFrame()\n",
    "    bed_name = os.path.splitext(os.path.basename(bed))[0]\n",
    " \n",
    "    if(n==1):\n",
    "        for sample in sample_list:\n",
    "            overlap_file = overlap_dir + '/'+sample+'_shuffle_'+bed_name+'_overlap.txt'\n",
    "            sample_file = shuffle_dir + '/' + sample + '_shuffle.bedpe'\n",
    "            sample_overlap = get_bedpe_bed_overlap_data(overlap_file = overlap_file, sample_file = sample_file)\n",
    "            overlap_df = overlap_df.append(sample_overlap, ignore_index = True)\n",
    "            print(sample)\n",
    "            if(delete):\n",
    "                os.remove(overlap_file)\n",
    "                os.remove(sample_file)\n",
    "    elif (n>1):\n",
    "        for sample in sample_list:\n",
    "            for i in range(n):\n",
    "                overlap_file = overlap_dir + '/'+sample+'_shuffle_' + str(i) +'_'+bed_name+'_overlap.txt'\n",
    "                sample_file = shuffle_dir + '/' + sample + '_shuffle_' + str(i) + '.bedpe'\n",
    "                sample_overlap = get_bedpe_bed_overlap_data(overlap_file = overlap_file, sample_file = sample_file)\n",
    "                overlap_df = overlap_df.append(sample_overlap, ignore_index = True)\n",
    "                print(sample + ' ' + str(i))\n",
    "                if(delete):\n",
    "                    os.remove(overlap_file)\n",
    "                    os.remove(sample_file)\n",
    "    return overlap_df\n"
   ]
  },
  {
   "cell_type": "markdown",
   "metadata": {},
   "source": [
    "#### d) move data\n",
    "gather all the loop bedpes and place them in the `SAMPLES_DIR` directory"
   ]
  },
  {
   "cell_type": "code",
   "execution_count": null,
   "metadata": {},
   "outputs": [],
   "source": [
    "get_sample_loop_files(JUICER_DIR, SAMPLES_DIR, SAMPLES)"
   ]
  },
  {
   "cell_type": "markdown",
   "metadata": {},
   "source": [
    "#### e) format data\n",
    "modify the files to remove the header, only include the first six columns, and prepend 'chr' to all chromosome numbers"
   ]
  },
  {
   "cell_type": "code",
   "execution_count": null,
   "metadata": {},
   "outputs": [],
   "source": [
    "get_no_header_loop_files(SAMPLES_DIR, SAMPLES_NH_DIR, SAMPLES)"
   ]
  },
  {
   "cell_type": "markdown",
   "metadata": {},
   "source": [
    "## 3) Parameter Reference\n",
    "* `juicer_dir`: directory containing per sample juicer folders\n",
    "* `sample_dir`: directory that does/will contain the per sample bedpes\n",
    "* `sample_nh_dir`: directory that does/will contain the per sample bedpes with headers removed\n",
    "* `sample`: sample name that should match the name of its juicer folder and bedpe name in the samples folder\n",
    "* `bed`: full path of the bed file to compare \n",
    "* `otype`: type of overlap to use with bedtools. Typically want 'Both'. See [pairToPair options](https://bioweb.pasteur.fr/docs/modules/bedtools/2.17.0/content/pairToPair.html?highlight=pairtopair) and [pairToBed options](https://bioweb.pasteur.fr/docs/modules/bedtools/2.17.0/content/pairToBed.html)\n",
    "* `overlap_dir`: directory to place the overlap data"
   ]
  },
  {
   "cell_type": "markdown",
   "metadata": {},
   "source": [
    "\n",
    "# 4) Generate Overlap Data\n",
    "## a) Overlap one bedpe with one bed\n",
    "* to check for overlap between a bedpe and bed file. Needs to be run on biowulf. \n",
    "`run_bedpe_bed_overlap(sample, sample_nh_dir = SAMPLES_NH_DIR , bed=BED_FILE, otype=TYPE, overlap_dir = OVERLAP_DIR)`"
   ]
  },
  {
   "cell_type": "code",
   "execution_count": null,
   "metadata": {},
   "outputs": [],
   "source": [
    "run_bedpe_bed_overlap('sample1',SAMPLES_NH_DIR,BED_FILE,TYPE,OVERLAP_DIR)"
   ]
  },
  {
   "cell_type": "markdown",
   "metadata": {},
   "source": [
    "#### now get a DF with the data\n",
    "* get a dataframe to count the number of overlaps. `get_bedpe_bed_overlap_data(overlap_file, sample_file)`"
   ]
  },
  {
   "cell_type": "code",
   "execution_count": null,
   "metadata": {},
   "outputs": [],
   "source": [
    "get_bedpe_bed_overlap_data(\"/path/to/overlap/file.txt\", \"/path/to/sample/no/header/bedpe.bedpe\")"
   ]
  },
  {
   "cell_type": "markdown",
   "metadata": {},
   "source": [
    "## b) Overlap all sample bedpes with one bed\n",
    "* to check for overlap between all sample bedpes and one bed file. Needs to be run on biowulf. \n",
    "`generate_bedpe_bed_overlap_swarm(sample_list = SAMPLES, sample_nh_dir = SAMPLES_NH_DIR , bed=BED_FILE, otype=TYPE, overlap_dir = OVERLAP_DIR, script_dir = SCRIPT_DIR)`"
   ]
  },
  {
   "cell_type": "code",
   "execution_count": null,
   "metadata": {},
   "outputs": [],
   "source": [
    "generate_bedpe_bed_overlap_swarm(SAMPLES,SAMPLES_NH_DIR,BED_FILE,TYPE,OVERLAP_DIR,SCRIPT_DIR)"
   ]
  },
  {
   "cell_type": "markdown",
   "metadata": {},
   "source": [
    "#### now get a DF with the data\n",
    "* get a dataframe to count the number of overlaps for all samples. `get_bedpe_list_bed_overlap_data(sample_list = SAMPLES, sample_nh_dir = SAMPLES_NH_DIR , bed=BED_FILE, overlap_dir = OVERLAP_DIR, delete = False)`"
   ]
  },
  {
   "cell_type": "code",
   "execution_count": null,
   "metadata": {},
   "outputs": [],
   "source": [
    "get_bedpe_list_bed_overlap_data(SAMPLES,SAMPLES_NH_DIR,BED_FILE,OVERLAP_DIR,False)"
   ]
  },
  {
   "cell_type": "markdown",
   "metadata": {},
   "source": [
    "## c) Overlap all sample bedpes with one bedpe\n",
    "* to check for overlap with one bedpe file with all samples. Needs to be run on biowulf. `generate_bedpe_bedpe_overlap_swarm(sample_list=SAMPLES, sample_nh_dir=SAMPLES_NH_DIR, bedpe=BEDPE_FILE, otype=TYPE, overlap_dir=OVERLAP_DIR, script_dir=SCRIPT_DIR)`\n"
   ]
  },
  {
   "cell_type": "code",
   "execution_count": null,
   "metadata": {},
   "outputs": [],
   "source": [
    "generate_bedpe_bedpe_overlap_swarm(SAMPLES, SAMPLES_NH_DIR, BEDPE_FILE, TYPE, OVERLAP_DIR, SCRIPT_DIR)"
   ]
  },
  {
   "cell_type": "markdown",
   "metadata": {},
   "source": [
    "#### now get a DF with the data\n",
    "* get a dataframe to count the number of overlaps for all samples. `get_bedpe_list_bedpe_overlap_data(sample_list = SAMPLES, sample_nh_dir = SAMPLES_NH_DIR , bedpe=BEDPE_FILE, overlap_dir = OVERLAP_DIR, delete = False)`"
   ]
  },
  {
   "cell_type": "code",
   "execution_count": null,
   "metadata": {},
   "outputs": [],
   "source": [
    "get_bedpe_list_bedpe_overlap_data(SAMPLES, SAMPLES_NH_DIR , BEDPE_FILE, OVERLAP_DIR, False)"
   ]
  },
  {
   "cell_type": "code",
   "execution_count": null,
   "metadata": {},
   "outputs": [],
   "source": []
  },
  {
   "cell_type": "markdown",
   "metadata": {},
   "source": [
    "## d) Overlap all sample bedpes with each other\n",
    "* to check for overlap between all samples. Needs to be run on biowulf. `generate_bedpe_between_overlap_swarm(sample_list=SAMPLES, sample_nh_dir=SAMPLES_NH_DIR, otype=TYPE, overlap_dir=OVERLAP_DIR, script_dir=SCRIPT_DIR)`\n"
   ]
  },
  {
   "cell_type": "code",
   "execution_count": null,
   "metadata": {},
   "outputs": [],
   "source": [
    "generate_bedpe_between_overlap_swarm(SAMPLES, SAMPLES_NH_DIR, TYPE, OVERLAP_DIR, SCRIPT_DIR)"
   ]
  },
  {
   "cell_type": "markdown",
   "metadata": {},
   "source": [
    "#### now get a two result dataframes. One has a matrix that counts unique overlaps between samples. The other is a matrix that contains percentages of unique overlaps between samples. \n",
    "* get a dataframe to count the overlap between samples (overlaps between `row sample` and `col sample`) / (number of `col sample` loops). `get_bedpe_between_overlap_data(sample_list = SAMPLES, sample_nh_dir = SAMPLES_NH_DIR, overlap_dir = OVERLAP_DIR, delete = False)`"
   ]
  },
  {
   "cell_type": "code",
   "execution_count": null,
   "metadata": {},
   "outputs": [],
   "source": [
    "cdf, pdf = get_bedpe_between_overlap_data(SAMPLES,SAMPLES_NH_DIR,OVERLAP_DIR)"
   ]
  },
  {
   "cell_type": "code",
   "execution_count": null,
   "metadata": {},
   "outputs": [],
   "source": [
    "cdf"
   ]
  },
  {
   "cell_type": "code",
   "execution_count": null,
   "metadata": {},
   "outputs": [],
   "source": [
    "pdf"
   ]
  },
  {
   "cell_type": "markdown",
   "metadata": {},
   "source": [
    "## e) Random Sampling of Sample files to overlap with BED file\n",
    "* i) randomly shuffle the sample bedpes n number of times to check overlap with a bed file. Needs to be run on biowulf. \n",
    "* ii) check for overlap with the shuffled bedpes\n",
    "* iii) collect the data\n"
   ]
  },
  {
   "cell_type": "markdown",
   "metadata": {},
   "source": [
    "#### i) randomly shuffle the sample bedpes n number of times to check overlap with a bed file"
   ]
  },
  {
   "cell_type": "code",
   "execution_count": null,
   "metadata": {},
   "outputs": [],
   "source": [
    "shuffle_bedpe_list(sample_list = SAMPLES, n=3, sample_nh_dir = SAMPLES_NH_DIR, shuffle_dir = SHUFFLE_DIR, sizes = GENOME_SIZES)"
   ]
  },
  {
   "cell_type": "markdown",
   "metadata": {},
   "source": [
    "#### ii) check for overlap with the shuffled bedpes"
   ]
  },
  {
   "cell_type": "code",
   "execution_count": null,
   "metadata": {},
   "outputs": [],
   "source": [
    "shuffle_swarm_overlap(sample_list = SAMPLES, n=3, sample_nh_dir = SAMPLES_NH_DIR , bed=BED_FILE, otype=TYPE, shuffle_dir = SHUFFLE_DIR, overlap_dir = OVERLAP_DIR, script_dir = SCRIPT_DIR)"
   ]
  },
  {
   "cell_type": "markdown",
   "metadata": {},
   "source": [
    "#### iii) collect the data"
   ]
  },
  {
   "cell_type": "code",
   "execution_count": null,
   "metadata": {},
   "outputs": [],
   "source": [
    "get_bedpe_list_bed_shuffle_overlap_data(sample_list = SAMPLES, shuffle_dir = SHUFFLE_DIR, n=3, bed=BED_FILE, overlap_dir = OVERLAP_DIR, delete = False)"
   ]
  },
  {
   "cell_type": "code",
   "execution_count": null,
   "metadata": {},
   "outputs": [],
   "source": []
  }
 ],
 "metadata": {
  "kernelspec": {
   "display_name": "Python 3",
   "language": "python",
   "name": "python3"
  },
  "language_info": {
   "codemirror_mode": {
    "name": "ipython",
    "version": 3
   },
   "file_extension": ".py",
   "mimetype": "text/x-python",
   "name": "python",
   "nbconvert_exporter": "python",
   "pygments_lexer": "ipython3",
   "version": "3.6.7"
  }
 },
 "nbformat": 4,
 "nbformat_minor": 4
}
