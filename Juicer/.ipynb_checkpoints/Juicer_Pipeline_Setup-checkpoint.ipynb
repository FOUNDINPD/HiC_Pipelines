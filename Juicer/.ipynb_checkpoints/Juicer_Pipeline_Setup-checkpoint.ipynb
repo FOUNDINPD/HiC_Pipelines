{
 "cells": [
  {
   "cell_type": "markdown",
   "metadata": {},
   "source": [
    "# Basic Setup to Run Juicer on Biowulf\n",
    "- **Author** - Frank Grenn\n",
    "- **Date Started** - October 2019\n",
    "- **Quick Description:** basic setup to run juicer pipeline on biowulf. "
   ]
  },
  {
   "cell_type": "code",
   "execution_count": 1,
   "metadata": {},
   "outputs": [],
   "source": [
    "import os\n",
    "import subprocess"
   ]
  },
  {
   "cell_type": "code",
   "execution_count": null,
   "metadata": {},
   "outputs": [],
   "source": []
  },
  {
   "cell_type": "code",
   "execution_count": 2,
   "metadata": {},
   "outputs": [],
   "source": [
    "#these paths and files need to already exist\n",
    "FASTQDIR = \"/data/CARD/HICtemp/temp_fastqs\" #location of the combined lane fastqs\n",
    "WRKDIR=\"/data/CARD/HICtemp/juicer\" #folder that will contain a folder for each sample's output\n",
    "REF_GENOME_FASTA=\"/data/LNG/Frank/juicer_runs/references/Homo_sapiens_assembly38.fasta\" #pulled down from gs://broad-references/hg38/v0/Homo_sapiens_assembly38.fasta\n",
    "MAIN_JUICER_SCRIPT=\"/data/LNG/Frank/HiC_Project/Juicer/new/juicer.sh\" #modified version of the juicer script\n",
    "CHROM_SIZES=\"/data/LNG/Frank/juicer_runs/mygenome.chrom.sizes\"\n",
    "RESTRICTION_ENZYME_FILE=\"/data/LNG/Frank/juicer_runs/hg38_MboI.txt\"\n"
   ]
  },
  {
   "cell_type": "markdown",
   "metadata": {},
   "source": [
    "Setup directories per sample"
   ]
  },
  {
   "cell_type": "code",
   "execution_count": 4,
   "metadata": {},
   "outputs": [
    {
     "name": "stdout",
     "output_type": "stream",
     "text": [
      "20\n",
      "['HICS_CS25i_d0_S9', 'HICS_PPMI54144_3109_da0_v1_S7', 'HICS_PPMI3966_2813_da65_v1_S3', 'HICS_PPMI3453_7504_da0_v1_S5', 'HICS_PPMI50184_7165_da65_v1_S4', 'HICS_PPMI41471_4917_da0_v1_S8', 'HICS_PPMI54144_3109_da65_v1_S1', 'HICS_PPMI57670_3787_da65_v1_S1', 'HICS_PPMI56954_9190_da65_v1_S6', 'HICS_PPMI57670_3787_da0_v1_S2', 'HICS_PPMI51971_9029_da65_v1_S8', 'HICS_PPMI3966_2813_da0_v1_S2', 'HICS_CS25i_FBn_d25_S6', 'HICS_PPMI51971_9029_da0_v1_S7', 'HICS_PPMI3452_7426_da65_v1_S10', 'HICS_PPMI56954_9190_da0_v1_S5', 'HICS_PPMI3666_3014_da65_v1_S4', 'HICS_PPMI3452_7426_da0_v1_S10', 'HICS_PPMI3666_3014_da0_v1_S9', 'HICS_PPMI50184_7165_da0_v1_S3']\n"
     ]
    }
   ],
   "source": [
    "sample_directories = [ name for name in os.listdir(FASTQDIR) if os.path.isdir(os.path.join(FASTQDIR, name)) and \"HICS\" in name]\n",
    "print(len(sample_directories))\n",
    "print(sample_directories)"
   ]
  },
  {
   "cell_type": "code",
   "execution_count": 5,
   "metadata": {},
   "outputs": [],
   "source": [
    "for sample in sample_directories:\n",
    "    !mkdir {WRKDIR}/{sample}\n",
    "    !mkdir {WRKDIR}/{sample}/fastq\n",
    "    !ln -s {FASTQDIR}/{sample}/{sample}_R1_001.fastq.gz {WRKDIR}/{sample}/fastq\n",
    "    !ln -s {FASTQDIR}/{sample}/{sample}_R2_001.fastq.gz {WRKDIR}/{sample}/fastq"
   ]
  },
  {
   "cell_type": "markdown",
   "metadata": {},
   "source": [
    "run this on biowulf after loading the juicer module:"
   ]
  },
  {
   "cell_type": "code",
   "execution_count": 3,
   "metadata": {},
   "outputs": [
    {
     "name": "stdout",
     "output_type": "stream",
     "text": [
      "/data/LNG/Frank/HiC_Project/Juicer/new/juicer.sh -z /data/LNG/Frank/juicer_runs/references/Homo_sapiens_assembly38.fasta -p /data/LNG/Frank/juicer_runs/mygenome.chrom.sizes -y /data/LNG/Frank/juicer_runs/hg38_MboI.txt\n"
     ]
    }
   ],
   "source": [
    "print(f\"{MAIN_JUICER_SCRIPT} -z {REF_GENOME_FASTA} -p {CHROM_SIZES} -y {RESTRICTION_ENZYME_FILE}\")"
   ]
  },
  {
   "cell_type": "markdown",
   "metadata": {},
   "source": [
    "# TESTING! DONT USE"
   ]
  },
  {
   "cell_type": "code",
   "execution_count": null,
   "metadata": {},
   "outputs": [],
   "source": []
  },
  {
   "cell_type": "code",
   "execution_count": 37,
   "metadata": {},
   "outputs": [
    {
     "name": "stdout",
     "output_type": "stream",
     "text": [
      "[+] Loading juicer  1.5.6 \n"
     ]
    }
   ],
   "source": [
    "!module load juicer"
   ]
  },
  {
   "cell_type": "code",
   "execution_count": 6,
   "metadata": {},
   "outputs": [
    {
     "data": {
      "text/plain": [
       "['HICS_CS25i_d0_S9']"
      ]
     },
     "execution_count": 6,
     "metadata": {},
     "output_type": "execute_result"
    }
   ],
   "source": [
    "sample_directories = sample_directories[0:1]\n",
    "sample_directories"
   ]
  },
  {
   "cell_type": "code",
   "execution_count": 7,
   "metadata": {},
   "outputs": [],
   "source": [
    "for sample in sample_directories:\n",
    "    wdir = WRKDIR+'/'+sample\n",
    "    p = subprocess.Popen([\"/data/LNG/Frank/juicer_runs/custom_juicer_scripts/custom_week_rm_chrM_run/juicer.sh\",\"-z\",\"/data/LNG/Frank/juicer_runs/references/Homo_sapiens_assembly38.fasta\", \"-p\", \"/data/LNG/Frank/juicer_runs/mygenome.chrom.sizes\", \"-y\", \"/data/LNG/Frank/juicer_runs/hg38_MboI.txt\", \"-S\", \"early\"], cwd=wdir)"
   ]
  },
  {
   "cell_type": "code",
   "execution_count": 17,
   "metadata": {},
   "outputs": [
    {
     "name": "stdout",
     "output_type": "stream",
     "text": [
      "[+] Loading juicer  1.5.6 \n"
     ]
    }
   ],
   "source": [
    "!module load juicer"
   ]
  },
  {
   "cell_type": "code",
   "execution_count": 34,
   "metadata": {},
   "outputs": [],
   "source": [
    "wdir = \"/data/CARD/HICtemp/regenBAM/HICS_CS25i_d0_S9\"\n",
    "cmd = \"/data/LNG/Frank/juicer_runs/custom_juicer_scripts/custom_week_rm_chrM_run/juicer.sh -z /data/LNG/Frank/juicer_runs/references/Homo_sapiens_assembly38.fasta -p /data/LNG/Frank/juicer_runs/mygenome.chrom.sizes -y /data/LNG/Frank/juicer_runs/hg38_MboI.txt -S early\""
   ]
  },
  {
   "cell_type": "code",
   "execution_count": 36,
   "metadata": {},
   "outputs": [],
   "source": [
    "p = subprocess.Popen([\"/data/LNG/Frank/juicer_runs/custom_juicer_scripts/custom_week_rm_chrM_run/juicer.sh\",\"-z\",\"/data/LNG/Frank/juicer_runs/references/Homo_sapiens_assembly38.fasta\", \"-p\", \"/data/LNG/Frank/juicer_runs/mygenome.chrom.sizes\", \"-y\", \"/data/LNG/Frank/juicer_runs/hg38_MboI.txt\", \"-S\", \"early\"], cwd=wdir)"
   ]
  },
  {
   "cell_type": "code",
   "execution_count": 35,
   "metadata": {},
   "outputs": [
    {
     "name": "stdout",
     "output_type": "stream",
     "text": [
      "[+] Loading juicer  1.5.6 \n",
      "Running juicer version 1.5.6\n",
      "(-: Looking for fastq files...fastq files exist:\n",
      "lrwxrwxrwx 1 grennfp CARD 80 Apr  2 13:24 /data/CARD/HICtemp/regenBAM/HICS_CS25i_d0_S9/fastq/HICS_CS25i_d0_S9_R1_001.fastq.gz -> /data/CARD/HICtemp/temp_fastqs/HICS_CS25i_d0_S9/HICS_CS25i_d0_S9_R1_001.fastq.gz\n",
      "lrwxrwxrwx 1 grennfp CARD 80 Apr  2 13:24 /data/CARD/HICtemp/regenBAM/HICS_CS25i_d0_S9/fastq/HICS_CS25i_d0_S9_R2_001.fastq.gz -> /data/CARD/HICtemp/temp_fastqs/HICS_CS25i_d0_S9/HICS_CS25i_d0_S9_R2_001.fastq.gz\n",
      "(-: Aligning files matching /data/CARD/HICtemp/regenBAM/HICS_CS25i_d0_S9/fastq/*_R*.fastq*\n",
      " in queue norm to genome hg38 with site file /data/LNG/Frank/juicer_runs/hg38_MboI.txt\n",
      "(-: Created /data/CARD/HICtemp/regenBAM/HICS_CS25i_d0_S9/splits and /data/CARD/HICtemp/regenBAM/HICS_CS25i_d0_S9/aligned.\n",
      "    Submitted job 54348249 which will wait for fastq file splitjobs to finish. START: Thu Apr  2 13:27:15 EDT 2020\n",
      "^C\n"
     ]
    }
   ],
   "source": [
    "        !(module load juicer; \\\n",
    "          cd {wdir}; \\\n",
    "     /data/LNG/Frank/juicer_runs/custom_juicer_scripts/custom_week_rm_chrM_run/juicer.sh -z /data/LNG/Frank/juicer_runs/references/Homo_sapiens_assembly38.fasta -p /data/LNG/Frank/juicer_runs/mygenome.chrom.sizes -y /data/LNG/Frank/juicer_runs/hg38_MboI.txt -S early)"
   ]
  },
  {
   "cell_type": "code",
   "execution_count": null,
   "metadata": {},
   "outputs": [],
   "source": []
  }
 ],
 "metadata": {
  "kernelspec": {
   "display_name": "Python 3",
   "language": "python",
   "name": "python3"
  },
  "language_info": {
   "codemirror_mode": {
    "name": "ipython",
    "version": 3
   },
   "file_extension": ".py",
   "mimetype": "text/x-python",
   "name": "python",
   "nbconvert_exporter": "python",
   "pygments_lexer": "ipython3",
   "version": "3.6.7"
  }
 },
 "nbformat": 4,
 "nbformat_minor": 4
}
