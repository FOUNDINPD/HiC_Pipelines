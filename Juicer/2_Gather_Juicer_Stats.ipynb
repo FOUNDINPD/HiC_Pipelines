{
 "cells": [
  {
   "cell_type": "markdown",
   "metadata": {},
   "source": [
    "# Collect Juicer HiC Statistics\n",
    "- **Author** - Frank Grenn\n",
    "- **Date Started** - January 2020\n",
    "- **Quick Description:** simple script to collect some statistics from the juicer scripts for all samples and put them in one file for comparison"
   ]
  },
  {
   "cell_type": "code",
   "execution_count": null,
   "metadata": {},
   "outputs": [],
   "source": [
    "import pandas as pd\n",
    "import os\n"
   ]
  },
  {
   "cell_type": "code",
   "execution_count": null,
   "metadata": {},
   "outputs": [],
   "source": [
    "RESULTS_DIR=\"/path/to/juicer/sample/directories\"\n"
   ]
  },
  {
   "cell_type": "code",
   "execution_count": null,
   "metadata": {},
   "outputs": [],
   "source": [
    "sample_directories = [ name for name in os.listdir(RESULTS_DIR) if os.path.isdir(os.path.join(RESULTS_DIR, name)) and not name==\"all_chr_run\" ]\n",
    "print(len(sample_directories))\n",
    "print(sample_directories)"
   ]
  },
  {
   "cell_type": "code",
   "execution_count": null,
   "metadata": {},
   "outputs": [],
   "source": [
    "results_df = pd.DataFrame(columns=['Sample Name','Sequenced Read Pairs'\\\n",
    "                                   ,'Alignable (Normal+Chimeric Paired)','Percent Alignable (Normal+Chimeric Paired)'\\\n",
    "                                   , 'Unique Reads', 'Percent Unique Reads','PCR Duplicates', 'Percent PCR Duplicates'\\\n",
    "                                   , 'Optical Duplicates' ,'Percent Optical Duplicates','Hi-C Contacts'\\\n",
    "                                   ,'Percent Hi-C Contacts of Sequence Read Pairs','Percent Hi-C Contacts of Unique Reads'\\\n",
    "                                   ,'Inter-chromosomal Contacts','Percent Inter-chromosomal Contacts of Sequenced Read Pairs'\\\n",
    "                                   ,'Percent Inter-chromosomal Contacts of Unique Reads','Intra-chromosomal Contacts'\\\n",
    "                                   ,'Percent Intra-chromosomal Contacts of Sequenced Read Pairs'\\\n",
    "                                   ,'Percent Intra-chromosomal Contacts of Unique Reads'\\\n",
    "                                   ,\"Short Range (<20Kb) Contacts\",\"Percent Short Range (<20Kb) Contacts of Sequenced Read Pairs\"\\\n",
    "                                   ,\"Percent Short Range (<20Kb) Contacts of Unique Reads\"\\\n",
    "                                   ,\"Long Range (>20Kb) Contacts\",\"Percent Long Range (>20Kb) Contacts of Sequenced Read Pairs\"\\\n",
    "                                   ,\"Percent Long Range (>20Kb) Contacts of Unique Reads\"\\\n",
    "                                   , 'Loop Count'])"
   ]
  },
  {
   "cell_type": "code",
   "execution_count": null,
   "metadata": {},
   "outputs": [],
   "source": [
    "for sample in sample_directories:\n",
    "    #check if the aligned folder exists\n",
    "    aligned_dir = RESULTS_DIR+\"/\"+sample+\"/aligned\"\n",
    "    if(os.path.isdir(aligned_dir)):\n",
    "        stats = pd.read_csv(aligned_dir+\"/inter_30.txt\",sep=\":\",header=None,names=[\"Name\",\"Data\"])\n",
    "        \n",
    "        srp = stats.loc[stats[\"Name\"]==\"Sequenced Read Pairs\"][\"Data\"].iloc[0].split()[0]\n",
    "        align = stats.loc[stats[\"Name\"]==\"Alignable (Normal+Chimeric Paired)\"][\"Data\"].iloc[0].split()[0]\n",
    "        palign = stats.loc[stats[\"Name\"]==\"Alignable (Normal+Chimeric Paired)\"][\"Data\"].iloc[0].split()[1].replace(\"(\",\"\").replace(\"%\",\"\").replace(\")\",\"\")\n",
    "        unique = stats.loc[stats[\"Name\"]==\"Unique Reads\"][\"Data\"].iloc[0].split()[0]\n",
    "        punique = stats.loc[stats[\"Name\"]==\"Unique Reads\"][\"Data\"].iloc[0].split()[1].replace(\"(\",\"\").replace(\"%\",\"\").replace(\")\",\"\")\n",
    "        pcrdup = stats.loc[stats[\"Name\"]==\"PCR Duplicates\"][\"Data\"].iloc[0].split()[0]\n",
    "        ppcrdup = stats.loc[stats[\"Name\"]==\"PCR Duplicates\"][\"Data\"].iloc[0].split()[1].replace(\"(\",\"\").replace(\"%\",\"\").replace(\")\",\"\")\n",
    "        optdup = stats.loc[stats[\"Name\"]==\"Optical Duplicates\"][\"Data\"].iloc[0].split()[0]\n",
    "        poptdup = stats.loc[stats[\"Name\"]==\"Optical Duplicates\"][\"Data\"].iloc[0].split()[1].replace(\"(\",\"\").replace(\"%\",\"\").replace(\")\",\"\")\n",
    "        contacts = stats.loc[stats[\"Name\"]==\"Hi-C Contacts\"][\"Data\"].iloc[0].split()[0]\n",
    "        srpcontacts = stats.loc[stats[\"Name\"]==\"Hi-C Contacts\"][\"Data\"].iloc[0].split()[1].replace(\"(\",\"\").replace(\"%\",\"\").replace(\")\",\"\")\n",
    "        uniquecontacts = stats.loc[stats[\"Name\"]==\"Hi-C Contacts\"][\"Data\"].iloc[0].split()[3].replace(\"(\",\"\").replace(\"%\",\"\").replace(\")\",\"\")\n",
    "        inter = stats.loc[stats[\"Name\"]==\"Inter-chromosomal\"][\"Data\"].iloc[0].split()[0]\n",
    "        srpinter = stats.loc[stats[\"Name\"]==\"Inter-chromosomal\"][\"Data\"].iloc[0].split()[1].replace(\"(\",\"\").replace(\"%\",\"\").replace(\")\",\"\")\n",
    "        uniqueinter = stats.loc[stats[\"Name\"]==\"Inter-chromosomal\"][\"Data\"].iloc[0].split()[3].replace(\"(\",\"\").replace(\"%\",\"\").replace(\")\",\"\")\n",
    "        intra = stats.loc[stats[\"Name\"]==\"Intra-chromosomal\"][\"Data\"].iloc[0].split()[0]\n",
    "        srpintra = stats.loc[stats[\"Name\"]==\"Intra-chromosomal\"][\"Data\"].iloc[0].split()[1].replace(\"(\",\"\").replace(\"%\",\"\").replace(\")\",\"\")\n",
    "        uniqueintra = stats.loc[stats[\"Name\"]==\"Intra-chromosomal\"][\"Data\"].iloc[0].split()[3].replace(\"(\",\"\").replace(\"%\",\"\").replace(\")\",\"\")\n",
    "        \n",
    "        short = stats.loc[stats[\"Name\"]==\"Short Range (<20Kb)\"][\"Data\"].iloc[0].split()[0]\n",
    "        srpshort = stats.loc[stats[\"Name\"]==\"Short Range (<20Kb)\"][\"Data\"].iloc[0].split()[1].replace(\"(\",\"\").replace(\"%\",\"\").replace(\")\",\"\")\n",
    "        uniqueshort = stats.loc[stats[\"Name\"]==\"Short Range (<20Kb)\"][\"Data\"].iloc[0].split()[3].replace(\"(\",\"\").replace(\"%\",\"\").replace(\")\",\"\")\n",
    "        \n",
    "        long = stats.loc[stats[\"Name\"]==\"Long Range (>20Kb)\"][\"Data\"].iloc[0].split()[0]\n",
    "        srplong = stats.loc[stats[\"Name\"]==\"Long Range (>20Kb)\"][\"Data\"].iloc[0].split()[1].replace(\"(\",\"\").replace(\"%\",\"\").replace(\")\",\"\")\n",
    "        uniquelong = stats.loc[stats[\"Name\"]==\"Long Range (>20Kb)\"][\"Data\"].iloc[0].split()[3].replace(\"(\",\"\").replace(\"%\",\"\").replace(\")\",\"\")\n",
    "        \n",
    "        num_loops = sum(1 for line in open(aligned_dir+\"/inter_30_loops/merged_loops.bedpe\"))\n",
    "\n",
    "        results_df = results_df.append({'Sample Name':sample, 'Sequenced Read Pairs': srp,'Alignable (Normal+Chimeric Paired)':align,'Percent Alignable (Normal+Chimeric Paired)':palign\\\n",
    "                          ,'Unique Reads':unique,'Percent Unique Reads':punique,'PCR Duplicates':pcrdup,'Percent PCR Duplicates':ppcrdup,'Optical Duplicates':optdup\\\n",
    "                          ,'Percent Optical Duplicates':poptdup,'Hi-C Contacts':contacts,'Percent Hi-C Contacts of Sequence Read Pairs':srpcontacts,'Percent Hi-C Contacts of Unique Reads':uniquecontacts\\\n",
    "                          ,'Inter-chromosomal Contacts':inter,'Percent Inter-chromosomal Contacts of Sequenced Read Pairs':srpinter\\\n",
    "                          ,'Percent Inter-chromosomal Contacts of Unique Reads':uniqueinter\\\n",
    "                          ,'Intra-chromosomal Contacts':intra,'Percent Intra-chromosomal Contacts of Sequenced Read Pairs':srpintra\\\n",
    "                          ,'Percent Intra-chromosomal Contacts of Unique Reads':uniqueintra\\\n",
    "                          ,'Short Range (<20Kb) Contacts':short, 'Percent Short Range (<20Kb) Contacts of Sequenced Read Pairs':srpshort,'Percent Short Range (<20Kb) Contacts of Unique Reads':uniqueshort\\\n",
    "                          ,\"Long Range (>20Kb) Contacts\":long, \"Percent Long Range (>20Kb) Contacts of Sequenced Read Pairs\":srplong,\"Percent Long Range (>20Kb) Contacts of Unique Reads\":uniquelong\\\n",
    "                          ,'Loop Count':num_loops},ignore_index=True)\n",
    "results_df.head()"
   ]
  },
  {
   "cell_type": "code",
   "execution_count": null,
   "metadata": {},
   "outputs": [],
   "source": [
    "results_df.to_csv(\"/path/for/output/results_chrM_remove.csv\",index=None)"
   ]
  },
  {
   "cell_type": "code",
   "execution_count": null,
   "metadata": {},
   "outputs": [],
   "source": []
  }
 ],
 "metadata": {
  "kernelspec": {
   "display_name": "Python 3",
   "language": "python",
   "name": "python3"
  },
  "language_info": {
   "codemirror_mode": {
    "name": "ipython",
    "version": 3
   },
   "file_extension": ".py",
   "mimetype": "text/x-python",
   "name": "python",
   "nbconvert_exporter": "python",
   "pygments_lexer": "ipython3",
   "version": "3.6.7"
  }
 },
 "nbformat": 4,
 "nbformat_minor": 4
}
