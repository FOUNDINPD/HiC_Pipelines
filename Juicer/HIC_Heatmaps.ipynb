{
 "cells": [
  {
   "cell_type": "markdown",
   "metadata": {},
   "source": [
    "# Generate HiC Heatmaps From Juicer Data\n",
    "- **Author** - Frank Grenn\n",
    "- **Date Started** - April 2020\n",
    "- **Quick Description:** Convert juicer .hic files to .cool or .h5 files to generate heatmap figures with the [hicExplorer](https://hicexplorer.readthedocs.io/en/latest/content/tools/hicPlotMatrix.html#hicplotmatrix) tool"
   ]
  },
  {
   "cell_type": "code",
   "execution_count": null,
   "metadata": {},
   "outputs": [],
   "source": [
    "import os"
   ]
  },
  {
   "cell_type": "markdown",
   "metadata": {},
   "source": [
    "## Setup Environment for HiCExplorer Tool on Biowulf"
   ]
  },
  {
   "cell_type": "code",
   "execution_count": null,
   "metadata": {},
   "outputs": [],
   "source": [
    "print(\"\\\n",
    "source /path/to/conda.sh\\n\\\n",
    "conda activate base\\n\\\n",
    "which python\\n\\\n",
    "conda create -n HICExplorer_project python=3.7 \\n\\\n",
    "conda activate HICExplorer_project\\n\\\n",
    "conda config --env --add channels defaults\\n\\\n",
    "conda config --env --add channels conda-forge\\n\\\n",
    "conda config --env --add channels bioconda\\n\\\n",
    "conda config --show-sources\\n\\\n",
    "pip install hicexplorer\\n\\\n",
    "      \")"
   ]
  },
  {
   "cell_type": "code",
   "execution_count": null,
   "metadata": {},
   "outputs": [],
   "source": [
    "JUICER_DIR=\"/path/to/juicer\"\n",
    "PLOT_DIR=\"/path/to/plots\""
   ]
  },
  {
   "cell_type": "code",
   "execution_count": null,
   "metadata": {},
   "outputs": [],
   "source": [
    "!mkdir {PLOT_DIR}"
   ]
  },
  {
   "cell_type": "code",
   "execution_count": null,
   "metadata": {},
   "outputs": [],
   "source": [
    "#list of the sample names taken from the juicer directory\n",
    "SAMPLES = sorted([ name for name in os.listdir(JUICER_DIR) if os.path.isdir(os.path.join(JUICER_DIR, name)) and 'HICS' in name ])\n",
    "print(len(SAMPLES))\n",
    "print(SAMPLES)\n"
   ]
  },
  {
   "cell_type": "code",
   "execution_count": null,
   "metadata": {},
   "outputs": [],
   "source": [
    "for sample in SAMPLES:\n",
    "    !mkdir {PLOT_DIR}/{sample}"
   ]
  },
  {
   "cell_type": "code",
   "execution_count": null,
   "metadata": {},
   "outputs": [],
   "source": [
    "resolutions = [2500000, 1000000, 500000, 250000, 100000, 50000, 25000, 10000, 5000]\n",
    "resolutions"
   ]
  },
  {
   "cell_type": "code",
   "execution_count": null,
   "metadata": {},
   "outputs": [],
   "source": [
    "res_str = [str(r) for r in resolutions]\n",
    "res_spaced = ' '.join(res_str)\n",
    "print(res_spaced)"
   ]
  },
  {
   "cell_type": "code",
   "execution_count": null,
   "metadata": {},
   "outputs": [],
   "source": [
    "AUTOSOMES = [str(x) for x in list(range(1,23))]\n",
    "SEXOMES = ['X','Y']\n",
    "CHROMOSOMES = AUTOSOMES + SEXOMES\n",
    "print(CHROMOSOMES)"
   ]
  },
  {
   "cell_type": "markdown",
   "metadata": {},
   "source": [
    "## convert the .hic files to .cool for each resolution"
   ]
  },
  {
   "cell_type": "code",
   "execution_count": null,
   "metadata": {},
   "outputs": [],
   "source": [
    "   \n",
    "with open(f\"{PLOT_DIR}/hic_to_cool_samples.swarm\",\"w\") as swarm_file:\n",
    "    for sample in SAMPLES:  \n",
    "        script_dir = f\"{PLOT_DIR}/{sample}/scripts\"\n",
    "        !mkdir {script_dir}\n",
    "        with open(f\"{script_dir}/hic_to_cool.sh\",\"w\") as conv_file:\n",
    "            conv_file.write(f\"#!/bin/bash\\n\\\n",
    "module load python/3.7\\n\\\n",
    "conda activate HICExplorer_project\\n\\\n",
    "hicConvertFormat -m {JUICER_DIR}/{sample}/aligned/inter_30.hic --inputFormat hic --outputFormat cool -o {PLOT_DIR}/{sample}/inter_30.cool --resolutions {res_spaced}\\n\\\n",
    "\")\n",
    "        conv_file.close()\n",
    "        swarm_file.write(f\"bash {script_dir}/hic_to_cool.sh\\n\")\n",
    "swarm_file.close()"
   ]
  },
  {
   "cell_type": "code",
   "execution_count": null,
   "metadata": {},
   "outputs": [],
   "source": [
    "print(f\"swarm -f {PLOT_DIR}/hic_to_cool_samples.swarm -g 20 -t 10 --sbatch '--mail-type=ALL' --time=24:00:00\")"
   ]
  },
  {
   "cell_type": "markdown",
   "metadata": {},
   "source": [
    "## process the .cool files for plots"
   ]
  },
  {
   "cell_type": "code",
   "execution_count": null,
   "metadata": {},
   "outputs": [],
   "source": [
    "norm_types = ['KR']#['KR', 'VC', 'VC_SQRT']\n"
   ]
  },
  {
   "cell_type": "code",
   "execution_count": null,
   "metadata": {},
   "outputs": [],
   "source": [
    "with open(f\"{PLOT_DIR}/plot_samples.swarm\",\"w\") as swarm_file:\n",
    "    for sample in SAMPLES:\n",
    "        \n",
    "        script_dir = f\"{PLOT_DIR}/{sample}/scripts\"\n",
    "        img_dir = f\"{PLOT_DIR}/{sample}/images\"\n",
    "        !mkdir {script_dir}\n",
    "        !mkdir {img_dir}\n",
    "        for res in resolutions:\n",
    "            res_dir = f\"{img_dir}/{res}\"\n",
    "            !mkdir {res_dir}\n",
    "            for chrm in CHROMOSOMES:\n",
    "                for norm in norm_types:\n",
    "                    with open(f\"{script_dir}/chr{chrm}_{res}_{norm}_plot.sh\",\"w\") as plot_file:\n",
    "                        plot_file.write(f\"#!/bin/bash\\n\\\n",
    "module load python/3.7\\n\\\n",
    "conda activate HICExplorer_project\\n\\\n",
    "hicConvertFormat -m {PLOT_DIR}/{sample}/inter_30_{res}.cool --inputFormat cool --outputFormat cool -o {PLOT_DIR}/{sample}/inter_30_{res}_{chrm}_{norm}.cool --chromosome {chrm} --correction_name {norm}\\n\\\n",
    "hicPlotMatrix --title '{sample} Chr {chrm}' --scoreName 'KR Normalized Contacts' --perChromosome --matrix {PLOT_DIR}/{sample}/inter_30_{res}_{chrm}_{norm}.cool --log --outFileName {res_dir}/{sample}_{res}_{chrm}_{norm}_log.png\\n\\\n",
    "rm {PLOT_DIR}/{sample}/inter_30_{res}_{chrm}_{norm}.cool\")\n",
    "                        \n",
    "                    plot_file.close()\n",
    "                    swarm_file.write(f\"bash {script_dir}/chr{chrm}_{res}_{norm}_plot.sh\\n\")\n",
    "    swarm_file.close()"
   ]
  },
  {
   "cell_type": "code",
   "execution_count": null,
   "metadata": {},
   "outputs": [],
   "source": [
    "print(f\"swarm -f {PLOT_DIR}/plot_samples.swarm -g 240 -t 10 --sbatch '--mail-type=ALL' --time=24:00:00\")"
   ]
  },
  {
   "cell_type": "code",
   "execution_count": null,
   "metadata": {},
   "outputs": [],
   "source": []
  }
 ],
 "metadata": {
  "kernelspec": {
   "display_name": "Python 3",
   "language": "python",
   "name": "python3"
  },
  "language_info": {
   "codemirror_mode": {
    "name": "ipython",
    "version": 3
   },
   "file_extension": ".py",
   "mimetype": "text/x-python",
   "name": "python",
   "nbconvert_exporter": "python",
   "pygments_lexer": "ipython3",
   "version": "3.6.7"
  }
 },
 "nbformat": 4,
 "nbformat_minor": 4
}
