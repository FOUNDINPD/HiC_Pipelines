{
 "cells": [
  {
   "cell_type": "markdown",
   "metadata": {},
   "source": [
    "# Call Variants in Juicer Data to Verify Correct Samples Used\n",
    "- **Author** - Frank Grenn\n",
    "- **Date Started** - March 2020\n",
    "- **Quick Description:** remap the HiC fastqs to get bams. Then subset by the loop region bedpes created by juicer. Then call variants in those subsetted bams using bcftools"
   ]
  },
  {
   "cell_type": "code",
   "execution_count": null,
   "metadata": {},
   "outputs": [],
   "source": [
    "import os\n",
    "import pandas as pd"
   ]
  },
  {
   "cell_type": "markdown",
   "metadata": {},
   "source": [
    "## 1) Setup"
   ]
  },
  {
   "cell_type": "code",
   "execution_count": null,
   "metadata": {},
   "outputs": [],
   "source": [
    "#these paths and files need to already exist\n",
    "FASTQDIR = \"/path/to/temp_fastqs\" #location of the combined lane fastqs\n",
    "JUICERDIR = \"/path/to/juicer\" #location of the output from juicer\n",
    "WRKDIR=\"/path/tp/callVariants\" #folder that will contain a folder for each sample's HiC-Pro output\n",
    "REF_GENOME_FASTA=\"/path/to/Homo_sapiens_assembly38.fasta\" #pulled down from gs://broad-references/hg38/v0/Homo_sapiens_assembly38.fasta\n",
    "\n"
   ]
  },
  {
   "cell_type": "code",
   "execution_count": null,
   "metadata": {},
   "outputs": [],
   "source": [
    "!mkdir {WRKDIR}"
   ]
  },
  {
   "cell_type": "markdown",
   "metadata": {},
   "source": [
    "Setup directories per sample"
   ]
  },
  {
   "cell_type": "code",
   "execution_count": null,
   "metadata": {},
   "outputs": [],
   "source": [
    "sample_directories = [ name for name in os.listdir(FASTQDIR) if os.path.isdir(os.path.join(FASTQDIR, name)) and \"HICS\" in name]\n",
    "print(len(sample_directories))\n",
    "print(sample_directories)"
   ]
  },
  {
   "cell_type": "code",
   "execution_count": null,
   "metadata": {},
   "outputs": [],
   "source": [
    "for sample in sample_directories:\n",
    "    !mkdir {WRKDIR}/{sample}\n",
    "    !mkdir {WRKDIR}/{sample}/fastq\n",
    "    !ln -s {FASTQDIR}/{sample}/{sample}_R1_001.fastq.gz {WRKDIR}/{sample}/fastq\n",
    "    !ln -s {FASTQDIR}/{sample}/{sample}_R2_001.fastq.gz {WRKDIR}/{sample}/fastq\n",
    "    "
   ]
  },
  {
   "cell_type": "code",
   "execution_count": null,
   "metadata": {},
   "outputs": [],
   "source": [
    "with open(WRKDIR+\"/map_samples.swarm\",\"w\") as swarm_file:\n",
    "    for sample in sample_directories:\n",
    "        with open(WRKDIR+\"/\"+sample+\"/map_and_subset.sh\", \"w\") as sample_file:\n",
    "            sample_file.write(f\"#!/bin/bash \\n\\\n",
    "            module load samtools \\n\\\n",
    "            module load bwa \\n\\\n",
    "            echo 'aligning' \\n\\\n",
    "            bwa mem -t 20 {REF_GENOME_FASTA} {WRKDIR}/{sample}/fastq/{sample}_R1_001.fastq.gz {WRKDIR}/{sample}/fastq/{sample}_R2_001.fastq.gz > {WRKDIR}/{sample}/{sample}_001.sam \\n\\\n",
    "            echo 'finished aligning' \\n\\\n",
    "            echo 'convert sam to bam' \\n\\\n",
    "            samtools view -@20 -b {WRKDIR}/{sample}/{sample}_001.sam -o {WRKDIR}/{sample}/{sample}_001.bam \\n\\\n",
    "            echo 'finished converting sam to bam' \\n\\\n",
    "            rm {WRKDIR}/{sample}/{sample}_001.sam \\n\\\n",
    "            echo 'sort bam' \\n\\\n",
    "            samtools sort -@20 {WRKDIR}/{sample}/{sample}_001.bam -o {WRKDIR}/{sample}/{sample}_001.sort.bam \\n\\\n",
    "            echo 'finished sorting bam' \\n\\\n",
    "            awk '{{print $1,$2,$3}}' {JUICERDIR}/{sample}/aligned/inter_30_loops/merged_loops_nh.bedpe > {WRKDIR}/{sample}/loop_anchor1.bed \\n\\\n",
    "            awk '{{print $4,$5,$6}}' {JUICERDIR}/{sample}/aligned/inter_30_loops/merged_loops_nh.bedpe > {WRKDIR}/{sample}/loop_anchor2.bed \\n\\\n",
    "            cat {WRKDIR}/{sample}/loop_anchor1.bed {WRKDIR}/{sample}/loop_anchor2.bed >> {WRKDIR}/{sample}/loop_anchors.bed \\n\\\n",
    "            echo 'subset bam by region' \\n\\\n",
    "            samtools view -@20 {WRKDIR}/{sample}/{sample}_001.sort.bam -L {WRKDIR}/{sample}/loop_anchors.bed -b -o {WRKDIR}/{sample}/{sample}_001.loopsub.bam \\n\\\n",
    "            echo 'finished subsetting bam by regions' \\n\\\n",
    "            echo 'sort subset bam' \\n\\\n",
    "            samtools sort -@20 {WRKDIR}/{sample}/{sample}_001.loopsub.bam -o {WRKDIR}/{sample}/{sample}_001.loopsub.sort.bam \\n\\\n",
    "            echo 'finished sort subset bam' \\n\\\n",
    "            echo 'indexing' \\n\\\n",
    "            samtools index -@20 {WRKDIR}/{sample}/{sample}_001.loopsub.sort.bam \\n\\\n",
    "            echo 'done' \\n\\\n",
    "            \")\n",
    "        sample_file.close()\n",
    "        \n",
    "        \n",
    "        \n",
    "        swarm_file.write(f\"bash {WRKDIR}/{sample}/map_and_subset.sh \\n\")\n",
    "swarm_file.close()\n",
    "                         "
   ]
  },
  {
   "cell_type": "code",
   "execution_count": null,
   "metadata": {},
   "outputs": [],
   "source": [
    "print(f\"swarm -f {WRKDIR}/map_samples.swarm -g 100 --time=24:00:00 -t 20 --sbatch '--mail-type=ALL'\")"
   ]
  },
  {
   "cell_type": "markdown",
   "metadata": {},
   "source": [
    "#### if the jobs timed out use what was generated\n",
    "remove last line from the sam file if alignment didn't finish"
   ]
  },
  {
   "cell_type": "code",
   "execution_count": null,
   "metadata": {},
   "outputs": [],
   "source": [
    "samples_to_finish = ['HICS_PPMI51971_9029_da65_v1_S8','HICS_PPMI3666_3014_da65_v1_S4']"
   ]
  },
  {
   "cell_type": "code",
   "execution_count": null,
   "metadata": {},
   "outputs": [],
   "source": [
    "with open(WRKDIR+\"/map_unfinished_samples.swarm\",\"w\") as swarm_file:\n",
    "    for sample in samples_to_finish:\n",
    "        with open(WRKDIR+\"/\"+sample+\"/map_and_subset.sh\", \"w\") as sample_file:\n",
    "            sample_file.write(f\"#!/bin/bash \\n\\\n",
    "            module load samtools \\n\\\n",
    "            module load bwa \\n\\\n",
    "            echo 'remove last line from sam'\\n\\\n",
    "            mv {WRKDIR}/{sample}/{sample}_001.sam {WRKDIR}/{sample}/{sample}_001_part.sam\\n\\\n",
    "            sed '$d' {WRKDIR}/{sample}/{sample}_001_part.sam > {WRKDIR}/{sample}/{sample}_001.sam\\n\\\n",
    "            echo 'convert sam to bam' \\n\\\n",
    "            samtools view -@20 -b {WRKDIR}/{sample}/{sample}_001.sam -o {WRKDIR}/{sample}/{sample}_001.bam \\n\\\n",
    "            echo 'finished converting sam to bam' \\n\\\n",
    "            rm {WRKDIR}/{sample}/{sample}_001.sam \\n\\\n",
    "            echo 'sort bam' \\n\\\n",
    "            samtools sort -@20 {WRKDIR}/{sample}/{sample}_001.bam -o {WRKDIR}/{sample}/{sample}_001.sort.bam \\n\\\n",
    "            echo 'finished sorting bam' \\n\\\n",
    "            awk '{{print $1,$2,$3}}' {JUICERDIR}/{sample}/aligned/inter_30_loops/merged_loops_nh.bedpe > {WRKDIR}/{sample}/loop_anchor1.bed \\n\\\n",
    "            awk '{{print $4,$5,$6}}' {JUICERDIR}/{sample}/aligned/inter_30_loops/merged_loops_nh.bedpe > {WRKDIR}/{sample}/loop_anchor2.bed \\n\\\n",
    "            cat {WRKDIR}/{sample}/loop_anchor1.bed {WRKDIR}/{sample}/loop_anchor2.bed >> {WRKDIR}/{sample}/loop_anchors.bed \\n\\\n",
    "            echo 'subset bam by region' \\n\\\n",
    "            samtools view -@20 {WRKDIR}/{sample}/{sample}_001.sort.bam -L {WRKDIR}/{sample}/loop_anchors.bed -b -o {WRKDIR}/{sample}/{sample}_001.loopsub.bam \\n\\\n",
    "            echo 'finished subsetting bam by regions' \\n\\\n",
    "            echo 'sort subset bam' \\n\\\n",
    "            samtools sort -@20 {WRKDIR}/{sample}/{sample}_001.loopsub.bam -o {WRKDIR}/{sample}/{sample}_001.loopsub.sort.bam \\n\\\n",
    "            echo 'finished sort subset bam' \\n\\\n",
    "            echo 'indexing' \\n\\\n",
    "            samtools index -@20 {WRKDIR}/{sample}/{sample}_001.loopsub.sort.bam \\n\\\n",
    "            echo 'done' \\n\\\n",
    "            \")\n",
    "        sample_file.close()\n",
    "        \n",
    "        \n",
    "        \n",
    "        swarm_file.write(f\"bash {WRKDIR}/{sample}/map_and_subset.sh \\n\")\n",
    "swarm_file.close()\n",
    "                         "
   ]
  },
  {
   "cell_type": "code",
   "execution_count": null,
   "metadata": {},
   "outputs": [],
   "source": [
    "print(f\"swarm -f {WRKDIR}/map_unfinished_samples.swarm -g 100 --time=24:00:00 -t 20 --sbatch '--mail-type=ALL'\")"
   ]
  },
  {
   "cell_type": "markdown",
   "metadata": {},
   "source": [
    "# Call Variants"
   ]
  },
  {
   "cell_type": "markdown",
   "metadata": {},
   "source": [
    "get samples that finished the mapping and subsetting"
   ]
  },
  {
   "cell_type": "code",
   "execution_count": null,
   "metadata": {},
   "outputs": [],
   "source": [
    "finished_samples = [ name for name in os.listdir(WRKDIR) if os.path.isdir(os.path.join(FASTQDIR, name)) and os.path.exists(f\"{WRKDIR}/{name}/{name}_001.loopsub.sort.bam\")]\n",
    "\n",
    "\n",
    "print(len(finished_samples))\n",
    "print(finished_samples)"
   ]
  },
  {
   "cell_type": "code",
   "execution_count": null,
   "metadata": {},
   "outputs": [],
   "source": [
    "with open(WRKDIR+\"/call_sample_variants.swarm\",\"w\") as swarm_file:\n",
    "    for sample in finished_samples:\n",
    "        with open(WRKDIR+\"/\"+sample+\"/call_variants.sh\", \"w\") as sample_file:\n",
    "            sample_file.write(f\"#!/bin/bash \\n\\\n",
    "            module load bcftools \\n\\\n",
    "            echo 'making bcf' \\n\\\n",
    "            bcftools mpileup --threads 20 -Ou -a 'FORMAT/AD' -a 'FORMAT/DP' -f /path/to/reference_genome/Homo_sapiens_assembly38.fasta /path/to/callVariants/{sample}/{sample}_001.loopsub.sort.bam | bcftools call -mv -Ob -o /path/to/callVariants/{sample}/{sample}.bcf\\n\\\n",
    "            echo 'filtering to vcf'\\n\\\n",
    "            bcftools view -V indels -i '%QUAL>=20 & INFO/DP>100' /path/to/callVariants/{sample}/{sample}.bcf > /path/to/callVariants/{sample}/{sample}_filtered.vcf\\n\\\n",
    "            bcftools view {WRKDIR}/{sample}/{sample}_filtered.vcf -Oz -o {WRKDIR}/{sample}/{sample}_filtered.vcf.gz\\n\\\n",
    "            bcftools index {WRKDIR}/{sample}/{sample}_filtered.vcf.gz\\n\\\n",
    "            \")\n",
    "        sample_file.close()\n",
    "        \n",
    "        \n",
    "        \n",
    "        swarm_file.write(f\"bash {WRKDIR}/{sample}/call_variants.sh \\n\")\n",
    "swarm_file.close()\n",
    "                         "
   ]
  },
  {
   "cell_type": "code",
   "execution_count": null,
   "metadata": {},
   "outputs": [],
   "source": [
    "print(f\"swarm -f {WRKDIR}/call_sample_variants.swarm -g 100 --time=24:00:00 -t 20 --sbatch '--mail-type=ALL'\")"
   ]
  },
  {
   "cell_type": "markdown",
   "metadata": {},
   "source": [
    "# Merge Variants"
   ]
  },
  {
   "cell_type": "code",
   "execution_count": null,
   "metadata": {},
   "outputs": [],
   "source": [
    "sample_vcfs = ' '.join([f\"/path/to/callVariants/{name}/{name}_filtered.vcf.gz\" for name in finished_samples])\n",
    "print(sample_vcfs)"
   ]
  },
  {
   "cell_type": "code",
   "execution_count": null,
   "metadata": {},
   "outputs": [],
   "source": [
    "print(f\"bcftools merge {sample_vcfs} -o {WRKDIR}/merged_samples.vcf -Ov\")"
   ]
  },
  {
   "cell_type": "code",
   "execution_count": null,
   "metadata": {},
   "outputs": [],
   "source": [
    "print(\"plink --const-fid 0 --vcf merged_samples.vcf --make-bed --keep-allele-order --out plink\")"
   ]
  },
  {
   "cell_type": "markdown",
   "metadata": {},
   "source": [
    "format the .bim file to have chr:bp in the second col"
   ]
  },
  {
   "cell_type": "code",
   "execution_count": null,
   "metadata": {},
   "outputs": [],
   "source": [
    "bim = pd.read_csv(f\"{WRKDIR}/plink.bim\",sep='\\t',header = None)\n",
    "bim.columns = ['chr','id','pos','bp','a1','a2']\n",
    "print(bim.shape)\n",
    "print(bim.head())"
   ]
  },
  {
   "cell_type": "code",
   "execution_count": null,
   "metadata": {},
   "outputs": [],
   "source": [
    "bim[['id']] = \"chr\"+bim['chr'].astype(str)+\":\"+bim['bp'].astype(str)\n",
    "print(bim.head())\n",
    "print(bim.tail())"
   ]
  },
  {
   "cell_type": "code",
   "execution_count": null,
   "metadata": {},
   "outputs": [],
   "source": [
    "bim.to_csv(f\"{WRKDIR}/plink.bim\",sep='\\t',header=None,index=None)"
   ]
  },
  {
   "cell_type": "markdown",
   "metadata": {},
   "source": [
    "## Compare to WGS Data"
   ]
  },
  {
   "cell_type": "markdown",
   "metadata": {},
   "source": [
    "reformat the WGS .bim id (second) col to be chr:bp"
   ]
  },
  {
   "cell_type": "code",
   "execution_count": null,
   "metadata": {},
   "outputs": [],
   "source": [
    "print(f'''awk '{{printf \"%s\\\\tchr%s:%s\\\\t%s\\\\t%s\\\\t%s\\\\t%s\\\\n\",$1,$1,$4,$3,$4,$5,$6}}' /path/to/wgshg38ppmi.july2018.bim > {WRKDIR}/wgshg38ppmi.july2018.bim''')\n",
    "print(f\"cp /path/to/wgshg38ppmi.july2018.bed {WRKDIR}\")\n",
    "print(f\"cp /path/to/wgshg38ppmi.july2018.fam {WRKDIR}\")"
   ]
  },
  {
   "cell_type": "code",
   "execution_count": null,
   "metadata": {},
   "outputs": [],
   "source": [
    "print(f\"plink --bfile {WRKDIR}/plink --bmerge {WRKDIR}/wgshg38ppmi.july2018 \\\n",
    "--maf 0.05 --geno 0.05 --hwe 1E-6 --make-bed --out {WRKDIR}/temp2\")"
   ]
  },
  {
   "cell_type": "code",
   "execution_count": null,
   "metadata": {},
   "outputs": [],
   "source": [
    "print(f\"plink --bfile {WRKDIR}/plink --exclude temp2-merge.missnp --make-bed --out {WRKDIR}/HICS_plink_short\")"
   ]
  },
  {
   "cell_type": "code",
   "execution_count": null,
   "metadata": {},
   "outputs": [],
   "source": [
    "print(f\"plink --bfile {WRKDIR}/HICS_plink_short --bmerge {WRKDIR}/wgshg38ppmi.july2018 \\\n",
    "--maf 0.05 --geno 0.05 --hwe 1E-6 --make-bed --out {WRKDIR}/temp2\")"
   ]
  },
  {
   "cell_type": "markdown",
   "metadata": {},
   "source": [
    "check relatedness"
   ]
  },
  {
   "cell_type": "code",
   "execution_count": null,
   "metadata": {},
   "outputs": [],
   "source": [
    "print(f\"plink --bfile {WRKDIR}/temp2 --indep-pairwise 500 5 0.5 --out {WRKDIR}/prune\")"
   ]
  },
  {
   "cell_type": "code",
   "execution_count": null,
   "metadata": {},
   "outputs": [],
   "source": [
    "print(f\"plink --bfile {WRKDIR}/temp2 --extract prune.prune.in --make-bed --out {WRKDIR}/prune\")"
   ]
  },
  {
   "cell_type": "code",
   "execution_count": null,
   "metadata": {},
   "outputs": [],
   "source": [
    "print(f\"plink --bfile {WRKDIR}/prune --genome --out {WRKDIR}/HICS_plink_relatedness_with_WGS --min 0.05\")"
   ]
  },
  {
   "cell_type": "code",
   "execution_count": null,
   "metadata": {},
   "outputs": [],
   "source": [
    "#reformat bc it seems off\n",
    "print(\"awk '{print $1,$2,$3,$4,$5,$6,$7,$8,$9,$10,$11,$12,$13}' HICS_plink_relatedness_with_WGS.genome > HICS_plink_relatedness_with_WGS.format.genome\")"
   ]
  },
  {
   "cell_type": "code",
   "execution_count": null,
   "metadata": {},
   "outputs": [],
   "source": [
    "results = pd.read_csv(f\"{WRKDIR}/HICS_plink_relatedness_with_WGS.format.genome\",sep='\\s')\n",
    "print(results.shape)\n",
    "print(results.head())\n",
    "results.to_csv(f\"{WRKDIR}/HICS_plink_relatedness_with_WGS.genome.csv\",index=None)"
   ]
  }
 ],
 "metadata": {
  "kernelspec": {
   "display_name": "Python 3",
   "language": "python",
   "name": "python3"
  },
  "language_info": {
   "codemirror_mode": {
    "name": "ipython",
    "version": 3
   },
   "file_extension": ".py",
   "mimetype": "text/x-python",
   "name": "python",
   "nbconvert_exporter": "python",
   "pygments_lexer": "ipython3",
   "version": "3.6.7"
  }
 },
 "nbformat": 4,
 "nbformat_minor": 4
}
