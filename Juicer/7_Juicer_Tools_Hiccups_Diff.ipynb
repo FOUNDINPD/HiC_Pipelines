{
 "cells": [
  {
   "cell_type": "markdown",
   "metadata": {},
   "source": [
    "# Use the Hiccups Diff from Juicer to look for Differential Loops\n",
    "this is different from the Compare Lists tool because this reruns hiccups on both samples and only counts a loop as being unique if 1) it only shows up in one of the samples and 2) if it has zero enrichment in the other sample (so not in the generated `enriched` bedpe file)  \n",
    "so this is a more restrictive way of checking for unique loops between two files"
   ]
  },
  {
   "cell_type": "code",
   "execution_count": null,
   "metadata": {},
   "outputs": [],
   "source": [
    "import pandas as pd\n",
    "import os"
   ]
  },
  {
   "cell_type": "code",
   "execution_count": null,
   "metadata": {},
   "outputs": [],
   "source": []
  },
  {
   "cell_type": "code",
   "execution_count": null,
   "metadata": {},
   "outputs": [],
   "source": [
    "#directory containing all the sample folders. each sample folder should be named after the sample\n",
    "JUICER_DIR=\"/path/to/juicer\"\n",
    "\n",
    "ANALYSIS_DIR = JUICER_DIR+\"/overlap_analysis\"\n",
    "SAMPLES_DIR = JUICER_DIR+\"/overlap_analysis/samples\"\n",
    "SAMPLES_NH_DIR = JUICER_DIR+\"/overlap_analysis/samples_no_header\"\n",
    "SCRIPT_DIR = JUICER_DIR+\"/overlap_analysis/scripts\"\n",
    "OVERLAP_DIR= JUICER_DIR+\"/overlap_analysis/overlap\"\n",
    "SHUFFLE_DIR = JUICER_DIR+\"/overlap_analysis/shuffle\"\n",
    "MISC_DIR = JUICER_DIR+\"/overlap_analysis/misc\"\n",
    "HICCUPS_DIFF_DIR=JUICER_DIR+\"/overlap_analysis/hiccups_diff\"\n",
    "RESULTS_DIR = JUICER_DIR+\"/overlap_analysis/results\""
   ]
  },
  {
   "cell_type": "code",
   "execution_count": null,
   "metadata": {},
   "outputs": [],
   "source": [
    "!mkdir {HICCUPS_DIFF_DIR}\n",
    "!mkdir {RESULTS_DIR}"
   ]
  },
  {
   "cell_type": "code",
   "execution_count": null,
   "metadata": {},
   "outputs": [],
   "source": [
    "#list of the sample names taken from the juicer directory\n",
    "SAMPLES = sorted([ name for name in os.listdir(JUICER_DIR) if os.path.isdir(os.path.join(JUICER_DIR, name)) and 'HICS' in name ])\n",
    "print(len(SAMPLES))\n",
    "print(SAMPLES)\n"
   ]
  },
  {
   "cell_type": "code",
   "execution_count": null,
   "metadata": {},
   "outputs": [],
   "source": [
    "SAMPLES_65 = [sample for sample in SAMPLES if 'da65' in sample]\n",
    "print(SAMPLES_65)"
   ]
  },
  {
   "cell_type": "markdown",
   "metadata": {},
   "source": [
    "### for now only run this for samples with day 0 and day 65 (meaning just look at sample progression)"
   ]
  },
  {
   "cell_type": "markdown",
   "metadata": {},
   "source": [
    "##### Swarm"
   ]
  },
  {
   "cell_type": "code",
   "execution_count": null,
   "metadata": {},
   "outputs": [],
   "source": [
    "with open(SCRIPT_DIR+\"/hiccups_diff.swarm\",\"w\") as swarm_file:\n",
    "    for sample in SAMPLES_65:\n",
    "        sample_da0 = [s for s in SAMPLES if sample[0:13] in s and 'da0' in s][0]\n",
    "\n",
    "        out_dir = f\"{HICCUPS_DIFF_DIR}/{sample_da0}_{sample}\"\n",
    "\n",
    "        swarm_file.write(f\"/path/to/juicer_tools hiccupsdiff {JUICER_DIR}/{sample_da0}/aligned/inter_30.hic {JUICER_DIR}/{sample}/aligned/inter_30.hic {SAMPLES_DIR}/{sample_da0}.bedpe {SAMPLES_DIR}/{sample}.bedpe {out_dir}\\n\")\n",
    "\n",
    "    swarm_file.close()\n"
   ]
  },
  {
   "cell_type": "code",
   "execution_count": null,
   "metadata": {},
   "outputs": [],
   "source": [
    "print(f\"swarm -f {SCRIPT_DIR}/hiccups_diff.swarm --module=juicer,CUDA/8.0  --partition gpu --g 18 --gres=gpu:k80:1 --time=2-0\")"
   ]
  },
  {
   "cell_type": "markdown",
   "metadata": {},
   "source": [
    "##### Independent Jobs"
   ]
  },
  {
   "cell_type": "code",
   "execution_count": null,
   "metadata": {},
   "outputs": [],
   "source": [
    "sample = SAMPLES_65[0]\n",
    "\n",
    "sample_da0 = [s for s in SAMPLES if sample[0:13] in s and 'da0' in s][0]\n",
    "\n",
    "out_dir = f\"{HICCUPS_DIFF_DIR}/{sample_da0}_{sample}\"\n",
    "!mkdir {out_dir}\n",
    "with open(f\"{SCRIPT_DIR}/{sample_da0}_{sample}_hiccups_diff.sh\",\"w\") as bash_file:\n",
    "    bash_file.write(f\"#!/bin/bash \\n\\\n",
    "module load juicer \\n\\\n",
    "module load CUDA/8.0\\n\\\n",
    "/path/to/juicer_tools hiccupsdiff {JUICER_DIR}/{sample_da0}/aligned/inter_30.hic {JUICER_DIR}/{sample}/aligned/inter_30.hic {SAMPLES_DIR}/{sample_da0}.bedpe {SAMPLES_DIR}/{sample}.bedpe {out_dir}\")\n",
    "    bash_file.close()\n",
    "        \n"
   ]
  },
  {
   "cell_type": "code",
   "execution_count": null,
   "metadata": {},
   "outputs": [],
   "source": [
    "print(f\"sbatch -p gpu --mem=18g --gres=gpu:k80:1 --mail-type=ALL --time=2-0 {SCRIPT_DIR}/HICS_PPMI51971_9029_da0_v1_S7_HICS_PPMI51971_9029_da65_v1_S8_hiccups_diff.sh \\n\")"
   ]
  },
  {
   "cell_type": "markdown",
   "metadata": {},
   "source": [
    "## collect data"
   ]
  },
  {
   "cell_type": "code",
   "execution_count": null,
   "metadata": {},
   "outputs": [],
   "source": [
    "progression_df = pd.DataFrame()\n",
    "for i in range(0,len(SAMPLES_65)):\n",
    "    sample_da0 = [s for s in SAMPLES if SAMPLES_65[i][0:13] in s and 'da0' in s][0]\n",
    "    if(os.path.exists(f\"{HICCUPS_DIFF_DIR}/{sample_da0}_{SAMPLES_65[i]}/differential_loops1.bedpe\")):\n",
    "        \n",
    "        da0 = pd.read_csv(f\"{HICCUPS_DIFF_DIR}/{sample_da0}_{SAMPLES_65[i]}/differential_loops1.bedpe\",sep='\\t')\n",
    "        da0_diff_count = len(da0.index)\n",
    "        da65 = pd.read_csv(f\"{HICCUPS_DIFF_DIR}/{sample_da0}_{SAMPLES_65[i]}/differential_loops2.bedpe\",sep='\\t')\n",
    "        da65_diff_count = len(da65.index)\n",
    "    \n",
    "        da0_loop_count = len(pd.read_csv(f\"{SAMPLES_DIR}/{sample_da0}.bedpe\",sep='\\t').index)\n",
    "        da65_loop_count = len(pd.read_csv(f\"{SAMPLES_DIR}/{SAMPLES_65[i]}.bedpe\",sep='\\t').index)\n",
    "    \n",
    "        da0_diff_percent = da0_diff_count/da0_loop_count * 100\n",
    "        da65_diff_percent = da65_diff_count/da65_loop_count * 100\n",
    "    \n",
    "    \n",
    "        df = pd.DataFrame(data={'Sample':[SAMPLES_65[i][0:SAMPLES_65[i].find('da')-1]],'Day 0 Differential Loops':[da0_diff_count],'Day 0 total Loops':[da0_loop_count],'Day 0 Differential Loops Percent':[da0_diff_percent],'Day 65 Differential Loops':[da65_diff_count],'Day 65 total Loops':[da65_loop_count],'Day 65 Differential Loops Percent':[da65_diff_percent]})\n",
    "        progression_df = progression_df.append(df)\n",
    "print(progression_df)\n",
    "progression_df.to_csv(f\"{RESULTS_DIR}/hiccups_diff_progression.csv\", index=None)\n",
    "    "
   ]
  },
  {
   "cell_type": "markdown",
   "metadata": {},
   "source": [
    "## Validate\n",
    "check one to make sure it worked"
   ]
  },
  {
   "cell_type": "code",
   "execution_count": null,
   "metadata": {},
   "outputs": [],
   "source": [
    "[s for s in SAMPLES if 'HICS_PPMI3666_3014' in s]"
   ]
  },
  {
   "cell_type": "code",
   "execution_count": null,
   "metadata": {},
   "outputs": [],
   "source": [
    "progression_df[progression_df['Sample']=='HICS_PPMI3666_3014']"
   ]
  },
  {
   "cell_type": "code",
   "execution_count": null,
   "metadata": {},
   "outputs": [],
   "source": [
    "val_d0_dc = pd.read_csv(f\"{HICCUPS_DIFF_DIR}/HICS_PPMI3666_3014_da0_v1_S9_HICS_PPMI3666_3014_da65_v1_S4/differential_loops1.bedpe\",sep='\\t')\n",
    "print(val_d0_dc.shape)\n",
    "#print(val_d0_dc.head())"
   ]
  },
  {
   "cell_type": "code",
   "execution_count": null,
   "metadata": {},
   "outputs": [],
   "source": [
    "val_d0_l = pd.read_csv(f\"{SAMPLES_DIR}/HICS_PPMI3666_3014_da0_v1_S9.bedpe\",sep='\\t')\n",
    "print(val_d0_l.shape)\n",
    "#print(val_d0_l.head())"
   ]
  },
  {
   "cell_type": "code",
   "execution_count": null,
   "metadata": {},
   "outputs": [],
   "source": [
    "print(\"day 0 percent:\")\n",
    "print(len(val_d0_dc.index))\n",
    "print(len(val_d0_l.index))\n",
    "print(str(len(val_d0_dc.index)/len(val_d0_l.index)*100))"
   ]
  },
  {
   "cell_type": "code",
   "execution_count": null,
   "metadata": {},
   "outputs": [],
   "source": [
    "val_d65_dc = pd.read_csv(f\"{HICCUPS_DIFF_DIR}/HICS_PPMI3666_3014_da0_v1_S9_HICS_PPMI3666_3014_da65_v1_S4/differential_loops2.bedpe\",sep='\\t')\n",
    "print(val_d65_dc.shape)\n",
    "#print(val_d65_dc.head())"
   ]
  },
  {
   "cell_type": "code",
   "execution_count": null,
   "metadata": {},
   "outputs": [],
   "source": [
    "val_d65_l = pd.read_csv(f\"{SAMPLES_DIR}/HICS_PPMI3666_3014_da65_v1_S4.bedpe\",sep='\\t')\n",
    "print(val_d65_l.shape)\n",
    "#print(val_d65_l.head())"
   ]
  },
  {
   "cell_type": "code",
   "execution_count": null,
   "metadata": {},
   "outputs": [],
   "source": [
    "print(\"day 65 percent:\")\n",
    "print(len(val_d65_dc.index))\n",
    "print(len(val_d65_l.index))\n",
    "print(str(len(val_d65_dc.index)/len(val_d65_l.index)*100))"
   ]
  },
  {
   "cell_type": "markdown",
   "metadata": {},
   "source": [
    "make sure all the differential loops are in the original .bedpe and not in the other"
   ]
  },
  {
   "cell_type": "code",
   "execution_count": null,
   "metadata": {},
   "outputs": [],
   "source": [
    "#check differential day0 loops in day0 sample bedpe\n",
    "print(val_d0_dc.shape)\n",
    "print(val_d0_l.shape)\n",
    "\n",
    "print(pd.merge(val_d0_dc, val_d0_l, on=['chr1','x1','x2','chr2','y1','y2'],how='inner').shape)"
   ]
  },
  {
   "cell_type": "code",
   "execution_count": null,
   "metadata": {},
   "outputs": [],
   "source": [
    "#check differential day65 loops in day65 sample bedpe\n",
    "print(val_d65_dc.shape)\n",
    "print(val_d65_l.shape)\n",
    "\n",
    "print(pd.merge(val_d65_dc, val_d65_l, on=['chr1','x1','x2','chr2','y1','y2'],how='inner').shape)"
   ]
  },
  {
   "cell_type": "code",
   "execution_count": null,
   "metadata": {},
   "outputs": [],
   "source": [
    "#check differential day0 loops are not in day65 sample bedpe\n",
    "print(val_d0_dc.shape)\n",
    "print(val_d65_l.shape)\n",
    "\n",
    "print(pd.merge(val_d0_dc, val_d65_l, on=['chr1','x1','x2','chr2','y1','y2'],how='inner').shape)"
   ]
  },
  {
   "cell_type": "code",
   "execution_count": null,
   "metadata": {},
   "outputs": [],
   "source": [
    "#check differential day65 loops are not in day0 sample bedpe\n",
    "print(val_d65_dc.shape)\n",
    "print(val_d0_l.shape)\n",
    "\n",
    "print(pd.merge(val_d65_dc, val_d0_l, on=['chr1','x1','x2','chr2','y1','y2'],how='inner').shape)"
   ]
  },
  {
   "cell_type": "code",
   "execution_count": null,
   "metadata": {},
   "outputs": [],
   "source": [
    "#check differential day0 loops are not in the differential day65 loops\n",
    "print(val_d0_dc.shape)\n",
    "print(val_d65_dc.shape)\n",
    "\n",
    "print(pd.merge(val_d0_dc, val_d65_dc, on=['chr1','x1','x2','chr2','y1','y2'],how='inner').shape)"
   ]
  },
  {
   "cell_type": "code",
   "execution_count": null,
   "metadata": {},
   "outputs": [],
   "source": []
  }
 ],
 "metadata": {
  "kernelspec": {
   "display_name": "Python 3",
   "language": "python",
   "name": "python3"
  },
  "language_info": {
   "codemirror_mode": {
    "name": "ipython",
    "version": 3
   },
   "file_extension": ".py",
   "mimetype": "text/x-python",
   "name": "python",
   "nbconvert_exporter": "python",
   "pygments_lexer": "ipython3",
   "version": "3.6.7"
  }
 },
 "nbformat": 4,
 "nbformat_minor": 4
}
