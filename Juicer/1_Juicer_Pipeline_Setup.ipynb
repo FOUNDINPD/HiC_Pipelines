{
 "cells": [
  {
   "cell_type": "markdown",
   "metadata": {},
   "source": [
    "# Basic Setup to Run Juicer on Biowulf\n",
    "- **Author** - Frank Grenn\n",
    "- **Date Started** - October 2019\n",
    "- **Quick Description:** basic setup to run juicer pipeline on biowulf. "
   ]
  },
  {
   "cell_type": "code",
   "execution_count": null,
   "metadata": {},
   "outputs": [],
   "source": [
    "import os\n",
    "import subprocess"
   ]
  },
  {
   "cell_type": "code",
   "execution_count": null,
   "metadata": {},
   "outputs": [],
   "source": []
  },
  {
   "cell_type": "code",
   "execution_count": null,
   "metadata": {},
   "outputs": [],
   "source": [
    "#these paths and files need to already exist\n",
    "FASTQDIR = \"/path/to/the/fastqs\" #location of the combined lane fastqs. Each sample should have folder named after itself containing the two read fastqs\n",
    "WRKDIR=\"/path/to/juicer/output/directory\" #folder that will contain a folder for each sample's output\n",
    "REF_GENOME_FASTA=\"/path/to/Homo_sapiens_assembly38.fasta\" #pulled down from gs://broad-references/hg38/v0/Homo_sapiens_assembly38.fasta\n",
    "MAIN_JUICER_SCRIPT=\"/path/to/custom/juicer.sh\" #modified version of the juicer script. Can use the default one provided on biowulf as well\n",
    "CHROM_SIZES=\"/path/to/chrom.sizes\"\n",
    "RESTRICTION_ENZYME_FILE=\"/path/to/hg38_MboI.txt\"\n"
   ]
  },
  {
   "cell_type": "markdown",
   "metadata": {},
   "source": [
    "Setup directories per sample"
   ]
  },
  {
   "cell_type": "code",
   "execution_count": null,
   "metadata": {},
   "outputs": [],
   "source": [
    "sample_directories = [ name for name in os.listdir(FASTQDIR) if os.path.isdir(os.path.join(FASTQDIR, name)) and \"HICS\" in name]\n",
    "print(len(sample_directories))\n",
    "print(sample_directories)"
   ]
  },
  {
   "cell_type": "code",
   "execution_count": null,
   "metadata": {},
   "outputs": [],
   "source": [
    "for sample in sample_directories:\n",
    "    !mkdir {WRKDIR}/{sample}\n",
    "    !mkdir {WRKDIR}/{sample}/fastq\n",
    "    !ln -s {FASTQDIR}/{sample}/{sample}_R1_001.fastq.gz {WRKDIR}/{sample}/fastq\n",
    "    !ln -s {FASTQDIR}/{sample}/{sample}_R2_001.fastq.gz {WRKDIR}/{sample}/fastq"
   ]
  },
  {
   "cell_type": "markdown",
   "metadata": {},
   "source": [
    "go to the sample folder containing the fastq folder created above and run output from the following line to run that sample through the juicer pipeline:"
   ]
  },
  {
   "cell_type": "code",
   "execution_count": null,
   "metadata": {},
   "outputs": [],
   "source": [
    "print(f\"{MAIN_JUICER_SCRIPT} -z {REF_GENOME_FASTA} -p {CHROM_SIZES} -y {RESTRICTION_ENZYME_FILE}\")"
   ]
  }
 ],
 "metadata": {
  "kernelspec": {
   "display_name": "Python 3",
   "language": "python",
   "name": "python3"
  },
  "language_info": {
   "codemirror_mode": {
    "name": "ipython",
    "version": 3
   },
   "file_extension": ".py",
   "mimetype": "text/x-python",
   "name": "python",
   "nbconvert_exporter": "python",
   "pygments_lexer": "ipython3",
   "version": "3.6.7"
  }
 },
 "nbformat": 4,
 "nbformat_minor": 4
}
